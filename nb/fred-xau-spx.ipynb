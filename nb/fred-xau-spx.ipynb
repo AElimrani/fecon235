{
 "metadata": {
  "name": "",
  "signature": "sha256:6fe1cbb7e12799f4f8cb8a5043a88bd3abd9d89494563be0e32f6ef7a4e89775"
 },
 "nbformat": 3,
 "nbformat_minor": 0,
 "worksheets": [
  {
   "cells": [
    {
     "cell_type": "heading",
     "level": 1,
     "metadata": {},
     "source": [
      "Gold v. SP500 returns"
     ]
    },
    {
     "cell_type": "markdown",
     "metadata": {},
     "source": [
      "Long-term comparison since 1970, including boxplot."
     ]
    },
    {
     "cell_type": "markdown",
     "metadata": {},
     "source": [
      "*Dependencies:*\n",
      "     - Linux, bash\n",
      "     - Python: matplotlib, pandas\n",
      "     - Modules: yi_1tools, yi_fred, yi_plot\n",
      "     \n",
      "*CHANGE LOG*\n",
      "\n",
      "    2014-08-05  Uses new boxplot routine with paste of dataframes."
     ]
    },
    {
     "cell_type": "code",
     "collapsed": false,
     "input": [
      "#  PREPARE notebook, show prequisites, admin details:\n",
      "\n",
      "#  Automatically reload modified modules:\n",
      "%load_ext autoreload\n",
      "%autoreload 2\n",
      "#  Generate plots inside notebook:\n",
      "%matplotlib inline\n",
      "\n",
      "#  Assuming Linux behind the scene...\n",
      "print '\\n ::  TIMESTAMP of last execution:'\n",
      "!date\n",
      "print '\\n ::  Working directory:'\n",
      "!pwd"
     ],
     "language": "python",
     "metadata": {},
     "outputs": [
      {
       "output_type": "stream",
       "stream": "stdout",
       "text": [
        "\n",
        " ::  TIMESTAMP of last execution:\n",
        "Wed Aug  6 07:41:30 PDT 2014\r\n"
       ]
      },
      {
       "output_type": "stream",
       "stream": "stdout",
       "text": [
        "\n",
        " ::  Working directory:\n",
        "/home/yaya/net/ipy/01-act\r\n"
       ]
      }
     ],
     "prompt_number": 1
    },
    {
     "cell_type": "code",
     "collapsed": false,
     "input": [
      "#  Some useful modules:       [ ] - print out EOF for reference.\n",
      "from yi_1tools import *\n",
      "from yi_fred import *\n",
      "from yi_plot import *"
     ],
     "language": "python",
     "metadata": {},
     "outputs": [],
     "prompt_number": 2
    },
    {
     "cell_type": "code",
     "collapsed": false,
     "input": [
      "sp = getfred(d4spx)"
     ],
     "language": "python",
     "metadata": {},
     "outputs": [
      {
       "output_type": "stream",
       "stream": "stdout",
       "text": [
        " ::  S&P 500 prepend successfully goes back to 1957.\n"
       ]
      }
     ],
     "prompt_number": 3
    },
    {
     "cell_type": "code",
     "collapsed": false,
     "input": [
      "au = getfred(d4xau)"
     ],
     "language": "python",
     "metadata": {},
     "outputs": [],
     "prompt_number": 4
    },
    {
     "cell_type": "code",
     "collapsed": false,
     "input": [
      "assets = paste( [au, sp])"
     ],
     "language": "python",
     "metadata": {},
     "outputs": [],
     "prompt_number": 5
    },
    {
     "cell_type": "code",
     "collapsed": false,
     "input": [
      "assets.columns = ['Au', 'SP']"
     ],
     "language": "python",
     "metadata": {},
     "outputs": [],
     "prompt_number": 6
    },
    {
     "cell_type": "code",
     "collapsed": false,
     "input": [
      "returns = pcent( assets, 256 )"
     ],
     "language": "python",
     "metadata": {},
     "outputs": [],
     "prompt_number": 8
    },
    {
     "cell_type": "heading",
     "level": 3,
     "metadata": {},
     "source": [
      "We can explore returns as far back as 1969-07-01, or any sub-section in time. The gold bubble crashes to its low point around 1982-03-19."
     ]
    },
    {
     "cell_type": "code",
     "collapsed": false,
     "input": [
      "subret = returns['1969-07-01':]"
     ],
     "language": "python",
     "metadata": {},
     "outputs": [],
     "prompt_number": 35
    },
    {
     "cell_type": "code",
     "collapsed": false,
     "input": [
      "boxplot(subret, 'AU vs SP')"
     ],
     "language": "python",
     "metadata": {},
     "outputs": [
      {
       "metadata": {},
       "output_type": "display_data",
       "png": "[encoded data removed]",
       "text": [
        "<matplotlib.figure.Figure at 0xad03efec>"
       ]
      },
      {
       "output_type": "stream",
       "stream": "stdout",
       "text": [
        " ::  Finished: boxplot-AU_vs_SP.png\n"
       ]
      }
     ],
     "prompt_number": 36
    },
    {
     "cell_type": "code",
     "collapsed": false,
     "input": [
      "stats(subret)"
     ],
     "language": "python",
     "metadata": {},
     "outputs": [
      {
       "output_type": "stream",
       "stream": "stdout",
       "text": [
        "                 Au            SP\n",
        "count  11766.000000  11766.000000\n",
        "mean      10.816168      7.895057\n",
        "std       28.404758     16.847888\n",
        "min      -41.473587    -48.779458\n",
        "25%       -6.823663     -2.299906\n",
        "50%        5.397748      9.632478\n",
        "75%       22.481215     19.499749\n",
        "max      261.010830     65.300874\n",
        "\n",
        " ::  Index on min:\n",
        "Au   1982-03-19\n",
        "SP   2008-11-20\n",
        "dtype: datetime64[ns]\n",
        "\n",
        " ::  Index on max:\n",
        "Au   1980-01-21\n",
        "SP   2010-03-02\n",
        "dtype: datetime64[ns]\n",
        "\n",
        " ::  Tail:\n",
        "                  Au         SP\n",
        "T                              \n",
        "2014-07-28 -0.362803  15.748068\n",
        "2014-07-29 -0.421537  15.394754\n",
        "2014-07-30  1.093323  16.066032\n",
        "2014-07-31  0.214425  14.179347\n",
        "2014-08-01 -0.539187  13.412235\n",
        "2014-08-04 -1.413293  14.636814\n",
        "2014-08-05 -4.194631  13.657538\n"
       ]
      }
     ],
     "prompt_number": 37
    },
    {
     "cell_type": "heading",
     "level": 4,
     "metadata": {},
     "source": [
      "We expect practically zero correlation between gold and U.S. equities."
     ]
    },
    {
     "cell_type": "code",
     "collapsed": false,
     "input": [
      "stat2(subret['Au'], subret['SP'])"
     ],
     "language": "python",
     "metadata": {},
     "outputs": [
      {
       "output_type": "stream",
       "stream": "stdout",
       "text": [
        " ::  FIRST variable:\n",
        "count    11766.000000\n",
        "mean        10.816168\n",
        "std         28.404758\n",
        "min        -41.473587\n",
        "25%         -6.823663\n",
        "50%          5.397748\n",
        "75%         22.481215\n",
        "max        261.010830\n",
        "dtype: float64\n",
        "\n",
        " ::  SECOND variable:\n"
       ]
      },
      {
       "output_type": "stream",
       "stream": "stdout",
       "text": [
        "count    11766.000000\n",
        "mean         7.895057\n",
        "std         16.847888\n",
        "min        -48.779458\n",
        "25%         -2.299906\n",
        "50%          9.632478\n",
        "75%         19.499749\n",
        "max         65.300874\n",
        "dtype: float64\n",
        "\n",
        " ::  CORRELATION\n",
        "-0.100775023316\n",
        "\n",
        "-------------------------Summary of Regression Analysis-------------------------\n",
        "\n",
        "Formula: Y ~ <x> + <intercept>\n",
        "\n",
        "Number of Observations:         11766\n",
        "Number of Degrees of Freedom:   2\n",
        "\n",
        "R-squared:         0.0102\n",
        "Adj R-squared:     0.0101\n",
        "\n",
        "Rmse:             28.2614\n",
        "\n",
        "F-stat (1, 11764):   120.6963, p-value:     0.0000\n",
        "\n",
        "Degrees of Freedom: model 1, resid 11764\n",
        "\n",
        "-----------------------Summary of Estimated Coefficients------------------------\n",
        "      Variable       Coef    Std Err     t-stat    p-value    CI 2.5%   CI 97.5%\n",
        "--------------------------------------------------------------------------------\n",
        "             x    -0.1699     0.0155     -10.99     0.0000    -0.2002    -0.1396\n",
        "     intercept    12.1576     0.2877      42.25     0.0000    11.5936    12.7215\n",
        "---------------------------------End of Summary---------------------------------\n"
       ]
      },
      {
       "output_type": "stream",
       "stream": "stdout",
       "text": [
        "\n"
       ]
      }
     ],
     "prompt_number": 38
    },
    {
     "cell_type": "code",
     "collapsed": false,
     "input": [],
     "language": "python",
     "metadata": {},
     "outputs": [],
     "prompt_number": 38
    }
   ],
   "metadata": {}
  }
 ]
}