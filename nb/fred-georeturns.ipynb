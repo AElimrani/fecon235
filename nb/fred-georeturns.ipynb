{
 "metadata": {
  "name": "",
  "signature": "sha256:20e789e83c7ada04adf9f3bb7fa4c8b3c02f16b8af768660fd8e473e0f4ce0e7"
 },
 "nbformat": 3,
 "nbformat_minor": 0,
 "worksheets": [
  {
   "cells": [
    {
     "cell_type": "heading",
     "level": 1,
     "metadata": {},
     "source": [
      "Geometric mean returns on FRED series"
     ]
    },
    {
     "cell_type": "markdown",
     "metadata": {},
     "source": [
      "includes economic and financial time series for monthly data, where Holt-Winters used to forecast one-year ahead. Then examine daily data for bonds, equity, and gold."
     ]
    },
    {
     "cell_type": "markdown",
     "metadata": {},
     "source": [
      "*Dependencies:*\n",
      "\n",
      "     - Linux, bash\n",
      "     - Python: matplotlib, pandas\n",
      "     - Modules: yi_1tool, yi_plot, yi_timeseries, yi_fred\n",
      "     \n",
      "*CHANGE LOG*\n",
      "\n",
      "    2014-10-11  Code review. Grab 2014-09-28 template features.\n",
      "    2014-09-01  First version."
     ]
    },
    {
     "cell_type": "code",
     "collapsed": false,
     "input": [
      "#  NOTEBOOK settings and system details:\n",
      "\n",
      "#  Assume that the backend is LINUX (our particular distro is Ubuntu, running bash shell):\n",
      "print '\\n ::  TIMESTAMP of last notebook execution:'\n",
      "!date\n",
      "print '\\n ::  IPython version:'\n",
      "!ipython --version\n",
      "\n",
      "#  Automatically reload modified modules:\n",
      "%load_ext autoreload\n",
      "%autoreload 2   #  0 will disable autoreload.\n",
      "#  Generate plots inside notebook:\n",
      "%matplotlib inline\n",
      "\n",
      "#  DISPLAY options\n",
      "from IPython.display import Image \n",
      "#  e.g. Image(filename='holt-winters-equations.png', embed=True)\n",
      "from IPython.display import YouTubeVideo\n",
      "#  e.g. YouTubeVideo('1j_HxD4iLn8')\n",
      "from IPython.display import HTML # useful for snippets\n",
      "#  e.g. HTML('<iframe src=http://en.mobile.wikipedia.org/?useformat=mobile width=700 height=350></iframe>')\n",
      "import pandas as pd\n",
      "print '\\n ::  pandas version:'\n",
      "print pd.__version__\n",
      "#      pandas DataFrames are represented as text by default; enable HTML representation:\n",
      "#      [Deprecated: pd.core.format.set_printoptions( notebook_repr_html=True ) ]\n",
      "pd.set_option( 'display.notebook_repr_html', False )\n",
      "\n",
      "#  MATH display, use %%latex, rather than the following:\n",
      "#                from IPython.display import Math\n",
      "#                from IPython.display import Latex\n",
      "\n",
      "print '\\n ::  Working directory (set as $workd):'\n",
      "workd, = !pwd\n",
      "print workd + '\\n'"
     ],
     "language": "python",
     "metadata": {},
     "outputs": [
      {
       "output_type": "stream",
       "stream": "stdout",
       "text": [
        "\n",
        " ::  TIMESTAMP of last notebook execution:\n"
       ]
      },
      {
       "output_type": "stream",
       "stream": "stdout",
       "text": [
        "Sun Oct 12 10:35:30 PDT 2014\r\n"
       ]
      },
      {
       "output_type": "stream",
       "stream": "stdout",
       "text": [
        "\n",
        " ::  IPython version:\n"
       ]
      },
      {
       "output_type": "stream",
       "stream": "stdout",
       "text": [
        "2.3.0"
       ]
      },
      {
       "output_type": "stream",
       "stream": "stdout",
       "text": [
        "\r\n"
       ]
      },
      {
       "output_type": "stream",
       "stream": "stdout",
       "text": [
        "The autoreload extension is already loaded. To reload it, use:\n",
        "  %reload_ext autoreload\n",
        "\n",
        " ::  pandas version:\n",
        "0.14.1\n",
        "\n",
        " ::  Working directory (set as $workd):\n"
       ]
      },
      {
       "output_type": "stream",
       "stream": "stdout",
       "text": [
        "/home/yaya/net/ipy/01-act\n",
        "\n"
       ]
      }
     ],
     "prompt_number": 30
    },
    {
     "cell_type": "code",
     "collapsed": false,
     "input": [
      "#  Some useful modules:       [ ] - print out EOF for reference.\n",
      "from yi_1tools import *\n",
      "from yi_plot import *\n",
      "from yi_timeseries import *\n",
      "from yi_fred import *"
     ],
     "language": "python",
     "metadata": {},
     "outputs": [],
     "prompt_number": 31
    },
    {
     "cell_type": "heading",
     "level": 2,
     "metadata": {},
     "source": [
      "We examine inflation (aggregated), bonds (zero coupon equivalent of 10-y Treasury), equities (S&P 500), and gold -- all denominated in US dollars -- then lastly real trade-weighted USD index and home prices, all monthly data."
     ]
    },
    {
     "cell_type": "heading",
     "level": 5,
     "metadata": {},
     "source": [
      "Home prices will create a 3-month lag, due to their release cycle."
     ]
    },
    {
     "cell_type": "code",
     "collapsed": false,
     "input": [
      "#  Specify monthly series of interest:\n",
      "ms = [m4infl, m4zero10, m4spx, m4xau, m4usdrtb, m4homepx]\n",
      "names = ['Infl', 'Zero10', 'SPX', 'XAU', 'USD', 'Homes']\n",
      "\n",
      "#  Download into a dictionary:\n",
      "msd = {}\n",
      "for i in ms:\n",
      "    msd[i] = getfred(i)"
     ],
     "language": "python",
     "metadata": {},
     "outputs": [
      {
       "output_type": "stream",
       "stream": "stdout",
       "text": [
        " ::  S&P 500 prepend successfully goes back to 1957.\n",
        " ::  Case-Shiller prepend successfully goes back to 1987."
       ]
      },
      {
       "output_type": "stream",
       "stream": "stdout",
       "text": [
        "\n"
       ]
      }
     ],
     "prompt_number": 32
    },
    {
     "cell_type": "markdown",
     "metadata": {},
     "source": [
      "After downloading the level series, we compute the YoY percentage change for each series. **This will be the a trailing 12-month statistic, thus it's overlapping.**"
     ]
    },
    {
     "cell_type": "code",
     "collapsed": false,
     "input": [
      "#  Compute the YoY percentage change:\n",
      "msdc = {}\n",
      "for i in ms:\n",
      "    msdc[i] = pcent(msd[i], 12)"
     ],
     "language": "python",
     "metadata": {},
     "outputs": [],
     "prompt_number": 33
    },
    {
     "cell_type": "code",
     "collapsed": false,
     "input": [
      "#  Construct the mega YoY dataframe:\n",
      "mega = paste( [ msdc[i] for i in ms ] )\n",
      "#  Give names to the columns for mega:\n",
      "mega.columns = names"
     ],
     "language": "python",
     "metadata": {},
     "outputs": [],
     "prompt_number": 34
    },
    {
     "cell_type": "heading",
     "level": 2,
     "metadata": {},
     "source": [
      "Focus on relatively long term for monthly data"
     ]
    },
    {
     "cell_type": "code",
     "collapsed": false,
     "input": [
      "#  Start time given by t0\n",
      "t0 = '1988'"
     ],
     "language": "python",
     "metadata": {},
     "outputs": [],
     "prompt_number": 47
    },
    {
     "cell_type": "code",
     "collapsed": false,
     "input": [
      "stats(mega[t0:])"
     ],
     "language": "python",
     "metadata": {},
     "outputs": [
      {
       "output_type": "stream",
       "stream": "stdout",
       "text": [
        "             Infl      Zero10         SPX         XAU         USD       Homes\n",
        "count  319.000000  319.000000  319.000000  319.000000  319.000000  319.000000\n",
        "mean     2.454565    2.158806    8.616917    5.220641   -0.428410    3.860697\n",
        "std      0.996510    7.535841   16.593529   15.611472    4.927335    8.189221\n",
        "min     -0.171198  -18.521264  -42.349361  -27.752361  -10.580288  -18.906156\n",
        "25%      1.720445   -3.259381    2.012961   -5.877012   -3.946192   -1.404142\n",
        "50%      2.368602    2.855624   10.553652    2.264042   -0.512908    3.948298\n",
        "75%      2.908508    7.762163   20.068910   14.823294    2.461981   10.754620\n",
        "max      5.239702   20.492399   52.051354   60.357143   14.505279   17.077118\n",
        "\n",
        " ::  Index on min:\n",
        "Infl     2009-07-01\n",
        "Zero10   1994-10-01\n",
        "SPX      2009-03-01\n",
        "XAU      2013-12-01\n",
        "USD      2008-03-01\n",
        "Homes    2009-01-01\n",
        "dtype: datetime64[ns]\n",
        "\n",
        " ::  Index on max:\n",
        "Infl     1990-10-01\n",
        "Zero10   1996-01-01\n",
        "SPX      2010-03-01\n",
        "XAU      2006-05-01\n",
        "USD      2009-03-01\n",
        "Homes    2004-07-01\n",
        "dtype: datetime64[ns]\n",
        "\n",
        " ::  Head:\n",
        "                Infl     Zero10        SPX        XAU       USD      Homes\n",
        "T                                                                         \n",
        "1988-01-01  3.985042 -12.661625  -6.207571  17.042392 -9.836868  12.139461\n",
        "1988-02-01  3.877358  -8.068941  -8.186030   9.982617 -8.633477  11.661442\n",
        "1988-03-01  3.926046  -9.248410  -8.156954   8.841782 -9.393214  11.345646\n",
        "1988-04-01  3.993927  -5.477528  -8.960111   2.878355 -8.283502  10.974485\n",
        "1988-05-01  4.018772  -4.487925 -11.871026  -1.578661 -7.507266  10.543908\n",
        "1988-06-01  4.130764  -4.738070 -10.689462   0.022137 -7.401580  10.559567\n",
        "1988-07-01  4.277337  -5.671538 -12.487441  -3.115990 -6.469468  10.756853\n",
        "\n",
        " ::  Tail:\n",
        "                Infl    Zero10        SPX        XAU       USD      Homes\n",
        "T                                                                        \n",
        "2014-01-01  1.412399 -8.232444  24.776081 -25.538600  2.992803  13.230437\n",
        "2014-02-01  1.213319 -6.178254  20.981559 -19.065162  2.058425  12.732237\n",
        "2014-03-01  1.410361 -6.676224  20.228280 -16.201818  1.388987  12.445902\n",
        "2014-04-01  1.688802 -8.197704  18.976953 -11.647679  1.560270  10.846253\n",
        "2014-05-01  1.813733 -5.178733  14.364391  -8.404255  0.770724   9.305893\n",
        "2014-06-01  1.775700 -3.394733  20.047157  -7.889010  0.122155   7.950877\n",
        "2014-07-01  1.729873  0.265808  17.473273   1.945525 -0.710496   6.737544"
       ]
      },
      {
       "output_type": "stream",
       "stream": "stdout",
       "text": [
        "\n",
        "\n",
        " ::  Correlation matrix:\n",
        "            Infl    Zero10       SPX       XAU       USD     Homes\n",
        "Infl    1.000000 -0.045645 -0.007667 -0.096961 -0.279732  0.008137\n",
        "Zero10 -0.045645  1.000000 -0.140173  0.004970  0.203607 -0.297454\n",
        "SPX    -0.007667 -0.140173  1.000000 -0.207929 -0.058422  0.247511\n",
        "XAU    -0.096961  0.004970 -0.207929  1.000000 -0.509248 -0.244812\n",
        "USD    -0.279732  0.203607 -0.058422 -0.509248  1.000000  0.038187\n",
        "Homes   0.008137 -0.297454  0.247511 -0.244812  0.038187  1.000000"
       ]
      },
      {
       "output_type": "stream",
       "stream": "stdout",
       "text": [
        "\n"
       ]
      }
     ],
     "prompt_number": 36
    },
    {
     "cell_type": "heading",
     "level": 3,
     "metadata": {},
     "source": [
      "As shown, there is not much correlation among our assets, except a mild negative between Zero10 and SPX. Next, the boxplot gives us an idea of the range of returns, and their persistence. It's a visual aid to the geometric mean returns which is most significant as investment metric."
     ]
    },
    {
     "cell_type": "code",
     "collapsed": false,
     "input": [
      "#  Overlapping YoY percentage change, recently:\n",
      "boxplot(mega[t0:], 'Assets YoY')\n"
     ],
     "language": "python",
     "metadata": {},
     "outputs": [
      {
       "metadata": {},
       "output_type": "display_data",
       "png": "[encoded data removed]",
       "text": [
        "<matplotlib.figure.Figure at 0xad3653cc>"
       ]
      },
      {
       "output_type": "stream",
       "stream": "stdout",
       "text": [
        " ::  Finished: boxplot-Assets_YoY.png\n"
       ]
      }
     ],
     "prompt_number": 37
    },
    {
     "cell_type": "heading",
     "level": 1,
     "metadata": {},
     "source": [
      "Geometric mean returns on non-overlapping periods."
     ]
    },
    {
     "cell_type": "code",
     "collapsed": false,
     "input": [
      "#  Geometric mean returns, non-overlapping, annualized:\n",
      "for i in range(len(ms)):\n",
      "    print names[i], georet(msd[ms[i]][t0:], 12)"
     ],
     "language": "python",
     "metadata": {},
     "outputs": [
      {
       "output_type": "stream",
       "stream": "stdout",
       "text": [
        "Infl [3.0, 3.01, 0.68, 12]\n"
       ]
      },
      {
       "output_type": "stream",
       "stream": "stdout",
       "text": [
        "Zero10 [2.06, 2.58, 10.2, 12]\n",
        "SPX "
       ]
      },
      {
       "output_type": "stream",
       "stream": "stdout",
       "text": [
        "[8.28, 9.12, 12.93, 12]\n",
        "XAU [1.73, 2.93, 15.44, 12]\n",
        "USD "
       ]
      },
      {
       "output_type": "stream",
       "stream": "stdout",
       "text": [
        "[-0.11, -0.01, 4.46, 12]\n",
        "Homes [3.6, 3.64, 2.57, 12]\n"
       ]
      }
     ],
     "prompt_number": 38
    },
    {
     "cell_type": "heading",
     "level": 3,
     "metadata": {},
     "source": [
      "Remember that the geometric returns does not include interest and dividend payouts for bonds and equities."
     ]
    },
    {
     "cell_type": "markdown",
     "metadata": {},
     "source": [
      "- 2014-09-01, georet since 2010\n",
      "    - Inflation at 1.7% which is below Fed target of 2%.\n",
      "    - Total return on bonds, approx 2.52 + 2.33 = 4.85%\n",
      "    - Total return on equity, approx. 11.9 + 2 = 13.9% -- very heated.\n",
      "    - Gold indecisive about breaking 1260 LTS.\n",
      "    - USD though at -0.69%, will strengthen given Draghi wanting weak EUR.\n",
      " \n",
      " \n",
      " - 2014-10-11, georet since 2004\n",
      "    - Inflation over ten years is running 2% annually.\n",
      "    - Gold dominates over ten years.\n",
      "    - Gold recently holds at 1180 triple local bottom.\n",
      "\n",
      "\n",
      " - 2014-10-12, georet since 1988\n",
      "    - Inflation in the long-run about 3% annually.\n",
      "    - Bond price alone increases 2% annually (excludes interest income).\n",
      "    - Gold at 1.73% does not keep up with inflation.\n",
      "    - USD at break-even over the long-run.\n",
      "    - Home prices have georet of 3.6%.\n",
      "    "
     ]
    },
    {
     "cell_type": "heading",
     "level": 1,
     "metadata": {},
     "source": [
      "FORECASTS using Holt-Winters"
     ]
    },
    {
     "cell_type": "code",
     "collapsed": false,
     "input": [
      "#  12-periods ahead forecasts use default alpha and beta values (robust update):\n",
      "for i in range(len(ms)):\n",
      "    print names[i] \n",
      "    print holtfred(msd[ms[i]], h=12)\n",
      "    #                  ^we use all available data to forecast\n",
      "    print '------------------------------------'"
     ],
     "language": "python",
     "metadata": {},
     "outputs": [
      {
       "output_type": "stream",
       "stream": "stdout",
       "text": [
        "Infl\n",
        "    Forecast\n",
        "0   1.000000\n",
        "1   1.002220\n",
        "2   1.003706\n",
        "3   1.005193\n",
        "4   1.006680\n",
        "5   1.008166\n",
        "6   1.009653\n",
        "7   1.011140\n",
        "8   1.012626\n",
        "9   1.014113\n",
        "10  1.015600\n",
        "11  1.017086\n",
        "12  1.018573"
       ]
      },
      {
       "output_type": "stream",
       "stream": "stdout",
       "text": [
        "\n",
        "------------------------------------\n",
        "Zero10\n",
        "     Forecast\n",
        "0   80.607478\n",
        "1   79.833521\n",
        "2   80.064427\n",
        "3   80.295333\n",
        "4   80.526239\n",
        "5   80.757145\n",
        "6   80.988051\n",
        "7   81.218957\n",
        "8   81.449863\n",
        "9   81.680769\n",
        "10  81.911675\n",
        "11  82.142581\n",
        "12  82.373487"
       ]
      },
      {
       "output_type": "stream",
       "stream": "stdout",
       "text": [
        "\n",
        "------------------------------------\n",
        "SPX\n",
        "       Forecast\n",
        "0   1946.170000\n",
        "1   2026.451516\n",
        "2   2045.800631\n",
        "3   2065.149747\n",
        "4   2084.498863\n",
        "5   2103.847978\n",
        "6   2123.197094\n",
        "7   2142.546209\n",
        "8   2161.895325\n",
        "9   2181.244440\n",
        "10  2200.593556\n",
        "11  2219.942672\n",
        "12  2239.291787"
       ]
      },
      {
       "output_type": "stream",
       "stream": "stdout",
       "text": [
        "\n",
        "------------------------------------\n",
        "XAU\n",
        "       Forecast\n",
        "0   1214.125000\n",
        "1   1234.026172\n",
        "2   1229.510897\n",
        "3   1224.995622\n",
        "4   1220.480346\n",
        "5   1215.965071\n",
        "6   1211.449796\n",
        "7   1206.934521\n",
        "8   1202.419246\n",
        "9   1197.903971\n",
        "10  1193.388696\n",
        "11  1188.873421\n",
        "12  1184.358146"
       ]
      },
      {
       "output_type": "stream",
       "stream": "stdout",
       "text": [
        "\n",
        "------------------------------------\n",
        "USD\n",
        "     Forecast\n",
        "0   85.471000\n",
        "1   85.489754\n",
        "2   85.515961\n",
        "3   85.542169\n",
        "4   85.568376\n",
        "5   85.594584\n",
        "6   85.620791\n",
        "7   85.646998\n",
        "8   85.673206\n",
        "9   85.699413\n",
        "10  85.725621\n",
        "11  85.751828\n",
        "12  85.778036"
       ]
      },
      {
       "output_type": "stream",
       "stream": "stdout",
       "text": [
        "\n",
        "------------------------------------\n",
        "Homes\n",
        "         Forecast\n",
        "0   202599.245412\n",
        "1   208276.110997\n",
        "2   209353.063697\n",
        "3   210430.016397\n",
        "4   211506.969097\n",
        "5   212583.921798\n",
        "6   213660.874498\n",
        "7   214737.827198\n",
        "8   215814.779898\n",
        "9   216891.732599\n",
        "10  217968.685299\n",
        "11  219045.637999\n",
        "12  220122.590699"
       ]
      },
      {
       "output_type": "stream",
       "stream": "stdout",
       "text": [
        "\n",
        "------------------------------------\n"
       ]
      }
     ],
     "prompt_number": 39
    },
    {
     "cell_type": "markdown",
     "metadata": {},
     "source": [
      "**Forecast log for monthly data**\n",
      "\n",
      "Changing *alpha* from 0.20 to 0.10 varies the forecast only slightly. The important parameter is *beta* to capture trend effects. But we now rely on settings for robustness.\n",
      "\n",
      "\n",
      "- 2014-09-01, Twelve-month Forecasts given data through 2014-07-01:\n",
      "    - Inflation at 1.44%.\n",
      "    - 10-y Bonds price -6.7%, thus rate +75 bp given zero10dur. \n",
      "    - SPX +16.6% to 2280.\n",
      "    - Gold tanks from 1286 to 1067. \n",
      "    - USD +1.4% broadly.\n",
      "\n",
      "\n",
      "- 2014-10-11, Twelve-month Forecasts given ten-year data, robust HW:\n",
      "    - Inflation at 1.9%\n",
      "    - Zero10 indicates slight downward pressure on interest rates.\n",
      "    - SPX to 2239, but market seems skeptical.\n",
      "    - Gold tanks to 1184 (region which we have seen just recently).\n",
      "    - USD definitely has an upward bias against all FX, even NZD and AUD.\n",
      "    - Home prices looking to increase from \\$203K to \\$220K \n"
     ]
    },
    {
     "cell_type": "heading",
     "level": 1,
     "metadata": {},
     "source": [
      "DAILY DATA"
     ]
    },
    {
     "cell_type": "heading",
     "level": 2,
     "metadata": {},
     "source": [
      "We examine bonds (zero coupon equivalent of 10-y Treasury), equities (S&P 500), and gold -- at higher frequency for most recent developments. [Inflation, USD, and homes data have a slow release schedule.] "
     ]
    },
    {
     "cell_type": "code",
     "collapsed": false,
     "input": [
      "#  Specify monthly series of interest:\n",
      "ds = [d4zero10, d4spx, d4xau]\n",
      "names = ['Zero10', 'SPX', 'XAU' ]\n",
      "\n",
      "#  Download into a dictionary:\n",
      "dsd = {}\n",
      "for i in ds:\n",
      "    dsd[i] = getfred(i)"
     ],
     "language": "python",
     "metadata": {},
     "outputs": [
      {
       "output_type": "stream",
       "stream": "stdout",
       "text": [
        " ::  S&P 500 prepend successfully goes back to 1957.\n"
       ]
      }
     ],
     "prompt_number": 40
    },
    {
     "cell_type": "code",
     "collapsed": false,
     "input": [
      "#  Compute the YoY percentage change:\n",
      "dsdc = {}\n",
      "for i in ds:\n",
      "    dsdc[i] = pcent(dsd[i], 256)"
     ],
     "language": "python",
     "metadata": {},
     "outputs": [],
     "prompt_number": 41
    },
    {
     "cell_type": "code",
     "collapsed": false,
     "input": [
      "#  Construct the YoY dataframe:\n",
      "dega = paste( [ dsdc[i] for i in ds ] )\n",
      "#  Give names to the columns for mega:\n",
      "dega.columns = names"
     ],
     "language": "python",
     "metadata": {},
     "outputs": [],
     "prompt_number": 42
    },
    {
     "cell_type": "code",
     "collapsed": false,
     "input": [
      "#  Really focus on the recent:\n",
      "u0 = '2010'"
     ],
     "language": "python",
     "metadata": {},
     "outputs": [],
     "prompt_number": 43
    },
    {
     "cell_type": "code",
     "collapsed": false,
     "input": [
      "#  Overlapping YoY percentage change, recently:\n",
      "boxplot(dega[u0:])"
     ],
     "language": "python",
     "metadata": {},
     "outputs": [
      {
       "metadata": {},
       "output_type": "display_data",
       "png": "[encoded data removed]",
       "text": [
        "<matplotlib.figure.Figure at 0xac24788c>"
       ]
      },
      {
       "output_type": "stream",
       "stream": "stdout",
       "text": [
        " ::  Finished: boxplot-tmp.png\n"
       ]
      }
     ],
     "prompt_number": 44
    },
    {
     "cell_type": "code",
     "collapsed": false,
     "input": [
      "#  Geometric mean returns, non-overlapping, annualized:\n",
      "for i in range(len(ds)):\n",
      "    print names[i], georet(dsd[ds[i]][u0:])"
     ],
     "language": "python",
     "metadata": {},
     "outputs": [
      {
       "output_type": "stream",
       "stream": "stdout",
       "text": [
        "Zero10 "
       ]
      },
      {
       "output_type": "stream",
       "stream": "stdout",
       "text": [
        "[2.74, 3.03, 7.54, 256]\n",
        "SPX "
       ]
      },
      {
       "output_type": "stream",
       "stream": "stdout",
       "text": [
        "[11.27, 12.55, 15.98, 256]\n",
        "XAU "
       ]
      },
      {
       "output_type": "stream",
       "stream": "stdout",
       "text": [
        "[2.35, 3.97, 17.96, 256]\n"
       ]
      }
     ],
     "prompt_number": 45
    },
    {
     "cell_type": "markdown",
     "metadata": {},
     "source": [
      "**Forecast log for daily data**\n",
      "\n",
      "Really near-term picture is too bright for SPX while XAU looks dark. Sell stocks, and start to accumulate gold."
     ]
    },
    {
     "cell_type": "code",
     "collapsed": false,
     "input": [
      "#  Lastly, as an appendix:\n",
      "stats(dega[u0:])"
     ],
     "language": "python",
     "metadata": {},
     "outputs": [
      {
       "output_type": "stream",
       "stream": "stdout",
       "text": [
        "            Zero10          SPX          XAU\n",
        "count  1245.000000  1245.000000  1245.000000\n",
        "mean      1.385369    15.735913     7.712312\n",
        "std       7.041807    10.380738    19.657048\n",
        "min     -13.248728    -5.657641   -29.210332\n",
        "25%      -5.402330     9.384296    -8.305369\n",
        "50%       2.137981    15.634337     7.849604\n",
        "75%       5.338480    21.047166    25.259229\n",
        "max      18.075299    65.300874    52.361809\n",
        "\n",
        " ::  Index on min:\n",
        "Zero10   2010-01-07\n",
        "SPX      2011-10-03\n",
        "XAU      2013-12-26\n",
        "dtype: datetime64[ns]\n",
        "\n",
        " ::  Index on max:\n",
        "Zero10   2012-02-01\n",
        "SPX      2010-03-02\n",
        "XAU      2011-09-06\n",
        "dtype: datetime64[ns]\n",
        "\n",
        " ::  Head:\n",
        "               Zero10        SPX        XAU\n",
        "T                                          \n",
        "2010-01-01 -11.463243  22.574830  27.081507\n",
        "2010-01-04 -11.776234  27.252204  32.369431\n",
        "2010-01-05 -11.858700  30.595454  35.822249\n",
        "2010-01-06 -12.554147  30.437376  36.721113\n",
        "2010-01-07 -13.248728  35.492867  37.583688\n",
        "2010-01-08 -13.173018  35.702942  39.104938\n",
        "2010-01-11 -12.321456  34.919776  38.290855\n",
        "\n",
        " ::  Tail:\n",
        "              Zero10        SPX       XAU\n",
        "T                                        \n",
        "2014-10-01  2.146622  17.560784 -8.499436\n",
        "2014-10-02  2.146408  17.493963 -7.074387\n",
        "2014-10-03  2.327109  16.267666 -7.970735\n",
        "2014-10-06  2.417868  15.360498 -5.511655\n",
        "2014-10-07  3.054745  13.154479 -5.834306\n",
        "2014-10-08  3.603062  15.949378 -4.210941\n",
        "2014-10-09  3.146226  12.004949 -3.670985\n",
        "\n",
        " ::  Correlation matrix:\n",
        "          Zero10       SPX       XAU\n",
        "Zero10  1.000000 -0.756816  0.491575\n",
        "SPX    -0.756816  1.000000 -0.193330\n",
        "XAU     0.491575 -0.193330  1.000000"
       ]
      },
      {
       "output_type": "stream",
       "stream": "stdout",
       "text": [
        "\n"
       ]
      }
     ],
     "prompt_number": 46
    },
    {
     "cell_type": "code",
     "collapsed": false,
     "input": [],
     "language": "python",
     "metadata": {},
     "outputs": [],
     "prompt_number": 46
    }
   ],
   "metadata": {}
  }
 ]
}