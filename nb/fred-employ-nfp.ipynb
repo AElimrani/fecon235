{
 "cells": [
  {
   "cell_type": "markdown",
   "metadata": {},
   "source": [
    "# Employment data\n",
    "\n",
    "We examine U.S. employment data, especially \n",
    "**Nonfarm Payroll** which has considerable influence \n",
    "in financial markets. By constructing models, \n",
    "we derive error bounds for forecasting NFP."
   ]
  },
  {
   "cell_type": "markdown",
   "metadata": {},
   "source": [
    "*Dependencies:*\n",
    "\n",
    "    - Linux, bash [not critical, generally cross-platform]\n",
    "    - Python: matplotlib, pandas [recommend Anaconda distribution]\n",
    "    - Modules: yi_1tools, yi_plot, yi_timeseries, yi_fred\n",
    "     \n",
    "*CHANGE LOG*\n",
    "\n",
    "    2015-11-12  Preliminary draft."
   ]
  },
  {
   "cell_type": "code",
   "execution_count": null,
   "metadata": {
    "collapsed": false
   },
   "outputs": [],
   "source": [
    "#  NOTEBOOK v4 settings and system details:      [00-tpl v4.15.0812]\n",
    "\n",
    "#  Assume that the backend is LINUX (e.g. Ubuntu running bash shell):\n",
    "print '\\n ::  TIMESTAMP of last notebook execution:'\n",
    "!date\n",
    "print ' ::  IPython version:'\n",
    "!ipython --version\n",
    "\n",
    "#  Automatically RELOAD modified modules:\n",
    "%load_ext autoreload\n",
    "%autoreload 2\n",
    "#           0 disables autoreload.\n",
    "\n",
    "#  DISPLAY options\n",
    "from IPython.display import Image \n",
    "#  e.g. Image(filename='holt-winters-equations.png', embed=True) # url= also works\n",
    "from IPython.display import YouTubeVideo\n",
    "#  e.g. YouTubeVideo('1j_HxD4iLn8', start='43', width=600, height=400)\n",
    "from IPython.display import HTML # useful for snippets\n",
    "#  e.g. HTML('<iframe src=http://en.mobile.wikipedia.org/?useformat=mobile width=700 height=350></iframe>')\n",
    "from IPython.core import page\n",
    "get_ipython().set_hook('show_in_pager', page.as_hook(page.display_page), 0)\n",
    "#  Or equivalently in config file: \"InteractiveShell.display_page = True\", \n",
    "#  which will display results in secondary notebook pager frame in a cell.\n",
    "\n",
    "#  MATH display, use %%latex, rather than the following:\n",
    "#                from IPython.display import Math\n",
    "#                from IPython.display import Latex\n",
    "#  Generate PLOTS inside notebook:\n",
    "%matplotlib inline\n",
    "\n",
    "import pandas as pd\n",
    "print ' ::  pandas version:'\n",
    "print pd.__version__\n",
    "#      pandas DataFrames are represented as text by default; enable HTML representation:\n",
    "#      [Deprecated: pd.core.format.set_printoptions( notebook_repr_html=True ) ]\n",
    "pd.set_option( 'display.notebook_repr_html', False )\n",
    "\n",
    "print ' ::  Working directory (set as $workd):'\n",
    "workd, = !pwd\n",
    "print workd + '\\n'"
   ]
  },
  {
   "cell_type": "code",
   "execution_count": null,
   "metadata": {
    "collapsed": false
   },
   "outputs": [],
   "source": [
    "from fecon import *"
   ]
  },
  {
   "cell_type": "markdown",
   "metadata": {
    "collapsed": true
   },
   "source": [
    "## Notes on NFP\n",
    "\n",
    "FRED states: \"Total **Nonfarm Payroll** is a measure of the number of \n",
    "U.S. workers in the economy that *excludes proprietors, private household \n",
    "employees, unpaid volunteers, farm employees, and the unincorporated self-employed*. \n",
    "This measure accounts for approximately 80 percent of the workers who \n",
    "contribute to Gross Domestic Product (GDP).\n",
    "\n",
    "This measure provides useful insights into the current economic situation \n",
    "because it can represent the number of jobs added or lost in an economy. \n",
    "Increases in employment might indicate that businesses are hiring which \n",
    "might also suggest that businesses are growing. Additionally, those who \n",
    "are newly employed have increased their personal incomes, which \n",
    "means (all else constant) their disposable incomes have also increased, \n",
    "thus fostering further economic expansion.\n",
    "\n",
    "Generally, the U.S. labor force and levels of employment and unemployment \n",
    "are subject to fluctuations due to seasonal changes in weather, major holidays, \n",
    "and the opening and closing of schools. The Bureau of Labor Statistics (BLS) \n",
    "adjusts the data to offset the seasonal effects to show non-seasonal changes: \n",
    "for example, women's participation in the labor force; or a general decline \n",
    "in the number of employees, a possible indication of a downturn in the economy. \n",
    "\n",
    "To closely examine seasonal and non-seasonal changes, the BLS releases \n",
    "two **monthly** statistical measures: the seasonally adjusted All Employees: \n",
    "Total Nonfarm (PAYEMS) and All Employees: Total Nonfarm (PAYNSA), \n",
    "which is not seasonally adjusted.\"\n",
    "\n",
    "**The market keenly watches PAYEMS, thus we set *m4nfp* to that measure.**"
   ]
  },
  {
   "cell_type": "code",
   "execution_count": null,
   "metadata": {
    "collapsed": false
   },
   "outputs": [],
   "source": [
    "#  Nonfarm Payroll workers in thousands, seasonally adjusted:\n",
    "nfp = get( m4nfp )"
   ]
  },
  {
   "cell_type": "code",
   "execution_count": null,
   "metadata": {
    "collapsed": true
   },
   "outputs": [],
   "source": [
    "#  We know the number of total workers, \n",
    "#  so test the assertion that NFP\n",
    "#  \"accounts for approximately 80 percent of the workers.\"\n",
    "workers = get( m4workers )\n",
    "nfp_ratio = todf( nfp / workers )"
   ]
  },
  {
   "cell_type": "code",
   "execution_count": null,
   "metadata": {
    "collapsed": false
   },
   "outputs": [],
   "source": [
    "plot( nfp_ratio )"
   ]
  },
  {
   "cell_type": "markdown",
   "metadata": {},
   "source": [
    "So NFP currently accounts for **approximately 75% \n",
    "of all workers** *currently*. The nfp_ratio plot \n",
    "clearly shows the shift away from farms and into \n",
    "corporations since WWII."
   ]
  },
  {
   "cell_type": "code",
   "execution_count": null,
   "metadata": {
    "collapsed": false
   },
   "outputs": [],
   "source": [
    "plot( nfp )"
   ]
  },
  {
   "cell_type": "code",
   "execution_count": null,
   "metadata": {
    "collapsed": false
   },
   "outputs": [],
   "source": [
    "#  NFP clearly has a linear trend over the long-term.\n",
    "nfp_trend = trend( nfp )"
   ]
  },
  {
   "cell_type": "code",
   "execution_count": null,
   "metadata": {
    "collapsed": true
   },
   "outputs": [],
   "source": [
    "#  Set slope for later calculation:\n",
    "nfp_slope = 128.98\n",
    "#  as of 2015-11-12: 128.98"
   ]
  },
  {
   "cell_type": "markdown",
   "metadata": {},
   "source": [
    "The slope of the trend gives us a **baseline expectation: \n",
    "on average 129,000 nonfarm workers should added monthly** \n",
    "(given data from 1939 to 2015). At the core, \n",
    "this involves some assumptions about the US birthrate."
   ]
  },
  {
   "cell_type": "code",
   "execution_count": null,
   "metadata": {
    "collapsed": true
   },
   "outputs": [],
   "source": [
    "#  Take the first difference, i.e. Month over Month:\n",
    "nfp_dif = dif( nfp, 1 )"
   ]
  },
  {
   "cell_type": "code",
   "execution_count": null,
   "metadata": {
    "collapsed": false
   },
   "outputs": [],
   "source": [
    "#  Subtract the long-term base expected change:\n",
    "nfp_dif_base = todf( nfp_dif - nfp_slope )"
   ]
  },
  {
   "cell_type": "code",
   "execution_count": null,
   "metadata": {
    "collapsed": false
   },
   "outputs": [],
   "source": [
    "#  Our data goes back to 1939, \n",
    "#  so let's plot a recent subsegment:\n",
    "plot( nfp_dif_base['2000':] )"
   ]
  },
  {
   "cell_type": "markdown",
   "metadata": {},
   "source": [
    "During the Great Recession, there were several months where about one million jobs were lost. Consistent above average job additions started after 2011. \n",
    "\n",
    "The cumulative effect can be seen by looking at the deviations from trend."
   ]
  },
  {
   "cell_type": "code",
   "execution_count": null,
   "metadata": {
    "collapsed": false
   },
   "outputs": [],
   "source": [
    "nfp_dev = nfp - nfp_trend"
   ]
  },
  {
   "cell_type": "code",
   "execution_count": null,
   "metadata": {
    "collapsed": false
   },
   "outputs": [],
   "source": [
    "plot( nfp_dev )"
   ]
  },
  {
   "cell_type": "code",
   "execution_count": null,
   "metadata": {
    "collapsed": false
   },
   "outputs": [],
   "source": [
    "#  Zoom in on deviations post-2000:\n",
    "plot( nfp_dev['2000':])"
   ]
  },
  {
   "cell_type": "markdown",
   "metadata": {},
   "source": [
    "From 2008 through 2011, over 11 million workers were removed from NFP. \n",
    "As of November 2015 the recovery has been gradual, but still sub-trend. "
   ]
  },
  {
   "cell_type": "markdown",
   "metadata": {},
   "source": [
    "## Forecasting NFP\n",
    "\n",
    "Examining the first difference series is insightful in observing \n",
    "how the economy is developing over the short-term. To forecast NFP, \n",
    "however, it is instructive to go back to the original series and use \n",
    "the Holt-Winters method."
   ]
  },
  {
   "cell_type": "code",
   "execution_count": null,
   "metadata": {
    "collapsed": false
   },
   "outputs": [],
   "source": [
    "#  Forecast 12 months into the future:\n",
    "forecast( nfp, 12 )"
   ]
  },
  {
   "cell_type": "code",
   "execution_count": null,
   "metadata": {
    "collapsed": false
   },
   "outputs": [],
   "source": [
    "#  2015-11-12, forecast NFP change for Nov 2015:\n",
    "142964 - 142654"
   ]
  },
  {
   "cell_type": "code",
   "execution_count": null,
   "metadata": {
    "collapsed": false
   },
   "outputs": [],
   "source": [
    "#  Estimate dispersion:\n",
    "stat( nfp_dif_base['2000':] )"
   ]
  },
  {
   "cell_type": "markdown",
   "metadata": {},
   "source": [
    "The point forecast is clouded by a rather large standard error of 232, \n",
    "which shows the uselessness of this approach.\n",
    "\n",
    "An alternative is to notice how nfp_dif has been range bound since 2011. \n",
    "The mean can serve as a point forecast for the change in NFP, \n",
    "and the std gives us some estimate of the standard error."
   ]
  },
  {
   "cell_type": "code",
   "execution_count": null,
   "metadata": {
    "collapsed": false
   },
   "outputs": [],
   "source": [
    "stat( nfp_dif['2011':] )"
   ]
  },
  {
   "cell_type": "markdown",
   "metadata": {},
   "source": [
    "2015-11-12:  Our forecasted NFP change for Nov 2015 = **+205,000** +/- 77,000 at 1 std.\n",
    "(So Fed would be discouraged by a change < +128,000 which happens to be \n",
    "our computed baseline trend.) \n",
    "\n",
    "The street mean prediction for Oct 2015 \n",
    "was +185,000, but the actual turned out to be +271,000 -- whereupon \n",
    "Bill Gross declared 100% chance of December rate hike."
   ]
  },
  {
   "cell_type": "markdown",
   "metadata": {},
   "source": [
    "## Relationship to equities\n",
    "\n",
    "Here we explore the linear relationship between NFP and SPX (S&P 500 index)."
   ]
  },
  {
   "cell_type": "code",
   "execution_count": null,
   "metadata": {
    "collapsed": false
   },
   "outputs": [],
   "source": [
    "#  Resampled to monthly, the NFP frequency:\n",
    "spx = get( m4spx )"
   ]
  },
  {
   "cell_type": "code",
   "execution_count": null,
   "metadata": {
    "collapsed": false
   },
   "outputs": [],
   "source": [
    "stat2( nfp[Y], spx[Y] )"
   ]
  },
  {
   "cell_type": "markdown",
   "metadata": {},
   "source": [
    "The correlation between NFP and SPX is about 88%, and R-squared for this linear regression is 77%.\n",
    "\n",
    "The regression can be written as: $ N = b S + c $, where c is the intercept.\n",
    "\n",
    "Most interesting as a consequence is: $ \\Delta N = b \\Delta S $ \n",
    "\n",
    "The parameter b is estimated to be 45.31 (as 2015-11-12)."
   ]
  },
  {
   "cell_type": "code",
   "execution_count": null,
   "metadata": {
    "collapsed": false
   },
   "outputs": [],
   "source": [
    "#  The baseline change in NFP, translated as change in SPX:\n",
    "b = 45.31\n",
    "spx_slope = nfp_slope / b\n",
    "spx_slope"
   ]
  },
  {
   "cell_type": "code",
   "execution_count": null,
   "metadata": {
    "collapsed": false
   },
   "outputs": [],
   "source": [
    "#  Assume SPX level of 2000, and calculate annualized rate:\n",
    "spx_rate = (spx_slope / 2000.0) * 1200\n",
    "spx_rate"
   ]
  },
  {
   "cell_type": "markdown",
   "metadata": {},
   "source": [
    "**Annual rate of +1.71% in SPX roughly corresponds *currently* \n",
    "to +129,000 additional workers on NFP.** "
   ]
  },
  {
   "cell_type": "code",
   "execution_count": null,
   "metadata": {
    "collapsed": false
   },
   "outputs": [],
   "source": [
    "#  SPX geometric mean return\n",
    "georet( spx, 12 )"
   ]
  },
  {
   "cell_type": "code",
   "execution_count": null,
   "metadata": {
    "collapsed": false
   },
   "outputs": [],
   "source": [
    "#  NFP geometric growth rate:\n",
    "georet( nfp, 12 )"
   ]
  },
  {
   "cell_type": "code",
   "execution_count": null,
   "metadata": {
    "collapsed": false
   },
   "outputs": [],
   "source": [
    "#  Another standard error estimate for NFP:\n",
    "tailvalue( nfp ) * 0.0139 / ( 12 ** 0.5 )\n",
    "#                  ^annualized volatility scaled back monthly"
   ]
  },
  {
   "cell_type": "markdown",
   "metadata": {},
   "source": [
    "Relying on the regression to forecast NFP can become too dangerous when the SPX is volatile. \n",
    "For example, assuming +7.0% SPX annualized return, the forecasted NFP change \n",
    "would be +528,000 which is realistically out-of-bounds.\n",
    "\n",
    "The natural growth rate for NFP appears to be around 2.0%. \n",
    "NFP volatility is about 11% of SPX, however, \n",
    "the implied standard error for forecasting monthly \n",
    "changes is much larger than our localized models. \n",
    "\n",
    "### Closing remarks\n",
    "\n",
    "When the stock market is booming, it is reasonable to expect more corporate workers \n",
    "on the payroll. It seems reasonably correlated, but the data shows that \n",
    "a linear regression model is too simplistic to capture the volatile dynamics."
   ]
  },
  {
   "cell_type": "code",
   "execution_count": null,
   "metadata": {
    "collapsed": true
   },
   "outputs": [],
   "source": []
  }
 ],
 "metadata": {
  "kernelspec": {
   "display_name": "Python 2",
   "language": "python",
   "name": "python2"
  },
  "language_info": {
   "codemirror_mode": {
    "name": "ipython",
    "version": 2
   },
   "file_extension": ".py",
   "mimetype": "text/x-python",
   "name": "python",
   "nbconvert_exporter": "python",
   "pygments_lexer": "ipython2",
   "version": "2.7.10"
  }
 },
 "nbformat": 4,
 "nbformat_minor": 0
}
