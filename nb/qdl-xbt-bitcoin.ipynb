{
 "cells": [
  {
   "cell_type": "markdown",
   "metadata": {},
   "source": [
    "## Bitcoin XBTUSD\n",
    "\n",
    "We demonstrate how easily Bitcoin data can be statistically analyzed \n",
    "by fecon235 as a financial asset.\n",
    "\n",
    "- 2016-12-30 The annualized volatility is 112%, which is astonishing. \n",
    "This implies (within less than one standard deviation) that it is \n",
    "equally probable in the coming year that Bitcoin will be \n",
    "totally worthless or roughly double in price.\n",
    "\n",
    "\n",
    "- The upper bound on the number of Bitcoins is 21 million. \n",
    "This limit has economic consequences [to be discussed, perhaps in another notebook]."
   ]
  },
  {
   "cell_type": "markdown",
   "metadata": {},
   "source": [
    "### Note on abbreviation\n",
    "\n",
    "“**BTC**” has been the generally accepted notation for Bitcoin. \n",
    "Its creator, Satoshi Nakamoto, refers to it as \"BTC\".\n",
    "Bitcoin is decentralized by design so there was no standard \n",
    "to dictate what its official symbol should be. \n",
    "There may be confusion with the Bhutanese colón currency.\n",
    "\n",
    "Then \"**XBT**\" was proposed via International Standards Organization (ISO 4217) \n",
    "which maintains a list of abbreviated currencies and precious metals \n",
    "(for example, XAU is gold). \n",
    "Some exchanges began to adopt \"XBT\" and it is currently used by Bloomberg. \n",
    "Major banks experimenting with blockchain technology seem to favor \"XBT\"."
   ]
  },
  {
   "cell_type": "markdown",
   "metadata": {},
   "source": [
    "*Dependencies:*\n",
    "\n",
    "- Repository: https://github.com/rsvp/fecon235\n",
    "- Python: matplotlib, pandas\n",
    "     \n",
    "*CHANGE LOG*\n",
    "\n",
    "    2016-12-31  First version."
   ]
  },
  {
   "cell_type": "code",
   "execution_count": null,
   "metadata": {
    "collapsed": false
   },
   "outputs": [],
   "source": [
    "from fecon235.fecon235 import *"
   ]
  },
  {
   "cell_type": "code",
   "execution_count": null,
   "metadata": {
    "collapsed": false
   },
   "outputs": [],
   "source": [
    "#  PREAMBLE-p6.15.1223 :: Settings and system details\n",
    "from __future__ import absolute_import, print_function\n",
    "system.specs()\n",
    "pwd = system.getpwd()   # present working directory as variable.\n",
    "print(\" ::  $pwd:\", pwd)\n",
    "#  If a module is modified, automatically reload it:\n",
    "%load_ext autoreload\n",
    "%autoreload 2\n",
    "#       Use 0 to disable this feature.\n",
    "\n",
    "#  Notebook DISPLAY options:\n",
    "#      Represent pandas DataFrames as text; not HTML representation:\n",
    "import pandas as pd\n",
    "pd.set_option( 'display.notebook_repr_html', False )\n",
    "from IPython.display import HTML # useful for snippets\n",
    "#  e.g. HTML('<iframe src=http://en.mobile.wikipedia.org/?useformat=mobile width=700 height=350></iframe>')\n",
    "from IPython.display import Image \n",
    "#  e.g. Image(filename='holt-winters-equations.png', embed=True) # url= also works\n",
    "from IPython.display import YouTubeVideo\n",
    "#  e.g. YouTubeVideo('1j_HxD4iLn8', start='43', width=600, height=400)\n",
    "from IPython.core import page\n",
    "get_ipython().set_hook('show_in_pager', page.as_hook(page.display_page), 0)\n",
    "#  Or equivalently in config file: \"InteractiveShell.display_page = True\", \n",
    "#  which will display results in secondary notebook pager frame in a cell.\n",
    "\n",
    "#  Generate PLOTS inside notebook, \"inline\" generates static png:\n",
    "%matplotlib inline   \n",
    "#          \"notebook\" argument allows interactive zoom and resize."
   ]
  },
  {
   "cell_type": "markdown",
   "metadata": {},
   "source": [
    "## Bitcoin data\n",
    "\n",
    "We first define some Quandl symbols used by Blockchain, \n",
    "then retrieve selected data.\n",
    "\n",
    "Source: https://www.quandl.com/data/BCHAIN-Blockchain\n",
    "which also offers:\n",
    "\n",
    "- Number of Unique Bitcoin Addresses Used\n",
    "- Total Number of Transactions\n",
    "- Average Transaction Confirmation Time\n",
    "- Miners Revenue\n"
   ]
  },
  {
   "cell_type": "code",
   "execution_count": null,
   "metadata": {
    "collapsed": true
   },
   "outputs": [],
   "source": [
    "# These may get defined globally in the main module.\n",
    "\n",
    "d4xbt = 'BCHAIN/MKPRU'   # Price in USD (approx. $960)\n",
    "d4xbtN = 'BCHAIN/TOTBC'  # Number of Bitcoins (approx. 16 million)\n",
    "\n",
    "#  d4xbtCap = 'BCHAIN/MKTCP'    # Market capitalization (approx. 16 billion USD)\n",
    "#  This series can be largely replicated by multiplying the forementioned."
   ]
  },
  {
   "cell_type": "code",
   "execution_count": null,
   "metadata": {
    "collapsed": true
   },
   "outputs": [],
   "source": [
    "xbt = get( d4xbt )\n",
    "xbtN = get( d4xbtN )"
   ]
  },
  {
   "cell_type": "code",
   "execution_count": null,
   "metadata": {
    "collapsed": false
   },
   "outputs": [],
   "source": [
    "dflist = [xbt, xbtN]\n",
    "\n",
    "for df in dflist:\n",
    "    df.index.names = ['T']\n",
    "    df.columns = ['Y']\n",
    "    #  These names are fecon235 conventions."
   ]
  },
  {
   "cell_type": "markdown",
   "metadata": {},
   "source": [
    "The beginning of Bitcoin dates back to 2009. \n",
    "There is a period of novelty during which time \n",
    "prices could be approximated by zero.\n",
    "\n",
    "For the purpose of statistical analysis, we provide \n",
    "a constant called \"***begin***\" for a starting date.\n",
    "\n",
    "Unlike traditional financial assets, Bitcoin data \n",
    "is available daily, including weekends and holidays -- \n",
    "thus care must be exercised in any cross-asset comparisons \n",
    "(for example, in the annualization of volatility)."
   ]
  },
  {
   "cell_type": "code",
   "execution_count": null,
   "metadata": {
    "collapsed": true
   },
   "outputs": [],
   "source": [
    "#  Define some constants which may be changed to redo this notebook:\n",
    "\n",
    "begin = '2011-01-01'  # NOT the actual historical Bitcoin start."
   ]
  },
  {
   "cell_type": "markdown",
   "metadata": {},
   "source": [
    "## Bitcoin capitalization\n",
    "\n",
    "What is valuation of the entire Bitcoin market?\n",
    "\n",
    "2016-12-29 approx. 15.7 million USD."
   ]
  },
  {
   "cell_type": "code",
   "execution_count": null,
   "metadata": {
    "collapsed": true
   },
   "outputs": [],
   "source": [
    "#  Bitcoin CAPITALIZATION = price * Number\n",
    "xbtCap = todf(xbt * xbtN)"
   ]
  },
  {
   "cell_type": "markdown",
   "metadata": {},
   "source": [
    "### Note on the Number of Bitcoins, xbtN\n",
    "\n",
    "*The number of Bitcoins generated per block is set to \n",
    "decrease geometrically, with a 50% reduction every 210,000 blocks.* \n",
    "**Thus the number of Bitcoins in existence is not expected to ever exceed 21 million.** \n",
    "(As of 2016-12-29 there were over 16 million Bitcoins mined.)\n",
    "\n",
    "[Ignoring the unspendable genesis block, the sundry lost coins \n",
    "and unclaimed rewards, the maximum number of Bitcoins is \n",
    "technically 20999999.9769.]\n",
    "\n",
    "Currently about 98% of Bitcoin mining originates from China."
   ]
  },
  {
   "cell_type": "code",
   "execution_count": null,
   "metadata": {
    "collapsed": false
   },
   "outputs": [],
   "source": [
    "#  Plot Number of Bitcoins:\n",
    "plot( xbtN[begin:] )"
   ]
  },
  {
   "cell_type": "code",
   "execution_count": null,
   "metadata": {
    "collapsed": false
   },
   "outputs": [],
   "source": [
    "#  Plot CAPITALIZATION:\n",
    "plot( xbtCap[begin:] )"
   ]
  },
  {
   "cell_type": "code",
   "execution_count": null,
   "metadata": {
    "collapsed": false
   },
   "outputs": [],
   "source": [
    "#  Plot PRICE in USD, ie XBTUSD:\n",
    "#  plot( xbt[begin:] )\n",
    "\n",
    "#  Instead please see plot its exponential moving average below."
   ]
  },
  {
   "cell_type": "code",
   "execution_count": null,
   "metadata": {
    "collapsed": true
   },
   "outputs": [],
   "source": [
    "#  Append xbtCap to dflist:\n",
    "dflist = [xbt, xbtN, xbtCap]\n",
    "\n",
    "#  Create Bitcoin DataFrame:\n",
    "xbtdf = paste( dflist )\n",
    "xbtdf.columns = ['Price', 'Number', 'Capitalization']"
   ]
  },
  {
   "cell_type": "code",
   "execution_count": null,
   "metadata": {
    "collapsed": false
   },
   "outputs": [],
   "source": [
    "stats( xbtdf[begin:] )"
   ]
  },
  {
   "cell_type": "markdown",
   "metadata": {},
   "source": [
    "The correlation matrix shows that capitalization \n",
    "is strongly correlated with price as expected, \n",
    "but an all-time high in capitalization may not \n",
    "necessarily indicate an all-time high in price.\n",
    "\n",
    "The median Bitcoin price is \\$230 USD since the \"begin\" date."
   ]
  },
  {
   "cell_type": "markdown",
   "metadata": {},
   "source": [
    "## Bitcoin price\n",
    "\n",
    "On a given day, Bitcoin is not traded on a single centralized exchange, \n",
    "but rather globally in many different foreign currencies. \n",
    "Therefore the daily price in USD must be considered a polled approximation.\n",
    "\n",
    "*Unlike traditional financial assets, price is discovered every \n",
    "single day of the year.* Weekends and holidays are trading days, \n",
    "so the *xbt* series reflects this fact.\n",
    "\n",
    "The price movement is highly erratic, \n",
    "so let us look at some statistical characteristics."
   ]
  },
  {
   "cell_type": "code",
   "execution_count": null,
   "metadata": {
    "collapsed": true
   },
   "outputs": [],
   "source": [
    "#  See the raw price series by uncommenting:\n",
    "#  xbt"
   ]
  },
  {
   "cell_type": "code",
   "execution_count": null,
   "metadata": {
    "collapsed": false
   },
   "outputs": [],
   "source": [
    "#  Geometric mean return:\n",
    "georet( xbt[begin:], yearly=365 )\n",
    "\n",
    "# Note that yearly=365, not 256 like usual \"daily\" data."
   ]
  },
  {
   "cell_type": "markdown",
   "metadata": {},
   "source": [
    "2016-12-30  The annualized volatility is 112%, which is astonishing. \n",
    "This implies (within less than one standard deviation) that \n",
    "it is **equally probable in the coming year that Bitcoin \n",
    "will be totally worthless or roughly double in price.**\n",
    "\n",
    "So \"investing\" in Bitcoins would be speculative indeed, \n",
    "but on the other hand, the annualized geometric mean return is +130%.\n",
    "\n",
    "Given the above, it may be unreasonable to predict the price of \n",
    "Bitcoin just from time-series methods. \n",
    "Nonetheless, let us see how an optimized Holt-Winters model would fit."
   ]
  },
  {
   "cell_type": "code",
   "execution_count": null,
   "metadata": {
    "collapsed": false
   },
   "outputs": [],
   "source": [
    "# optimize_holtforecast( xbt[begin:], grids=50 )"
   ]
  },
  {
   "cell_type": "markdown",
   "metadata": {},
   "source": [
    "The previous time-consuming analysis can be run by uncommenting that one line, \n",
    "but we can summarize the Holt-Winters models as follows:\n",
    "\n",
    "$H( \\alpha, \\beta ) = H( 0.857, 0 )$\n",
    "\n",
    "which indicates no trend overall since beta is estimated to be zero. \n",
    "However, the state of Bitcoin can be captured solely by the alpha coefficient. \n",
    "Mathematically, our model reduces to an exponentially weighted moving average.\n",
    "\n",
    "Economically this smoothing process can also be justified due to the nature \n",
    "of the polled approximation of XBTUSD."
   ]
  },
  {
   "cell_type": "code",
   "execution_count": null,
   "metadata": {
    "collapsed": true
   },
   "outputs": [],
   "source": [
    "#  Exponential moving average using Holt-Winters alpha:\n",
    "xbtema = ema( xbt, 0.857 )"
   ]
  },
  {
   "cell_type": "code",
   "execution_count": null,
   "metadata": {
    "collapsed": false
   },
   "outputs": [],
   "source": [
    "#  Plot PRICE in USD as exponential moving average:\n",
    "plot( xbtema[begin:])"
   ]
  },
  {
   "cell_type": "code",
   "execution_count": null,
   "metadata": {
    "collapsed": false
   },
   "outputs": [],
   "source": [
    "#  Geometric mean return of smoothed process:\n",
    "georet( xbtema[begin:], yearly=365 )"
   ]
  },
  {
   "cell_type": "markdown",
   "metadata": {},
   "source": [
    "Our reduced ema model yields an annualized volatility of 98%, \n",
    "down from 112% using raw price. \n",
    "But the annualized geometric mean return still remains around +130%."
   ]
  },
  {
   "cell_type": "markdown",
   "metadata": {},
   "source": [
    "## Relationship to Gold, XAU\n",
    "\n",
    "First we investigate whether any linear relationship \n",
    "exists between XBT and XAU. We shall rely on Python's *pandas* \n",
    "to handle the date alignment correctly in our regression analysis."
   ]
  },
  {
   "cell_type": "code",
   "execution_count": null,
   "metadata": {
    "collapsed": true
   },
   "outputs": [],
   "source": [
    "#  Download daily Gold, its London PM fix, in USD:\n",
    "xau = get( d4xauusd )"
   ]
  },
  {
   "cell_type": "code",
   "execution_count": null,
   "metadata": {
    "collapsed": false
   },
   "outputs": [],
   "source": [
    "#  We shall use the fitted XBT price in our regression:\n",
    "stat2( xbtema[begin:]['Y'], xau[begin:]['Y'] )\n",
    "\n",
    "#  Our time index T is used for date alignment."
   ]
  },
  {
   "cell_type": "markdown",
   "metadata": {},
   "source": [
    "There is a weak negative correlation between Bitcoin and gold (-0.67 on 2016-12-30). \n",
    "The linear regression itself is unremarkable (R-squared of 0.44)."
   ]
  },
  {
   "cell_type": "markdown",
   "metadata": {},
   "source": [
    "### Gold / Bitcoin exchange rate, XBTXAU\n",
    "\n",
    "Let us now visualize the relationship between Gold \n",
    "and Bitcoin by pricing the former in terms of the latter, \n",
    "that is to say, amount of Gold in troy ounces which can \n",
    "be purchased by one Bitcoin."
   ]
  },
  {
   "cell_type": "code",
   "execution_count": null,
   "metadata": {
    "collapsed": false
   },
   "outputs": [],
   "source": [
    "#  Compute cross-rate in terms of troy ounces:\n",
    "xbtxau = todf( xbtema / xau )\n",
    "\n",
    "#  Note we use fitted xbt prices here."
   ]
  },
  {
   "cell_type": "code",
   "execution_count": null,
   "metadata": {
    "collapsed": true
   },
   "outputs": [],
   "source": [
    "#  BitGold DataFrame\n",
    "bitgold = paste( [xbtema, xau, xbtxau] )\n",
    "bitgold.columns = ['XBTema', 'XAU', 'XBTXAU']"
   ]
  },
  {
   "cell_type": "code",
   "execution_count": null,
   "metadata": {
    "collapsed": false
   },
   "outputs": [],
   "source": [
    "stats( bitgold[begin:] )"
   ]
  },
  {
   "cell_type": "code",
   "execution_count": null,
   "metadata": {
    "collapsed": false
   },
   "outputs": [],
   "source": [
    "plot( xbtxau[begin:] )"
   ]
  },
  {
   "cell_type": "markdown",
   "metadata": {},
   "source": [
    "The plots of *xbtema* (scaled in USD) and *xbtxau* (scaled in troy ounces) \n",
    "will look very similar since the correlation between the two \n",
    "ranges from 0.97 to 0.99 depending on the time frame.\n",
    "\n",
    "As of 2016-12-30, one Bitcoin was insufficient to buy one troy ounce \n",
    "of gold, but the peaks of XBTXAU indicates temporary surge efforts \n",
    "(all-time high was 0.926 troy ounces on 2013-12-04)."
   ]
  },
  {
   "cell_type": "code",
   "execution_count": null,
   "metadata": {
    "collapsed": true
   },
   "outputs": [],
   "source": []
  }
 ],
 "metadata": {
  "kernelspec": {
   "display_name": "Python 2",
   "language": "python",
   "name": "python2"
  },
  "language_info": {
   "codemirror_mode": {
    "name": "ipython",
    "version": 2
   },
   "file_extension": ".py",
   "mimetype": "text/x-python",
   "name": "python",
   "nbconvert_exporter": "python",
   "pygments_lexer": "ipython2",
   "version": "2.7.11"
  }
 },
 "nbformat": 4,
 "nbformat_minor": 0
}
