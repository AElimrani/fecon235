{
 "cells": [
  {
   "cell_type": "markdown",
   "metadata": {},
   "source": [
    "## Bitcoin XBTUSD\n",
    "\n",
    "Federal Reserve Chairman Ben Bernanke in his 6 September 2013 letter \n",
    "to a Senate committee stated that Bitcoin and other virtual currencies \n",
    "\"*may hold long-term promise, particularly if the innovations\n",
    "promote a faster, more secure and more efficient payment system*.\" \n",
    "[See http://goo.gl/49I5ZI for the full letter.] \n",
    "\n",
    "Here demonstrate how Bitcoin data can be statistically analyzed \n",
    "by fecon235 as a financial asset.\n",
    "\n",
    "- 2016-12-30 The annualized volatility is 112%, which is astonishing. \n",
    "This implies (within less than one standard deviation) that it is \n",
    "equally probable in the coming year that Bitcoin will be \n",
    "totally worthless or roughly double in price.\n",
    "\n",
    "**This high volatility may hinder its general acceptance as a means of payments.** \n",
    "It role as store of value is speculative, but it may provide \n",
    "diversification to a portfolio (see Appendix 1).\n",
    "\n",
    "- For comparative valuation, we investigate XBTXAU (in terms of gold troy ounces) and XBTCNY (in terms of Chinese yuan, due to predominant Bitcoin mining activity in China). \n",
    "\n",
    "    - As of 2017-02-07, one Bitcoin was insufficient to buy one troy ounce \n",
    "of gold, but the peaks of XBTXAU indicates temporary surge efforts \n",
    "(all-time high was 0.945 troy ounces on 2017-01-05 \n",
    "which is comparable to the 2013-12-04 record).\n",
    "\n",
    "\n",
    "- The upper bound on the number of Bitcoins is 21 million. \n",
    "This limit has economic consequences [to be discussed, perhaps in another notebook].\n",
    "\n",
    "In 2013, the Foreign Exchange team at Bank of America (David Woo, Ian Gordan, et al.) \n",
    "produced its first assessment in an extensive 14-page report:\n",
    "\"our fair value analysis implies a maximum market capitalization of Bitcoin \n",
    "of \\$15bn (1 BTC = 1300 USD).\" Capitalization is in fact currently about 16 billion USD, \n",
    "and we provide the means to compute that statistic.\n"
   ]
  },
  {
   "cell_type": "markdown",
   "metadata": {},
   "source": [
    "### Note on abbreviation\n",
    "\n",
    "“**BTC**” has been the generally accepted notation for Bitcoin. \n",
    "Its creator, Satoshi Nakamoto, refers to it as \"BTC\".\n",
    "Bitcoin is decentralized by design so there was no standard \n",
    "to dictate what its official symbol should be. \n",
    "There may be confusion with the Bhutanese colón currency.\n",
    "\n",
    "Then \"**XBT**\" was proposed via International Standards Organization (ISO 4217) \n",
    "which maintains a list of abbreviated currencies and precious metals \n",
    "(for example, XAU is gold). \n",
    "Some exchanges began to adopt \"XBT\" and it is currently used by Bloomberg. \n",
    "Major banks experimenting with blockchain technology seem to favor \"XBT\"."
   ]
  },
  {
   "cell_type": "markdown",
   "metadata": {},
   "source": [
    "*Dependencies:*\n",
    "\n",
    "- Repository: https://github.com/rsvp/fecon235\n",
    "- Python: matplotlib, pandas\n",
    "     \n",
    "*CHANGE LOG*\n",
    "\n",
    "    TODO        [ ] Add XBTCNY analysis.\n",
    "    2017-02-07  Add references. Use newly defined quandlcodes.\n",
    "    2016-12-31  First version."
   ]
  },
  {
   "cell_type": "code",
   "execution_count": null,
   "metadata": {
    "collapsed": false
   },
   "outputs": [],
   "source": [
    "from fecon235.fecon235 import *"
   ]
  },
  {
   "cell_type": "code",
   "execution_count": null,
   "metadata": {
    "collapsed": false
   },
   "outputs": [],
   "source": [
    "#  PREAMBLE-p6.15.1223 :: Settings and system details\n",
    "from __future__ import absolute_import, print_function\n",
    "system.specs()\n",
    "pwd = system.getpwd()   # present working directory as variable.\n",
    "print(\" ::  $pwd:\", pwd)\n",
    "#  If a module is modified, automatically reload it:\n",
    "%load_ext autoreload\n",
    "%autoreload 2\n",
    "#       Use 0 to disable this feature.\n",
    "\n",
    "#  Notebook DISPLAY options:\n",
    "#      Represent pandas DataFrames as text; not HTML representation:\n",
    "import pandas as pd\n",
    "pd.set_option( 'display.notebook_repr_html', False )\n",
    "from IPython.display import HTML # useful for snippets\n",
    "#  e.g. HTML('<iframe src=http://en.mobile.wikipedia.org/?useformat=mobile width=700 height=350></iframe>')\n",
    "from IPython.display import Image \n",
    "#  e.g. Image(filename='holt-winters-equations.png', embed=True) # url= also works\n",
    "from IPython.display import YouTubeVideo\n",
    "#  e.g. YouTubeVideo('1j_HxD4iLn8', start='43', width=600, height=400)\n",
    "from IPython.core import page\n",
    "get_ipython().set_hook('show_in_pager', page.as_hook(page.display_page), 0)\n",
    "#  Or equivalently in config file: \"InteractiveShell.display_page = True\", \n",
    "#  which will display results in secondary notebook pager frame in a cell.\n",
    "\n",
    "#  Generate PLOTS inside notebook, \"inline\" generates static png:\n",
    "%matplotlib inline   \n",
    "#          \"notebook\" argument allows interactive zoom and resize."
   ]
  },
  {
   "cell_type": "markdown",
   "metadata": {},
   "source": [
    "## Bitcoin data\n",
    "\n",
    "Source: https://www.quandl.com/data/BCHAIN-Blockchain which also offers:\n",
    "\n",
    "- Number of Unique Bitcoin Addresses Used\n",
    "- Total Number of Transactions\n",
    "- Average Transaction Confirmation Time\n",
    "- Miners Revenue\n",
    "\n",
    "We pre-defined quandcodes for Bitcoin count and USD price."
   ]
  },
  {
   "cell_type": "code",
   "execution_count": null,
   "metadata": {
    "collapsed": true
   },
   "outputs": [],
   "source": [
    "#  d7 means frequency of 7 days per week:\n",
    "xbt = get( d7xbtusd )       # Bitcoin price in USD (approx. 960 USD)\n",
    "xbtN = get( d7xbtcount )    # number of Bitcoins mined thus far (approx. 16 million)\n",
    "\n",
    "#  Market capitalization will computed by multiplying the two: approx. 16 billion USD.\n",
    "#  Double check: d4xbtCap = 'BCHAIN/MKTCP' "
   ]
  },
  {
   "cell_type": "markdown",
   "metadata": {},
   "source": [
    "The beginning of Bitcoin dates back to 2009. \n",
    "There is a period of novelty during which time \n",
    "prices could be approximated by zero.\n",
    "\n",
    "For the purpose of statistical analysis, we provide \n",
    "a constant called \"***begin***\" for a starting date.\n",
    "\n",
    "Unlike traditional financial assets, Bitcoin data \n",
    "is available daily, including weekends and holidays -- \n",
    "thus care must be exercised in any cross-asset comparisons \n",
    "(for example, in the annualization of volatility)."
   ]
  },
  {
   "cell_type": "code",
   "execution_count": null,
   "metadata": {
    "collapsed": true
   },
   "outputs": [],
   "source": [
    "#  Define some constants which may be changed to redo this notebook:\n",
    "\n",
    "begin = '2011-01-01'  # NOT the actual historical Bitcoin start."
   ]
  },
  {
   "cell_type": "markdown",
   "metadata": {},
   "source": [
    "## Bitcoin capitalization\n",
    "\n",
    "What is valuation of the entire Bitcoin market?\n",
    "\n",
    "2016-12-29 approx. 15.7 million USD."
   ]
  },
  {
   "cell_type": "code",
   "execution_count": null,
   "metadata": {
    "collapsed": true
   },
   "outputs": [],
   "source": [
    "#  Bitcoin CAPITALIZATION = price * Number\n",
    "xbtCap = todf(xbt * xbtN)"
   ]
  },
  {
   "cell_type": "markdown",
   "metadata": {},
   "source": [
    "### Note on the Number of Bitcoins, xbtN\n",
    "\n",
    "*The number of Bitcoins generated per block is set to \n",
    "decrease geometrically, with a 50% reduction every 210,000 blocks.* \n",
    "**Thus the number of Bitcoins in existence is not expected to ever exceed 21 million.** \n",
    "(As of 2016-12-29 there were over 16 million Bitcoins mined.)\n",
    "\n",
    "[Ignoring the unspendable genesis block, the sundry lost coins \n",
    "and unclaimed rewards, the maximum number of Bitcoins is \n",
    "technically 20999999.9769.]\n",
    "\n",
    "**Currently about 98% of Bitcoin mining originates from China.** \n",
    "David Woo at Bank of America back in 2013 pointed out: \n",
    "\"The correlation between CNY’s share of volume of all Bitcoin exchanges \n",
    "and price of Bitcoin is high and rising.\" \n",
    "Later we shall investigate Bitcoin's relationship to \n",
    "the Chinese yuan."
   ]
  },
  {
   "cell_type": "code",
   "execution_count": null,
   "metadata": {
    "collapsed": false
   },
   "outputs": [],
   "source": [
    "#  Plot Number of Bitcoins:\n",
    "plot( xbtN[begin:] )"
   ]
  },
  {
   "cell_type": "code",
   "execution_count": null,
   "metadata": {
    "collapsed": false
   },
   "outputs": [],
   "source": [
    "#  Plot CAPITALIZATION:\n",
    "plot( xbtCap[begin:] )"
   ]
  },
  {
   "cell_type": "code",
   "execution_count": null,
   "metadata": {
    "collapsed": false
   },
   "outputs": [],
   "source": [
    "#  Plot PRICE in USD, ie XBTUSD:\n",
    "#  plot( xbt[begin:] )\n",
    "\n",
    "#  Instead please see plot its exponential moving average below."
   ]
  },
  {
   "cell_type": "code",
   "execution_count": null,
   "metadata": {
    "collapsed": true
   },
   "outputs": [],
   "source": [
    "#  List of dataframes:\n",
    "dflist = [xbt, xbtN, xbtCap]\n",
    "\n",
    "#  Create Bitcoin DataFrame:\n",
    "xbtdf = paste( dflist )\n",
    "xbtdf.columns = ['Price', 'Number', 'Capitalization']"
   ]
  },
  {
   "cell_type": "code",
   "execution_count": null,
   "metadata": {
    "collapsed": false
   },
   "outputs": [],
   "source": [
    "stats( xbtdf[begin:] )"
   ]
  },
  {
   "cell_type": "markdown",
   "metadata": {},
   "source": [
    "The correlation matrix shows that capitalization \n",
    "is strongly correlated with price as expected, \n",
    "but an all-time high in capitalization may not \n",
    "necessarily indicate an all-time high in price.\n",
    "\n",
    "The median Bitcoin price is \\$230 USD since the \"begin\" date."
   ]
  },
  {
   "cell_type": "markdown",
   "metadata": {},
   "source": [
    "## Bitcoin price\n",
    "\n",
    "On a given day, Bitcoin is not traded on a single centralized exchange, \n",
    "but rather globally in many different foreign currencies. \n",
    "Therefore the daily price in USD must be considered a polled approximation.\n",
    "\n",
    "*Unlike traditional financial assets, price is discovered every \n",
    "single day of the year.* Weekends and holidays are trading days, \n",
    "so the *xbt* series reflects this fact.\n",
    "\n",
    "The price movement is highly erratic, \n",
    "so let us look at some statistical characteristics."
   ]
  },
  {
   "cell_type": "code",
   "execution_count": null,
   "metadata": {
    "collapsed": true
   },
   "outputs": [],
   "source": [
    "#  See the raw price series by uncommenting:\n",
    "#  xbt"
   ]
  },
  {
   "cell_type": "code",
   "execution_count": null,
   "metadata": {
    "collapsed": false
   },
   "outputs": [],
   "source": [
    "#  Geometric mean return:\n",
    "georet( xbt[begin:], yearly=365 )\n",
    "\n",
    "# Note that yearly=365, not 256 like usual \"daily\" data."
   ]
  },
  {
   "cell_type": "markdown",
   "metadata": {},
   "source": [
    "2016-12-30  The annualized volatility is 112%, which is astonishing. \n",
    "This implies (within less than one standard deviation) that \n",
    "it is **equally probable in the coming year that Bitcoin \n",
    "will be totally worthless or roughly double in price.**\n",
    "\n",
    "So \"investing\" in Bitcoins would be speculative indeed, \n",
    "but on the other hand, the annualized geometric mean return is +130%.\n",
    "\n",
    "Given the above, it may be unreasonable to predict the price of \n",
    "Bitcoin just from time-series methods. \n",
    "Nonetheless, let us see how an optimized Holt-Winters model would fit."
   ]
  },
  {
   "cell_type": "code",
   "execution_count": null,
   "metadata": {
    "collapsed": false
   },
   "outputs": [],
   "source": [
    "# optimize_holtforecast( xbt[begin:], grids=50 )"
   ]
  },
  {
   "cell_type": "markdown",
   "metadata": {},
   "source": [
    "The previous time-consuming analysis can be run by uncommenting that one line, \n",
    "but we can summarize the Holt-Winters models as follows:\n",
    "\n",
    "$H( \\alpha, \\beta ) = H( 0.857, 0 )$\n",
    "\n",
    "which indicates no trend overall since beta is estimated to be zero. \n",
    "However, the state of Bitcoin can be captured solely by the alpha coefficient. \n",
    "Mathematically, our model reduces to an exponentially weighted moving average.\n",
    "\n",
    "Economically this smoothing process can also be justified due to the nature \n",
    "of the polled approximation of XBTUSD."
   ]
  },
  {
   "cell_type": "code",
   "execution_count": null,
   "metadata": {
    "collapsed": true
   },
   "outputs": [],
   "source": [
    "#  Exponential moving average using Holt-Winters alpha:\n",
    "xbtema = ema( xbt, 0.857 )"
   ]
  },
  {
   "cell_type": "code",
   "execution_count": null,
   "metadata": {
    "collapsed": false
   },
   "outputs": [],
   "source": [
    "#  Plot PRICE in USD as exponential moving average:\n",
    "plot( xbtema[begin:])"
   ]
  },
  {
   "cell_type": "code",
   "execution_count": null,
   "metadata": {
    "collapsed": false
   },
   "outputs": [],
   "source": [
    "#  Geometric mean return of smoothed process:\n",
    "georet( xbtema[begin:], yearly=365 )"
   ]
  },
  {
   "cell_type": "markdown",
   "metadata": {},
   "source": [
    "Our reduced ema model yields an annualized volatility of 98%, \n",
    "down from 112% using raw price. \n",
    "But the annualized geometric mean return still remains around +130%."
   ]
  },
  {
   "cell_type": "markdown",
   "metadata": {},
   "source": [
    "## Relationship to Gold: XAU\n",
    "\n",
    "First we investigate whether any linear relationship \n",
    "exists between XBT and XAU, the perennial store of value. \n",
    "We shall rely on Python's *pandas* to handle the date alignment \n",
    "correctly in our regression analysis."
   ]
  },
  {
   "cell_type": "code",
   "execution_count": null,
   "metadata": {
    "collapsed": true
   },
   "outputs": [],
   "source": [
    "#  Download daily Gold, its London PM fix, in USD:\n",
    "xau = get( d4xauusd )"
   ]
  },
  {
   "cell_type": "code",
   "execution_count": null,
   "metadata": {
    "collapsed": false
   },
   "outputs": [],
   "source": [
    "#  We shall use the fitted XBT price in our regression:\n",
    "stat2( xbtema[begin:]['Y'], xau[begin:]['Y'] )"
   ]
  },
  {
   "cell_type": "markdown",
   "metadata": {},
   "source": [
    "There is a weak negative correlation between Bitcoin and gold (-0.67 on 2016-12-30). \n",
    "The linear regression itself is unremarkable (R-squared of 0.44)."
   ]
  },
  {
   "cell_type": "markdown",
   "metadata": {},
   "source": [
    "### Gold / Bitcoin exchange rate, XBTXAU\n",
    "\n",
    "Let us now visualize the relationship between Gold \n",
    "and Bitcoin by pricing the former in terms of the latter, \n",
    "that is to say, amount of Gold in troy ounces which can \n",
    "be purchased by one Bitcoin."
   ]
  },
  {
   "cell_type": "code",
   "execution_count": null,
   "metadata": {
    "collapsed": false
   },
   "outputs": [],
   "source": [
    "#  Compute cross-rate in terms of troy ounces:\n",
    "xbtxau = todf( xbtema / xau )\n",
    "\n",
    "#  Note we use fitted xbt prices here."
   ]
  },
  {
   "cell_type": "code",
   "execution_count": null,
   "metadata": {
    "collapsed": true
   },
   "outputs": [],
   "source": [
    "#  BitGold DataFrame\n",
    "bitgold = paste( [xbtema, xau, xbtxau] )\n",
    "bitgold.columns = ['XBTema', 'XAU', 'XBTXAU']"
   ]
  },
  {
   "cell_type": "code",
   "execution_count": null,
   "metadata": {
    "collapsed": false
   },
   "outputs": [],
   "source": [
    "stats( bitgold[begin:] )"
   ]
  },
  {
   "cell_type": "code",
   "execution_count": null,
   "metadata": {
    "collapsed": false
   },
   "outputs": [],
   "source": [
    "plot( xbtxau[begin:] )"
   ]
  },
  {
   "cell_type": "markdown",
   "metadata": {},
   "source": [
    "The plots of *xbtema* (scaled in USD) and *xbtxau* (scaled in troy ounces) \n",
    "will look very similar since the correlation between the two \n",
    "ranges from 0.97 to 0.99 depending on the time frame.\n",
    "\n",
    "As of 2017-02-07, one Bitcoin was insufficient to buy one troy ounce \n",
    "of gold, but the peaks of XBTXAU indicates temporary surge efforts \n",
    "(all-time high was 0.945 troy ounces on 2017-01-05 \n",
    "which is comparable to the 2013-12-04 record)."
   ]
  },
  {
   "cell_type": "markdown",
   "metadata": {
    "collapsed": true
   },
   "source": [
    "---\n",
    "\n",
    "## Appendix 1: Reference notes\n",
    "\n",
    "- Brière M., K. Oosterlinck and A. Szafarz, “*Virtual Currency, Tangible  Return: Portfolio Diversification with Bitcoins*\", SSRN Working Paper N°2324780, 2013. http://goo.gl/40VIxr\n",
    "\n",
    "Despite the extreme volatilty, Brière et al. claim Bitcoin-inclusive portfolios \n",
    "will deliver superior mean-variance trade-offs than similar BTC-free portfolios. \n",
    "They proposed about 3% BTC inclusion.\n",
    "\n"
   ]
  },
  {
   "cell_type": "code",
   "execution_count": null,
   "metadata": {
    "collapsed": true
   },
   "outputs": [],
   "source": []
  }
 ],
 "metadata": {
  "kernelspec": {
   "display_name": "Python 2",
   "language": "python",
   "name": "python2"
  },
  "language_info": {
   "codemirror_mode": {
    "name": "ipython",
    "version": 2
   },
   "file_extension": ".py",
   "mimetype": "text/x-python",
   "name": "python",
   "nbconvert_exporter": "python",
   "pygments_lexer": "ipython2",
   "version": "2.7.13"
  }
 },
 "nbformat": 4,
 "nbformat_minor": 0
}
