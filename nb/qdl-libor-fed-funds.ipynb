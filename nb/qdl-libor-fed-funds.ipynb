{
 "cells": [
  {
   "cell_type": "markdown",
   "metadata": {},
   "source": [
    "# LIBOR futures and forecasting the Fed Funds rate\n",
    "\n",
    "We examine the spread between two interest rates: LIBOR and Fed Funds. The former has a much greater depth in the futures market in terms of volume and maturity horizon, which implies richer information content. We will seek out their relationship, and then construct a synthetic forward Fed Funds rate. This is useful in gauging market sentiment regarding Fed policy.\n",
    "\n",
    "The **30-day Federal Funds futures incorporates market expectations of the average *daily* Federal Funds Effective Rate (FFER) levels *during* a given contract month**. The FFER is published by the Federal Reserve Bank of New York each day, and is calculated as a transaction-volume weighted average of the previous day’s rates on trades arranged by major brokers for overnight unsecured loans between depository institutions.\n",
    "\n",
    "In contrast, the futures on LIBOR (CME Eurodollars contract) has a tenor of 3-months with tremendous trading volume extending out for years. \n",
    "\n",
    "Our synthetic forward Fed Funds *estimates* the expected average FFER *during* a given contract month. This is measure is more meaningful than the probability of Fed rate hike currently in vogue, since it is an estimate generated from a highly active futures market curve.\n",
    "\n",
    "In conclusion, we shall sum up with one number to this simple question: **How much is the Fed Funds expected to change over the next 12 months?**"
   ]
  },
  {
   "cell_type": "markdown",
   "metadata": {},
   "source": [
    "*Dependencies:*\n",
    "\n",
    "    - Linux, bash [not critical, generally cross-platform]\n",
    "    - Python: matplotlib, pandas [recommend Anaconda distribution]\n",
    "    - Modules: fecon\n",
    "     \n",
    "*CHANGE LOG*\n",
    "\n",
    "    2015-09-22  Include post-FOMC meeting of 2015-09-17.\n",
    "    2015-09-16  First version."
   ]
  },
  {
   "cell_type": "code",
   "execution_count": null,
   "metadata": {
    "collapsed": false
   },
   "outputs": [],
   "source": [
    "#  NOTEBOOK v4 settings and system details:      [00-tpl v4.15.0812]\n",
    "\n",
    "#  Assume that the backend is LINUX (e.g. Ubuntu running bash shell):\n",
    "print '\\n ::  TIMESTAMP of last notebook execution:'\n",
    "!date\n",
    "print ' ::  IPython version:'\n",
    "!ipython --version\n",
    "\n",
    "#  Automatically RELOAD modified modules:\n",
    "%load_ext autoreload\n",
    "%autoreload 2\n",
    "#           0 disables autoreload.\n",
    "\n",
    "#  DISPLAY options\n",
    "from IPython.display import Image \n",
    "#  e.g. Image(filename='holt-winters-equations.png', embed=True) # url= also works\n",
    "from IPython.display import YouTubeVideo\n",
    "#  e.g. YouTubeVideo('1j_HxD4iLn8', start='43', width=600, height=400)\n",
    "from IPython.display import HTML # useful for snippets\n",
    "#  e.g. HTML('<iframe src=http://en.mobile.wikipedia.org/?useformat=mobile width=700 height=350></iframe>')\n",
    "from IPython.core import page\n",
    "get_ipython().set_hook('show_in_pager', page.as_hook(page.display_page), 0)\n",
    "#  Or equivalently in config file: \"InteractiveShell.display_page = True\", \n",
    "#  which will display results in secondary notebook pager frame in a cell.\n",
    "\n",
    "#  MATH display, use %%latex, rather than the following:\n",
    "#                from IPython.display import Math\n",
    "#                from IPython.display import Latex\n",
    "#  Generate PLOTS inside notebook:\n",
    "%matplotlib inline\n",
    "\n",
    "import pandas as pd\n",
    "print ' ::  pandas version:'\n",
    "print pd.__version__\n",
    "#      pandas DataFrames are represented as text by default; enable HTML representation:\n",
    "#      [Deprecated: pd.core.format.set_printoptions( notebook_repr_html=True ) ]\n",
    "pd.set_option( 'display.notebook_repr_html', False )\n",
    "\n",
    "print ' ::  Working directory (set as $workd):'\n",
    "workd, = !pwd\n",
    "print workd + '\\n'"
   ]
  },
  {
   "cell_type": "code",
   "execution_count": null,
   "metadata": {
    "collapsed": false
   },
   "outputs": [],
   "source": [
    "from fecon import *"
   ]
  },
  {
   "cell_type": "code",
   "execution_count": null,
   "metadata": {
    "collapsed": true
   },
   "outputs": [],
   "source": [
    "#  SET UP the particular (f4) futures contracts of interest:\n",
    "\n",
    "s_fed    = 'f4fed15z'\n",
    "\n",
    "s_libor  = 'f4libor15z'\n",
    "s_libory = 'f4libor16z'\n",
    "\n",
    "#  f4fed*   refers to the CME/CBOT Fed Funds futures.\n",
    "#  f4libor* refers to the CME Eurodollar futures.\n",
    "#  Both should reference the same year and month, \n",
    "#  except for s_libory which should be one year further out.\n",
    "\n",
    "#  RE-RUN this entire study by merely changing the string symbols."
   ]
  },
  {
   "cell_type": "code",
   "execution_count": null,
   "metadata": {
    "collapsed": true
   },
   "outputs": [],
   "source": [
    "#  Retrieve data:\n",
    "fed     = todf( 100 - get(s_fed)   )\n",
    "libor   = todf( 100 - get(s_libor) )\n",
    "libory  = todf( 100 - get(s_libory) )\n",
    "#               ^convert futures quotes to conventional % format"
   ]
  },
  {
   "cell_type": "code",
   "execution_count": null,
   "metadata": {
    "collapsed": true
   },
   "outputs": [],
   "source": [
    "#  Let \"spread\" denote their arithmetic difference:\n",
    "spread = libor - fed"
   ]
  },
  {
   "cell_type": "code",
   "execution_count": null,
   "metadata": {
    "collapsed": false
   },
   "outputs": [],
   "source": [
    "plot( spread )\n",
    "#  but clearly there is a trend."
   ]
  },
  {
   "cell_type": "code",
   "execution_count": null,
   "metadata": {
    "collapsed": false
   },
   "outputs": [],
   "source": [
    "plot( libor )"
   ]
  },
  {
   "cell_type": "markdown",
   "metadata": {},
   "source": [
    "Note that *spread* and *libor* have similar trends, which we will further use to model the spread."
   ]
  },
  {
   "cell_type": "code",
   "execution_count": null,
   "metadata": {
    "collapsed": true
   },
   "outputs": [],
   "source": [
    "#  Let \"ratio\" denote the ratio between spread and libor:\n",
    "ratio = todf( spread / libor ) \n",
    "#  as a way to filter out the trends."
   ]
  },
  {
   "cell_type": "code",
   "execution_count": null,
   "metadata": {
    "collapsed": false
   },
   "outputs": [],
   "source": [
    "#  Now we have something more stationary:\n",
    "plot( ratio )"
   ]
  },
  {
   "cell_type": "markdown",
   "metadata": {},
   "source": [
    "We think that the spread is multiplicatively dependent on the level of libor. The underlying *libor* is an instrument of 90-day duration, whereas *fed* is the average of erratic 30 one-day durations. Thus the average ratio roughly expresses the multplicative relation between 3-month and 1-month rates. That 1-month rate should be within the Federal Reserve's decreed Fed Funds range (see Appendix)."
   ]
  },
  {
   "cell_type": "code",
   "execution_count": null,
   "metadata": {
    "collapsed": false
   },
   "outputs": [],
   "source": [
    "#  Average ratio:\n",
    "ratio_av = ratio.mean()\n",
    "print ratio_av"
   ]
  },
  {
   "cell_type": "markdown",
   "metadata": {},
   "source": [
    "Thus, perhaps in the short-term the relationship between LIBOR and Fed Funds is multiplicative, rather than arithmetic. (The *ratio_av* in the long-term is definitively not constant due to the changing credit worthiness of the primary international banks.) More precisely,\n",
    "\n",
    "    fed = (1 - ratio_av) * libor"
   ]
  },
  {
   "cell_type": "code",
   "execution_count": null,
   "metadata": {
    "collapsed": true
   },
   "outputs": [],
   "source": [
    "#  So let's create SYNTHETIC Fed Funds:\n",
    "fedsyn = todf( (1 - ratio_av) * libor )\n",
    "\n",
    "#  2015-09-16  ratio_av = 0.358"
   ]
  },
  {
   "cell_type": "code",
   "execution_count": null,
   "metadata": {
    "collapsed": false
   },
   "outputs": [],
   "source": [
    "#  To validate against the traded Fed Funds futures:\n",
    "#  stat2( fed[Y], fedsyn[Y] )"
   ]
  },
  {
   "cell_type": "code",
   "execution_count": null,
   "metadata": {
    "collapsed": false
   },
   "outputs": [],
   "source": [
    "#  Estimation error:\n",
    "#  stats( fed - fedsyn )"
   ]
  },
  {
   "cell_type": "markdown",
   "metadata": {},
   "source": [
    "2015-09-14  Correlation and R-squared are both around 0.98 which is very good. [Uncomment the command to see the printout.]\n",
    "\n",
    "But we are more concerned about estimation errors: standard deviation of 4.7 bp (as of 2015-09-16) which is not bad for a highly erratic series like Fed Funds (see Appendix). \n",
    "\n",
    "Next we will look at the most recent 3-month segment of synthetic Fed Funds."
   ]
  },
  {
   "cell_type": "code",
   "execution_count": null,
   "metadata": {
    "collapsed": false
   },
   "outputs": [],
   "source": [
    "#  Synthetic Fed Funds, last 64 trading days:\n",
    "plot( tail( fedsyn, 64 ))"
   ]
  },
  {
   "cell_type": "markdown",
   "metadata": {},
   "source": [
    "2015-09-16  Synthetic Fed Funds for December 2015 is currently sitting at 32 bp (note: that sudden decline in August to 27 bp is associated with the stock crash in China with some spillover to the US equities). Tomorrow is the FOMC decision for September 2015 over which there is great market uncertainty regarding a rate hike. \n",
    "\n",
    "2015-09-22  Post-FOMC of 2015-09-17 shows a sharp decline to 26 bp due to no-hike decision."
   ]
  },
  {
   "cell_type": "markdown",
   "metadata": {},
   "source": [
    "## On rate hike probabilities and forecasting\n",
    "\n",
    "The media is fond of releasing the probability of a rate hike based on Fed Funds futures, however, the assumptions behind the calculation are often dubious given that the Fed currently operates within a range [2015-09-16: zero to 25 bp range since 16 December 2008] rather than a single target rate.\n",
    "\n",
    "Our synthetic forward Fed Funds has estimated the expected average FFER (Fed Funds Effective Rate) *during* the initialized contract month. Rather than prob(rate_hike), we will apply our estimated parameter on the LIBOR futures one year out from the initial month."
   ]
  },
  {
   "cell_type": "code",
   "execution_count": null,
   "metadata": {
    "collapsed": true
   },
   "outputs": [],
   "source": [
    "#  Let's estimate Fed Funds 1-year out:\n",
    "fedy = todf( (1 - ratio_av) * libory )\n",
    "\n",
    "#  Note how we substitute libory in place of libor."
   ]
  },
  {
   "cell_type": "code",
   "execution_count": null,
   "metadata": {
    "collapsed": false
   },
   "outputs": [],
   "source": [
    "plot( tail( fedy, 64) )"
   ]
  },
  {
   "cell_type": "markdown",
   "metadata": {},
   "source": [
    "## CONCLUSION: point forecast for Fed Funds\n",
    "\n",
    "We have wrangled lots of data, but let's sum up with one number to this simple question: **How much is the Fed Funds expected to change over the next 12 months?**"
   ]
  },
  {
   "cell_type": "code",
   "execution_count": null,
   "metadata": {
    "collapsed": false
   },
   "outputs": [],
   "source": [
    "#  Taking this difference minimizes the effects of the yield curve:\n",
    "tailvalue( fedy ) - tailvalue( fedsyn )\n",
    "\n",
    "#  2015-09-16  Answer: +43 bp from current 14 bp effective rate (see Appendix), \n",
    "#                             so FFER est. at 0.57% in one year.\n",
    "#\n",
    "#  2015-09-22  Answer: +38 bp from current 14 bp effective rate,\n",
    "#                             so FFER est. at 0.52% in one year."
   ]
  },
  {
   "cell_type": "markdown",
   "metadata": {},
   "source": [
    "2015-09-22  Currently our **point forecast for FFER one-year out is 0.52%**. Given our standard error computed above, this implies in terms of expected Fed action: one rate hike of 25 bp (keeping actual in the upper range) or two rate hikes of 25 bp (keeping actual in the lower [0.50, 0.75] range)."
   ]
  },
  {
   "cell_type": "markdown",
   "metadata": {},
   "source": [
    "## Appendix: FFER, Fed Funds Effective Rate\n",
    "\n",
    "Here we cover the actual Fed Funds rate (not the futures)."
   ]
  },
  {
   "cell_type": "code",
   "execution_count": null,
   "metadata": {
    "collapsed": true
   },
   "outputs": [],
   "source": [
    "#  The data source is the Federal Reserve Bank of St. Louis:\n",
    "ffer = getfred( 'DFF')\n",
    "#               ^Daily frequency"
   ]
  },
  {
   "cell_type": "code",
   "execution_count": null,
   "metadata": {
    "collapsed": false
   },
   "outputs": [],
   "source": [
    "#  To see the raw FFER over the last year:\n",
    "#  plot( tail( ffer, 256 ))"
   ]
  },
  {
   "cell_type": "code",
   "execution_count": null,
   "metadata": {
    "collapsed": true
   },
   "outputs": [],
   "source": [
    "#  FFER is so notoriously erratic, \n",
    "#  we shall apply a double Holt-Winters filter:\n",
    "ffer = tail( ffer, 2560 )\n",
    "#                  ^for last ten years, back to 1954 unnecessary.\n",
    "ffer_holt = holtlevel( holtlevel( ffer ))"
   ]
  },
  {
   "cell_type": "code",
   "execution_count": null,
   "metadata": {
    "collapsed": false
   },
   "outputs": [],
   "source": [
    "plot( tail(ffer_holt, 256))"
   ]
  },
  {
   "cell_type": "markdown",
   "metadata": {},
   "source": [
    "2015-09-16  We can safely say that FFER has been trading around mid-range [0, 0.25] for the last year.\n",
    "\n",
    "Note that the *overnight* FFER will have very little bearing on futures pricing because the Federal Reserve uses open market operations influencing the money supply to force FFER within their *currently* stated policy range.  "
   ]
  },
  {
   "cell_type": "code",
   "execution_count": null,
   "metadata": {
    "collapsed": true
   },
   "outputs": [],
   "source": []
  }
 ],
 "metadata": {
  "kernelspec": {
   "display_name": "Python 2",
   "language": "python",
   "name": "python2"
  },
  "language_info": {
   "codemirror_mode": {
    "name": "ipython",
    "version": 2
   },
   "file_extension": ".py",
   "mimetype": "text/x-python",
   "name": "python",
   "nbconvert_exporter": "python",
   "pygments_lexer": "ipython2",
   "version": "2.7.10"
  }
 },
 "nbformat": 4,
 "nbformat_minor": 0
}
