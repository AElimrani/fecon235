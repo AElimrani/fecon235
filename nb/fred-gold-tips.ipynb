{
 "metadata": {
  "name": "",
  "signature": "sha256:1eada56222ef87a1b75ba56cf69c8cc5406ae17d33df065a58eeaee13306dcce"
 },
 "nbformat": 3,
 "nbformat_minor": 0,
 "worksheets": [
  {
   "cells": [
    {
     "cell_type": "heading",
     "level": 1,
     "metadata": {},
     "source": [
      "Gold and TIPS, their daily relationship"
     ]
    },
    {
     "cell_type": "markdown",
     "metadata": {},
     "source": [
      "We know there is a strong correlation between the two using monthly data, so let's investigate on finer time scale. "
     ]
    },
    {
     "cell_type": "markdown",
     "metadata": {},
     "source": [
      "*Dependencies:*\n",
      "     - Linux, bash\n",
      "     - Python: matplotlib, pandas\n",
      "     - Modules: yi_1tools.py, yi_fred.py\n",
      "     \n",
      "*CHANGE LOG*\n",
      "\n",
      "    2014-08-01  Use modules derived from notebooks.\n",
      "    2014-07-22  First satisfactory version."
     ]
    },
    {
     "cell_type": "code",
     "collapsed": false,
     "input": [
      "#  PREPARE notebook, show prequisites, admin details:\n",
      "\n",
      "#  Automatically reload modified modules:\n",
      "%load_ext autoreload\n",
      "%autoreload 2\n",
      "#  Generate plots inside notebook:\n",
      "%matplotlib inline\n",
      "\n",
      "#  Assuming Linux behind the scene...\n",
      "print '\\n ::  TIMESTAMP of last execution:'\n",
      "!date\n",
      "print '\\n ::  Working directory:'\n",
      "!pwd"
     ],
     "language": "python",
     "metadata": {},
     "outputs": [
      {
       "output_type": "stream",
       "stream": "stdout",
       "text": [
        "The autoreload extension is already loaded. To reload it, use:\n",
        "  %reload_ext autoreload\n",
        "\n",
        " ::  TIMESTAMP of last execution:"
       ]
      },
      {
       "output_type": "stream",
       "stream": "stdout",
       "text": [
        "\n",
        "Sat Aug  2 11:12:58 PDT 2014"
       ]
      },
      {
       "output_type": "stream",
       "stream": "stdout",
       "text": [
        "\r\n"
       ]
      },
      {
       "output_type": "stream",
       "stream": "stdout",
       "text": [
        "\n",
        " ::  Working directory:\n",
        "/home/yaya/net/ipy/01-act\r\n"
       ]
      }
     ],
     "prompt_number": 13
    },
    {
     "cell_type": "code",
     "collapsed": false,
     "input": [
      "#  Some useful modules:       [ ] - print out EOF for reference.\n",
      "from yi_1tools import *\n",
      "from yi_fred import *"
     ],
     "language": "python",
     "metadata": {},
     "outputs": [],
     "prompt_number": 14
    },
    {
     "cell_type": "code",
     "collapsed": false,
     "input": [
      "gold = getfred(d4xau)"
     ],
     "language": "python",
     "metadata": {},
     "outputs": [],
     "prompt_number": 15
    },
    {
     "cell_type": "code",
     "collapsed": false,
     "input": [
      "tips = getfred(d4tips10)"
     ],
     "language": "python",
     "metadata": {},
     "outputs": [],
     "prompt_number": 16
    },
    {
     "cell_type": "code",
     "collapsed": false,
     "input": [
      "stat2(gold['Y'], tips['Y'])"
     ],
     "language": "python",
     "metadata": {},
     "outputs": [
      {
       "output_type": "stream",
       "stream": "stdout",
       "text": [
        " ::  FIRST variable:\n",
        "count    12090.000000\n",
        "mean       451.933637\n",
        "std        387.137434\n",
        "min         34.750000\n",
        "25%        262.875000\n",
        "50%        365.800000\n",
        "75%        449.287500\n",
        "max       1895.000000\n",
        "dtype: float64"
       ]
      },
      {
       "output_type": "stream",
       "stream": "stdout",
       "text": [
        "\n",
        "\n",
        " ::  SECOND variable:\n",
        "count    3021.000000\n",
        "mean        1.320900\n",
        "std         0.946469\n",
        "min        -0.870000\n",
        "25%         0.620000\n",
        "50%         1.630000\n",
        "75%         2.030000\n",
        "max         3.150000\n",
        "dtype: float64\n",
        "\n",
        " ::  CORRELATION\n",
        "-0.868912209419"
       ]
      },
      {
       "output_type": "stream",
       "stream": "stdout",
       "text": [
        "\n",
        "\n",
        "-------------------------Summary of Regression Analysis-------------------------\n",
        "\n",
        "Formula: Y ~ <x> + <intercept>\n",
        "\n",
        "Number of Observations:         3021\n",
        "Number of Degrees of Freedom:   2\n",
        "\n",
        "R-squared:         0.7550\n",
        "Adj R-squared:     0.7549\n",
        "\n",
        "Rmse:            226.0036\n",
        "\n",
        "F-stat (1, 3019):  9303.8729, p-value:     0.0000\n",
        "\n",
        "Degrees of Freedom: model 1, resid 3019\n",
        "\n",
        "-----------------------Summary of Estimated Coefficients------------------------\n",
        "      Variable       Coef    Std Err     t-stat    p-value    CI 2.5%   CI 97.5%\n",
        "--------------------------------------------------------------------------------\n",
        "             x  -419.1191     4.3452     -96.46     0.0000  -427.6356  -410.6026\n",
        "     intercept  1502.5826     7.0604     212.82     0.0000  1488.7442  1516.4210\n",
        "---------------------------------End of Summary---------------------------------\n"
       ]
      },
      {
       "output_type": "stream",
       "stream": "stdout",
       "text": [
        "\n"
       ]
      }
     ],
     "prompt_number": 17
    },
    {
     "cell_type": "markdown",
     "metadata": {},
     "source": [
      "**So above shows that for roughly the last 12 years, TIPS +100 bp move fits a $419 decrease in gold price.**\n",
      "\n",
      "Let's now focus on the crisis regime, post-2007:"
     ]
    },
    {
     "cell_type": "code",
     "collapsed": false,
     "input": [
      "stat2(gold['Y']['2007-01-01':], tips['Y'])"
     ],
     "language": "python",
     "metadata": {},
     "outputs": [
      {
       "output_type": "stream",
       "stream": "stdout",
       "text": [
        " ::  FIRST variable:\n",
        "count    1980.000000\n",
        "mean     1208.841944\n",
        "std       342.935948\n",
        "min       608.400000\n",
        "25%       910.000000\n",
        "50%      1243.375000\n",
        "75%      1510.625000\n",
        "max      1895.000000\n",
        "dtype: float64\n"
       ]
      },
      {
       "output_type": "stream",
       "stream": "stdout",
       "text": [
        "\n",
        " ::  SECOND variable:\n",
        "count    3021.000000\n",
        "mean        1.320900\n",
        "std         0.946469\n",
        "min        -0.870000\n",
        "25%         0.620000\n",
        "50%         1.630000\n",
        "75%         2.030000\n",
        "max         3.150000\n",
        "dtype: float64"
       ]
      },
      {
       "output_type": "stream",
       "stream": "stdout",
       "text": [
        "\n",
        "\n",
        " ::  CORRELATION\n",
        "-0.923905755395\n",
        "\n",
        "-------------------------Summary of Regression Analysis-------------------------\n",
        "\n",
        "Formula: Y ~ <x> + <intercept>\n",
        "\n",
        "Number of Observations:         1979\n",
        "Number of Degrees of Freedom:   2\n",
        "\n",
        "R-squared:         0.8536\n",
        "Adj R-squared:     0.8535\n",
        "\n",
        "Rmse:            131.2786\n",
        "\n",
        "F-stat (1, 1977): 11527.2685, p-value:     0.0000\n",
        "\n",
        "Degrees of Freedom: model 1, resid 1977\n",
        "\n",
        "-----------------------Summary of Estimated Coefficients------------------------\n",
        "      Variable       Coef    Std Err     t-stat    p-value    CI 2.5%   CI 97.5%\n",
        "--------------------------------------------------------------------------------\n",
        "             x  -324.6153     3.0235    -107.37     0.0000  -330.5413  -318.6893\n",
        "     intercept  1520.8723     4.1421     367.17     0.0000  1512.7537  1528.9908\n",
        "---------------------------------End of Summary---------------------------------\n"
       ]
      },
      {
       "output_type": "stream",
       "stream": "stdout",
       "text": [
        "\n"
       ]
      }
     ],
     "prompt_number": 22
    },
    {
     "cell_type": "markdown",
     "metadata": {},
     "source": [
      "**The fit is improved over the last seven years (crisis regime): TIPS +100 bp move implies a $324 decrease in gold price.** \n",
      "\n",
      "We focus on the delta, rather than the fitted equation itself."
     ]
    },
    {
     "cell_type": "code",
     "collapsed": false,
     "input": [
      "tail(gold)"
     ],
     "language": "python",
     "metadata": {},
     "outputs": [
      {
       "html": [
        "<div style=\"max-height:1000px;max-width:1500px;overflow:auto;\">\n",
        "<table border=\"1\" class=\"dataframe\">\n",
        "  <thead>\n",
        "    <tr style=\"text-align: right;\">\n",
        "      <th></th>\n",
        "      <th>Y</th>\n",
        "    </tr>\n",
        "    <tr>\n",
        "      <th>T</th>\n",
        "      <th></th>\n",
        "    </tr>\n",
        "  </thead>\n",
        "  <tbody>\n",
        "    <tr>\n",
        "      <th>2014-07-24</th>\n",
        "      <td> 1292.75</td>\n",
        "    </tr>\n",
        "    <tr>\n",
        "      <th>2014-07-25</th>\n",
        "      <td> 1294.75</td>\n",
        "    </tr>\n",
        "    <tr>\n",
        "      <th>2014-07-28</th>\n",
        "      <td> 1304.50</td>\n",
        "    </tr>\n",
        "    <tr>\n",
        "      <th>2014-07-29</th>\n",
        "      <td> 1299.25</td>\n",
        "    </tr>\n",
        "    <tr>\n",
        "      <th>2014-07-30</th>\n",
        "      <td> 1294.50</td>\n",
        "    </tr>\n",
        "    <tr>\n",
        "      <th>2014-07-31</th>\n",
        "      <td> 1285.25</td>\n",
        "    </tr>\n",
        "    <tr>\n",
        "      <th>2014-08-01</th>\n",
        "      <td> 1291.25</td>\n",
        "    </tr>\n",
        "  </tbody>\n",
        "</table>\n",
        "</div>"
       ],
       "metadata": {},
       "output_type": "pyout",
       "prompt_number": 19,
       "text": [
        "                  Y\n",
        "T                  \n",
        "2014-07-24  1292.75\n",
        "2014-07-25  1294.75\n",
        "2014-07-28  1304.50\n",
        "2014-07-29  1299.25\n",
        "2014-07-30  1294.50\n",
        "2014-07-31  1285.25\n",
        "2014-08-01  1291.25"
       ]
      }
     ],
     "prompt_number": 19
    },
    {
     "cell_type": "code",
     "collapsed": false,
     "input": [
      "tail(tips)"
     ],
     "language": "python",
     "metadata": {},
     "outputs": [
      {
       "html": [
        "<div style=\"max-height:1000px;max-width:1500px;overflow:auto;\">\n",
        "<table border=\"1\" class=\"dataframe\">\n",
        "  <thead>\n",
        "    <tr style=\"text-align: right;\">\n",
        "      <th></th>\n",
        "      <th>Y</th>\n",
        "    </tr>\n",
        "    <tr>\n",
        "      <th>T</th>\n",
        "      <th></th>\n",
        "    </tr>\n",
        "  </thead>\n",
        "  <tbody>\n",
        "    <tr>\n",
        "      <th>2014-07-23</th>\n",
        "      <td> 0.25</td>\n",
        "    </tr>\n",
        "    <tr>\n",
        "      <th>2014-07-24</th>\n",
        "      <td> 0.25</td>\n",
        "    </tr>\n",
        "    <tr>\n",
        "      <th>2014-07-25</th>\n",
        "      <td> 0.20</td>\n",
        "    </tr>\n",
        "    <tr>\n",
        "      <th>2014-07-28</th>\n",
        "      <td> 0.22</td>\n",
        "    </tr>\n",
        "    <tr>\n",
        "      <th>2014-07-29</th>\n",
        "      <td> 0.20</td>\n",
        "    </tr>\n",
        "    <tr>\n",
        "      <th>2014-07-30</th>\n",
        "      <td> 0.29</td>\n",
        "    </tr>\n",
        "    <tr>\n",
        "      <th>2014-07-31</th>\n",
        "      <td> 0.29</td>\n",
        "    </tr>\n",
        "  </tbody>\n",
        "</table>\n",
        "</div>"
       ],
       "metadata": {},
       "output_type": "pyout",
       "prompt_number": 20,
       "text": [
        "               Y\n",
        "T               \n",
        "2014-07-23  0.25\n",
        "2014-07-24  0.25\n",
        "2014-07-25  0.20\n",
        "2014-07-28  0.22\n",
        "2014-07-29  0.20\n",
        "2014-07-30  0.29\n",
        "2014-07-31  0.29"
       ]
      }
     ],
     "prompt_number": 20
    },
    {
     "cell_type": "heading",
     "level": 2,
     "metadata": {},
     "source": [
      "August 2014 summary: From current levels, we can expect gold around $1000 if 10-year TIPS reach 1.25%."
     ]
    },
    {
     "cell_type": "markdown",
     "metadata": {},
     "source": [
      "**Note that \\$1000 gold is only $0.61 \\sigma$ away from the 7-year mean of \\$1208. The long-term *support point* going back to 2005 is currently around $1260.**\n",
      "\n",
      "It's not unreasonable for gold to breach long-term support if the Fed starts hiking rates up. The mean TIPS rate post-crisis is 1.3% which is about 100 bp above the current level."
     ]
    },
    {
     "cell_type": "code",
     "collapsed": false,
     "input": [],
     "language": "python",
     "metadata": {},
     "outputs": [],
     "prompt_number": 20
    }
   ],
   "metadata": {}
  }
 ]
}