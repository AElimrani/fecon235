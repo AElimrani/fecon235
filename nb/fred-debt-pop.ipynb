{
 "metadata": {
  "name": "",
  "signature": "sha256:d3b3bb09a7fae5e1ca752b78e3b4a4a5858d5bb19dabb6814daa830fc8c230ed"
 },
 "nbformat": 3,
 "nbformat_minor": 0,
 "worksheets": [
  {
   "cells": [
    {
     "cell_type": "heading",
     "level": 1,
     "metadata": {},
     "source": [
      "Growth of Federal debt and its burden on the US population"
     ]
    },
    {
     "cell_type": "markdown",
     "metadata": {},
     "source": [
      "We examine real debt and the current debt per capita."
     ]
    },
    {
     "cell_type": "markdown",
     "metadata": {},
     "source": [
      "*Dependencies:*\n",
      "     - Linux, bash\n",
      "     - Python: matplotlib, pandas\n",
      "     - Modules: yi_1tools.py, yi_fred.py\n",
      "     \n",
      "*CHANGE LOG*\n",
      "\n",
      "    2014-08-16  First version."
     ]
    },
    {
     "cell_type": "code",
     "collapsed": false,
     "input": [
      "#  PREPARE notebook, show prequisites, admin details:\n",
      "\n",
      "#  Automatically reload modified modules:\n",
      "%load_ext autoreload\n",
      "%autoreload 2\n",
      "#  Generate plots inside notebook:\n",
      "%matplotlib inline\n",
      "\n",
      "#  Assuming Linux behind the scene...\n",
      "print '\\n ::  TIMESTAMP of last execution:'\n",
      "!date\n",
      "print '\\n ::  Working directory:'\n",
      "!pwd"
     ],
     "language": "python",
     "metadata": {},
     "outputs": [
      {
       "output_type": "stream",
       "stream": "stdout",
       "text": [
        "\n",
        " ::  TIMESTAMP of last execution:\n"
       ]
      },
      {
       "output_type": "stream",
       "stream": "stdout",
       "text": [
        "Sat Aug 16 09:28:32 PDT 2014\r\n"
       ]
      },
      {
       "output_type": "stream",
       "stream": "stdout",
       "text": [
        "\n",
        " ::  Working directory:\n"
       ]
      },
      {
       "output_type": "stream",
       "stream": "stdout",
       "text": [
        "/home/yaya/net/ipy/01-act\r\n"
       ]
      }
     ],
     "prompt_number": 1
    },
    {
     "cell_type": "code",
     "collapsed": false,
     "input": [
      "#  Some useful modules:       [ ] - print out EOF for reference.\n",
      "from yi_1tools import *\n",
      "from yi_fred import *\n",
      "from yi_plot import *\n",
      "from yi_timeseries import *"
     ],
     "language": "python",
     "metadata": {},
     "outputs": [],
     "prompt_number": 12
    },
    {
     "cell_type": "code",
     "collapsed": false,
     "input": [
      "#  Federal debt monthly (converted from original quarterly series):\n",
      "debt = getfred(m4debt)"
     ],
     "language": "python",
     "metadata": {},
     "outputs": [],
     "prompt_number": 13
    },
    {
     "cell_type": "code",
     "collapsed": false,
     "input": [
      "plotdf(debt)"
     ],
     "language": "python",
     "metadata": {},
     "outputs": [
      {
       "metadata": {},
       "output_type": "display_data",
       "png": "[encoded data removed]",
       "text": [
        "<matplotlib.figure.Figure at 0xb023ab0c>"
       ]
      },
      {
       "output_type": "stream",
       "stream": "stdout",
       "text": [
        " ::  Finished: plotdf-tmp.png\n"
       ]
      }
     ],
     "prompt_number": 14
    },
    {
     "cell_type": "code",
     "collapsed": false,
     "input": [
      "#  Deflator:\n",
      "defl = getfred(m4defl)"
     ],
     "language": "python",
     "metadata": {},
     "outputs": [],
     "prompt_number": 15
    },
    {
     "cell_type": "code",
     "collapsed": false,
     "input": [
      "#  Real debt\n",
      "rdebt = defl * debt"
     ],
     "language": "python",
     "metadata": {},
     "outputs": [],
     "prompt_number": 16
    },
    {
     "cell_type": "code",
     "collapsed": false,
     "input": [
      "plotdf(rdebt)"
     ],
     "language": "python",
     "metadata": {},
     "outputs": [
      {
       "metadata": {},
       "output_type": "display_data",
       "png": "[encoded data removed]",
       "text": [
        "<matplotlib.figure.Figure at 0xb0216eac>"
       ]
      },
      {
       "output_type": "stream",
       "stream": "stdout",
       "text": [
        " ::  Finished: plotdf-tmp.png\n"
       ]
      }
     ],
     "prompt_number": 17
    },
    {
     "cell_type": "code",
     "collapsed": false,
     "input": [
      "#  Population:\n",
      "pop = getfred(m4pop)"
     ],
     "language": "python",
     "metadata": {},
     "outputs": [],
     "prompt_number": 19
    },
    {
     "cell_type": "code",
     "collapsed": false,
     "input": [
      "#  Real debt per capita\n",
      "rdebtcap = rdebt / pop"
     ],
     "language": "python",
     "metadata": {},
     "outputs": [],
     "prompt_number": 20
    },
    {
     "cell_type": "code",
     "collapsed": false,
     "input": [
      "plotdf(rdebtcap)\n",
      "#  shown in thousands of dollars"
     ],
     "language": "python",
     "metadata": {},
     "outputs": [
      {
       "metadata": {},
       "output_type": "display_data",
       "png": "[encoded data removed]",
       "text": [
        "<matplotlib.figure.Figure at 0xb01d544c>"
       ]
      },
      {
       "output_type": "stream",
       "stream": "stdout",
       "text": [
        " ::  Finished: plotdf-tmp.png\n"
       ]
      }
     ],
     "prompt_number": 21
    },
    {
     "cell_type": "heading",
     "level": 3,
     "metadata": {},
     "source": [
      "In current dollars, the population (including children and elders) each incurred Federal debt of \\$10K before the 1980s. Then there is a steady climb to around \\$35K in 2008. Thereafter, it is seen rocketing -- currently \\$55K per capita. But the average worker does not earn that much yearly. So we are very over-budget, and so in the future maturing children will have to take on the national burden."
     ]
    },
    {
     "cell_type": "code",
     "collapsed": false,
     "input": [],
     "language": "python",
     "metadata": {},
     "outputs": []
    }
   ],
   "metadata": {}
  }
 ]
}