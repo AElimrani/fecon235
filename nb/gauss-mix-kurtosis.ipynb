{
 "cells": [
  {
   "cell_type": "markdown",
   "metadata": {},
   "source": [
    "## Gaussian Mixture and Leptokurtotic Assets\n",
    "\n",
    "Mixture of Gaussian distributions is an intuitive way to create \n",
    "distributions with skew and kurtosis by adding \n",
    "two or more normal distributions.\n",
    "Such mixtures can capture leptokurtosis (fat tails) and nonzero skewness.\n",
    "\n",
    "We illustrate how a structured zero-mean GM(2) can synthesize Gaussian\n",
    "risk-equivalence for leptokurtotic assets (with \"fat tail\" returns)."
   ]
  },
  {
   "cell_type": "markdown",
   "metadata": {},
   "source": [
    "*Dependencies:*\n",
    "\n",
    "- Repository: https://github.com/rsvp/fecon235\n",
    "- Python: matplotlib, pandas\n",
    "\n",
    "*CHANGE LOG*\n",
    "\n",
    "    2017-05-03  First rough draft."
   ]
  },
  {
   "cell_type": "code",
   "execution_count": 1,
   "metadata": {
    "collapsed": true
   },
   "outputs": [],
   "source": [
    "from fecon235.fecon235 import *"
   ]
  },
  {
   "cell_type": "code",
   "execution_count": 2,
   "metadata": {
    "collapsed": false
   },
   "outputs": [
    {
     "name": "stdout",
     "output_type": "stream",
     "text": [
      " ::  Python 2.7.13\n",
      " ::  IPython 5.1.0\n",
      " ::  jupyter_core 4.2.1\n",
      " ::  notebook 4.1.0\n",
      " ::  matplotlib 1.5.1\n",
      " ::  numpy 1.11.0\n",
      " ::  pandas 0.19.2\n",
      " ::  pandas_datareader 0.2.1\n",
      " ::  Repository: fecon235 v5.17.0221 devMixture\n",
      " ::  Timestamp: 2017-05-03, 08:50:47 UTC\n",
      " ::  $pwd: /media/yaya/virt15h/virt/dbx/Dropbox/ipy/fecon235/nb\n"
     ]
    }
   ],
   "source": [
    "#  PREAMBLE-p6.15.1223 :: Settings and system details\n",
    "from __future__ import absolute_import, print_function\n",
    "system.specs()\n",
    "pwd = system.getpwd()   # present working directory as variable.\n",
    "print(\" ::  $pwd:\", pwd)\n",
    "#  If a module is modified, automatically reload it:\n",
    "%load_ext autoreload\n",
    "%autoreload 2\n",
    "#       Use 0 to disable this feature.\n",
    "\n",
    "#  Notebook DISPLAY options:\n",
    "#      Represent pandas DataFrames as text; not HTML representation:\n",
    "import pandas as pd\n",
    "pd.set_option( 'display.notebook_repr_html', False )\n",
    "from IPython.display import HTML # useful for snippets\n",
    "#  e.g. HTML('<iframe src=http://en.mobile.wikipedia.org/?useformat=mobile width=700 height=350></iframe>')\n",
    "from IPython.display import Image \n",
    "#  e.g. Image(filename='holt-winters-equations.png', embed=True) # url= also works\n",
    "from IPython.display import YouTubeVideo\n",
    "#  e.g. YouTubeVideo('1j_HxD4iLn8', start='43', width=600, height=400)\n",
    "from IPython.core import page\n",
    "get_ipython().set_hook('show_in_pager', page.as_hook(page.display_page), 0)\n",
    "#  Or equivalently in config file: \"InteractiveShell.display_page = True\", \n",
    "#  which will display results in secondary notebook pager frame in a cell.\n",
    "\n",
    "#  Generate PLOTS inside notebook, \"inline\" generates static png:\n",
    "%matplotlib inline   \n",
    "#          \"notebook\" argument allows interactive zoom and resize."
   ]
  },
  {
   "cell_type": "markdown",
   "metadata": {},
   "source": [
    "## Gaussian mixture in general and its four moments\n",
    "\n",
    "We build upon the cumulative distribution function (cdf) $\\Phi$ of the standard Gaussian $N(0, 1)$.\n",
    "\n",
    "For $0\\leq p_i \\leq 1$ such that $\\sum_{i=1}^n{p_i} = 1$, \n",
    "we define **Gaussian mixture GM(n)** given the following cdf \n",
    "and the associated probability density function (pdf):\n",
    "\n",
    "$$\\begin{aligned}\n",
    "F_n(x) & = \\sum_{i=1}^{n}{p_i}\\Phi (\\frac{x-\\mu_i}{\\sigma_i}) \\\\ f_n(x) & = \\sum_{i=1}^{n}{p_i}\\phi (x;\\mu_i,\\sigma_i^2) \\\\ \\phi (x;\\mu_i,\\sigma_i^2) & = \\frac{1}{\\sqrt{2\\pi}\\sigma_i}e^{-{(x-\\mu_i)^2}/{(2\\sigma_i^2)}}  \n",
    "\\end{aligned}$$"
   ]
  },
  {
   "cell_type": "markdown",
   "metadata": {},
   "source": [
    "The *intuitive idea* boils down to having n jars, each containing real numbers\n",
    "which are normally distributed, specified only by their mean and variance. \n",
    "We then randomly pick $x$ from the i-th jar with probability $p_i$.\n",
    "This is essentially how we will later simulate GM(n)."
   ]
  },
  {
   "cell_type": "markdown",
   "metadata": {},
   "source": [
    "**Proposition 1**: The moments of a Gaussian mixture GM(n) can be derived as follows, see Wang (2015):\n",
    "\n",
    "$$\\begin{aligned}\n",
    "\\mu &= \\sum_{i=1}^{n}{p_i}\\mu_i \\\\ \\sigma^2 &= \\sum_{i=1}^{n}{p_i}(\\sigma_i^2+\\mu_i^2)-\\mu^2 \\\\ skewness =: s &= \\frac{1}{\\sigma^3}\\sum_{i=1}^{n}{p_i}(\\mu_i-\\mu)[3\\sigma_i^2+(\\mu_i-\\mu)^2] \\\\ kurtosis =: \\kappa &= \\frac{1}{\\sigma^4}\\sum_{i=1}^{n}{p_i}[3\\sigma_i^4+6(\\mu_i-\\mu)^2\\sigma_i^2+(\\mu_i-\\mu)^4]\n",
    "\\end{aligned}$$"
   ]
  },
  {
   "cell_type": "markdown",
   "metadata": {},
   "source": [
    "For the standard Gaussian distribution, $s=0$ and $\\kappa=3$.\n",
    "The importance of Proposition 1 is that mixture GM(n) can be a\n",
    "distribution with values for skew and kurtosis which are non-standard.\n",
    "\n",
    "Returns on financial assets are said to be \"non-Gaussian.\"\n",
    "They are known to be \"fat-tailed\", or more technically,\n",
    "***leptokurtotic***: $\\kappa > 3$.\n",
    "This is where our mixture model can be helpful for risk management."
   ]
  },
  {
   "cell_type": "markdown",
   "metadata": {},
   "source": [
    "## Moments of the zero-mean GM(2)\n",
    "\n",
    "We focus our attention to a mixture built with two Gaussians,\n",
    "and examine its *even* moments, $\\sigma^2$ and $\\kappa$."
   ]
  },
  {
   "cell_type": "markdown",
   "metadata": {},
   "source": [
    "**Corolllary 1**: For $p+q=1$ and $\\mu_1=\\mu_2=0$, \n",
    "the moments of this Gaussian mixture, which we shall call **zero-mean GM(2)**,\n",
    "are given by:\n",
    "\n",
    "$$\\begin{aligned}\n",
    "\\mu &= 0 \\\\ \\sigma^2 &= p\\sigma_1^2 + q\\sigma_2^2 \\\\ skewness =: s &= 0 \\\\ kurtosis =: \\kappa &= \\frac{3}{\\sigma^4}[p\\sigma_1^4 + q\\sigma_2^4]\n",
    "\\end{aligned}$$"
   ]
  },
  {
   "cell_type": "markdown",
   "metadata": {},
   "source": [
    "**Corolllary 2:** Combining the equations for even moments,\n",
    "the following is a necessary condition for the **zero-mean GM(2)**: \n",
    "\n",
    "$$\\rm K := \\frac{\\kappa}{3} = \\frac{p\\sigma_1^4 + q\\sigma_2^4}{(p\\sigma_1^2 + q\\sigma_2^2)^2}$$\n",
    "\n",
    "Note: Our defined $\\rm K$ should not be confused with\n",
    "\"*excess kurtosis*\" := $\\kappa-3$\n",
    "(which is sometimes erroneously reported as the kurtosis statistic)."
   ]
  },
  {
   "cell_type": "markdown",
   "metadata": {},
   "source": [
    "## Structured zero-mean GM(2)\n",
    "\n",
    "Given data set {$x$}, we can compute its variance and kurtosis.\n",
    "Thus, $\\sigma$ and $\\rm K$ are observable.\n",
    "Corollary 2 says that GM(2) parameters can indeed synthesize $\\rm K$,\n",
    "but its messiness suggests that we impose further structure for clarity.\n",
    "\n",
    "A sensible requirement is a strict ordering,\n",
    "$\\sigma_1 < \\sigma < \\sigma_2$ due to the equation for $\\sigma^2$.\n",
    "We can impose this by constrained constants $a$ and $b$."
   ]
  },
  {
   "cell_type": "markdown",
   "metadata": {},
   "source": [
    "**Proposition 2**: For zero-mean GM(2), setting $0<a<1<b$ such that\n",
    "$\\sigma_1 = a\\sigma$ and $b\\sigma = \\sigma_2$ yields\n",
    "\n",
    "$$ p = \\frac{\\rm K - b^4}{a^4 - b^4}$$\n",
    "\n",
    "*Proof*: Substitute the two required equalities into the kurtosis equation\n",
    "of Corollary 1. Also note that by construction: $q=1-p$. $\\square$"
   ]
  },
  {
   "cell_type": "markdown",
   "metadata": {},
   "source": [
    "## Numerical application in finance\n",
    "\n",
    "Suppose we are examining the returns of a financial asset XYZ\n",
    "and find evidence of a leptokurtotic distribution where $\\kappa=4.05$.\n",
    "Clearly this is non-Gaussian (though kurtosis estimates\n",
    "are not known to be stable due to their fourth power).\n",
    "The annualized volatility was observed to be 20%, \n",
    "so $\\sigma=0.20$ and we wish to use the GM(2) model\n",
    "to manage risk.\n",
    "\n",
    "We establish two synthetic assets on our books to represent XYZ:\n",
    "\n",
    "- XYZ1 with volatility $a\\sigma$ where $a=0.8979$\n",
    "- XYZ2 with volatility $b\\sigma$ where $b=2.0000$\n",
    "\n",
    "The idea here is that XYZ1 models XYZ behaviour\n",
    "during normal trading, while XYZ2 models XYZ in an\n",
    "extremely volatile environment.\n",
    "\n",
    "We can still use our structured zero-mean GM(2) with\n",
    "non-zero mean returns because the mean is an *odd* moment\n",
    "merely providing an additive shift -- without changing\n",
    "the *shape* of the distribution. The pressing issue was \n",
    "actually getting suitable probability weights $p$ and $q$:\n",
    "\n",
    "$$\\begin{aligned}\n",
    "p &= \\frac{(4.05/3)-2^4}{0.8979^4-2^4} = \\frac{1.35-16}{0.65-16} = 0.9544\n",
    "\\\\ q &= 1-p = 0.0456\n",
    "\\end{aligned}$$\n",
    "\n",
    "Note that if kurtosis should increase, then upon recomputation, \n",
    "$q$ increases because more raws should come from the risker jar.\n",
    "\n",
    "Synthetic assets XYZ1 and XYZ2 are Gaussian assets, so we are\n",
    "free to use the optimal linear mean-variance framework,\n",
    "yet the leptokurtotic risks are approximately covered.\n",
    "\n",
    "If \\$100,000 of XYZ was on our books at 20% volatility, we use the\n",
    "probability weights to replace it with: \n",
    "- \\$95,440 of XYZ1 at 17.96% volatility, and\n",
    "- \\$4,560 of XYZ2 at 40% volatility."
   ]
  },
  {
   "cell_type": "markdown",
   "metadata": {},
   "source": [
    "# Test Code"
   ]
  },
  {
   "cell_type": "code",
   "execution_count": 5,
   "metadata": {
    "collapsed": false
   },
   "outputs": [],
   "source": [
    "#  Gaussian Mixture\n",
    "#  http://www.nehalemlabs.net/prototype/blog/2014/04/03/quick-introduction-to-gaussian-mixture-models-with-python/\n",
    "\n",
    "from sklearn import mixture\n",
    "\n",
    "def fit_samples(samples):\n",
    "    gmix = mixture.GMM(n_components=2, covariance_type='full')\n",
    "    gmix.fit(samples)\n",
    "    print(gmix.means_)\n",
    "    colors = ['r' if i==0 else 'g' for i in gmix.predict(samples)]\n",
    "    ax = plt.gca()\n",
    "    ax.scatter(samples[:,0], samples[:,1], c=colors, alpha=0.8)\n",
    "    plt.show()"
   ]
  },
  {
   "cell_type": "markdown",
   "metadata": {},
   "source": [
    "## References\n",
    "\n",
    "Wang, Jin (2015), [Multivariate Mixtures of Normal Distributions: Properties, Random Vector Generation, Fitting, and as Models of Market Daily Changes](https://www.researchgate.net/profile/Jin_Wang40/publication/274695842_Multivariate_Mixtures_of_Normal_Distributions_Properties_Random_Vector_Generation_Fitting_and_as_Models_of_Market_Daily_Changes/links/5525314c0cf22e181e73ee4f.pdf), Journal on Computing, Vol. 27, No. 2, Spring 2015, pp. 193–203. Cf. earlier version, Wang (2000), [Modeling and Generating Daily Changes in Market Variables Using A Multivariate Mixture of Normal Distributions](http://ww2.valdosta.edu/~jwang/paper/MixNormal.pdf).\n",
    "\n",
    "Thanks for corrected [skew equation](http://onlyvix.blogspot.com/2011/05/mixture-of-normal-formulas-for-skew-and.html) to @onlyvixx."
   ]
  }
 ],
 "metadata": {
  "kernelspec": {
   "display_name": "Python 2",
   "language": "python",
   "name": "python2"
  },
  "language_info": {
   "codemirror_mode": {
    "name": "ipython",
    "version": 2
   },
   "file_extension": ".py",
   "mimetype": "text/x-python",
   "name": "python",
   "nbconvert_exporter": "python",
   "pygments_lexer": "ipython2",
   "version": "2.7.13"
  }
 },
 "nbformat": 4,
 "nbformat_minor": 0
}
