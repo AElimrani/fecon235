{
 "cells": [
  {
   "cell_type": "markdown",
   "metadata": {},
   "source": [
    "## Gaussian Mixture and Leptokurtotic Assets\n",
    "\n",
    "Mixture of Gaussian distributions is an intuitive way to create \n",
    "distributions with skewness and kurtosis by adding \n",
    "two or more normal distributions.\n",
    "Such mixtures can synthesize *leptokurtosis* (\"fat tails\").\n",
    "\n",
    "We illustrate how a GM(2) model can synthesize Gaussian\n",
    "risk-equivalence for leptokurtotic assets.\n",
    "Both analytical and numerical solutions are given.\n",
    "\n",
    "[ ] - Appendix 1: Confirm analytical results by simulation\n",
    "\n",
    "[ ] - Appendix 2: Use scikit-learn to fit GM."
   ]
  },
  {
   "cell_type": "markdown",
   "metadata": {},
   "source": [
    "*Dependencies:*\n",
    "\n",
    "- Repository: https://github.com/rsvp/fecon235\n",
    "- Python: matplotlib, pandas, sympy\n",
    "\n",
    "*CHANGE LOG*\n",
    "\n",
    "    2017-05-05  Solve GM(2) for 2nd and 4th moments.\n",
    "    2017-05-04  Minor edits.\n",
    "    2017-05-03  First rough draft."
   ]
  },
  {
   "cell_type": "code",
   "execution_count": 1,
   "metadata": {
    "collapsed": true
   },
   "outputs": [],
   "source": [
    "from fecon235.fecon235 import *"
   ]
  },
  {
   "cell_type": "code",
   "execution_count": 2,
   "metadata": {
    "collapsed": false
   },
   "outputs": [
    {
     "name": "stdout",
     "output_type": "stream",
     "text": [
      " ::  Python 2.7.13\n",
      " ::  IPython 5.1.0\n",
      " ::  jupyter_core 4.2.1\n",
      " ::  notebook 4.1.0\n",
      " ::  matplotlib 1.5.1\n",
      " ::  numpy 1.11.0\n",
      " ::  pandas 0.19.2\n",
      " ::  pandas_datareader 0.2.1\n",
      " ::  Repository: fecon235 v5.17.0221 devGaussMix\n",
      " ::  Timestamp: 2017-05-05, 15:52:50 UTC\n",
      " ::  $pwd: /media/yaya/virt15h/virt/dbx/Dropbox/ipy/fecon235/nb\n"
     ]
    }
   ],
   "source": [
    "#  PREAMBLE-p6.15.1223d :: Settings and system details\n",
    "from __future__ import absolute_import, print_function, division\n",
    "system.specs()\n",
    "pwd = system.getpwd()   # present working directory as variable.\n",
    "print(\" ::  $pwd:\", pwd)\n",
    "#  If a module is modified, automatically reload it:\n",
    "%load_ext autoreload\n",
    "%autoreload 2\n",
    "#       Use 0 to disable this feature.\n",
    "\n",
    "#  Notebook DISPLAY options:\n",
    "#      Represent pandas DataFrames as text; not HTML representation:\n",
    "import pandas as pd\n",
    "pd.set_option( 'display.notebook_repr_html', False )\n",
    "from IPython.display import HTML # useful for snippets\n",
    "#  e.g. HTML('<iframe src=http://en.mobile.wikipedia.org/?useformat=mobile width=700 height=350></iframe>')\n",
    "from IPython.display import Image \n",
    "#  e.g. Image(filename='holt-winters-equations.png', embed=True) # url= also works\n",
    "from IPython.display import YouTubeVideo\n",
    "#  e.g. YouTubeVideo('1j_HxD4iLn8', start='43', width=600, height=400)\n",
    "from IPython.core import page\n",
    "get_ipython().set_hook('show_in_pager', page.as_hook(page.display_page), 0)\n",
    "#  Or equivalently in config file: \"InteractiveShell.display_page = True\", \n",
    "#  which will display results in secondary notebook pager frame in a cell.\n",
    "\n",
    "#  Generate PLOTS inside notebook, \"inline\" generates static png:\n",
    "%matplotlib inline   \n",
    "#          \"notebook\" argument allows interactive zoom and resize."
   ]
  },
  {
   "cell_type": "markdown",
   "metadata": {},
   "source": [
    "## Gaussian mixture in general and its four moments\n",
    "\n",
    "We build upon the cumulative distribution function (cdf) $\\Phi$ of the standard Gaussian $N(0, 1)$.\n",
    "\n",
    "For $0\\leq p_i \\leq 1$ such that $\\sum_{i=1}^n{p_i} = 1$, \n",
    "we define **Gaussian mixture GM(n)** by the following cdf \n",
    "and the associated probability density function (pdf):\n",
    "\n",
    "$$\\begin{aligned}\n",
    "F_n(x) &= \\sum_{i=1}^{n}{p_i}\\Phi (\\frac{x-\\mu_i}{\\sigma_i}) \\\\\n",
    "f_n(x) &= \\sum_{i=1}^{n}{p_i}\\phi (x;\\mu_i,\\sigma_i^2) \\\\\n",
    "\\phi (x;\\mu_i,\\sigma_i^2) &= \\frac{1}{\\sqrt{2\\pi}\\sigma_i}e^{-{(x-\\mu_i)^2}/{(2\\sigma_i^2)}}  \n",
    "\\end{aligned}$$"
   ]
  },
  {
   "cell_type": "markdown",
   "metadata": {},
   "source": [
    "The *intuitive idea* boils down to having n jars, each containing real numbers\n",
    "which are normally distributed, specified only by their mean and variance. \n",
    "We then randomly pick $x$ from the i-th jar with probability $p_i$.\n",
    "This is essentially how we will later simulate GM(n)."
   ]
  },
  {
   "cell_type": "markdown",
   "metadata": {},
   "source": [
    "**Proposition 1:** The centralized moments of a Gaussian mixture GM(n) are:\n",
    "\n",
    "$$\\begin{aligned}\n",
    "\\mu &= \\sum_{i=1}^{n}{p_i}\\mu_i \\\\\n",
    "\\sigma^2 &= \\sum_{i=1}^{n}{p_i}(\\sigma_i^2+\\mu_i^2)-\\mu^2 \\\\\n",
    "skewness =: s &= \\frac{1}{\\sigma^3}\\sum_{i=1}^{n}{p_i}(\\mu_i-\\mu)[3\\sigma_i^2+(\\mu_i-\\mu)^2] \\\\\n",
    "kurtosis =: \\kappa &= \\frac{1}{\\sigma^4}\\sum_{i=1}^{n}{p_i}[3\\sigma_i^4+6(\\mu_i-\\mu)^2\\sigma_i^2+(\\mu_i-\\mu)^4]\n",
    "\\end{aligned}$$"
   ]
  },
  {
   "cell_type": "markdown",
   "metadata": {},
   "source": [
    "The history behind Proposition 1 goes back to Pearson (1894).\n",
    "The algebraic expressions used in solving the ***method of moments***\n",
    "in general are very tedious, see Cohen (1967) per Wang (2015, section 4.1).\n",
    "\n",
    "For the standard Gaussian distribution, $s=0$ and $\\kappa=3$.\n",
    "The importance of Proposition 1 is that mixture GM(n) can be a\n",
    "distribution with values for skewness and kurtosis which are non-standard.\n",
    "\n",
    "Returns on financial assets are said to be \"non-Gaussian.\"\n",
    "They are known to be \"fat-tailed\", or more technically,\n",
    "***leptokurtotic***: $\\kappa > 3$.\n",
    "This is where our mixture model can be helpful for risk management."
   ]
  },
  {
   "cell_type": "markdown",
   "metadata": {},
   "source": [
    "## Moments of the zero-mean GM(2)\n",
    "\n",
    "We focus our attention to a mixture built with two Gaussians,\n",
    "and examine its *even* moments, $\\sigma^2$ and $\\kappa$\n",
    "by setting the component means to zero.\n",
    "We can later account for a Gaussian mixture GM(2) with non-zero mean \n",
    "since the first *odd* moment of a distribution is merely an additive shift,\n",
    "without any deformation to shape."
   ]
  },
  {
   "cell_type": "markdown",
   "metadata": {},
   "source": [
    "**Corollary 1.1:** For $p+q=1$ and $\\mu_1=\\mu_2=0$, \n",
    "the moments of this Gaussian mixture, which we shall call **zero-mean GM(2)**,\n",
    "are given by:\n",
    "\n",
    "$$\\begin{aligned}\n",
    "\\mu &= 0 \\\\ \n",
    "\\sigma^2 &= p\\sigma_1^2 + q\\sigma_2^2 \\\\ \n",
    "skewness =: s &= 0 \\\\\n",
    "kurtosis =: \\kappa &= \\frac{3}{\\sigma^4}[p\\sigma_1^4 + q\\sigma_2^4]\n",
    "\\end{aligned}$$"
   ]
  },
  {
   "cell_type": "markdown",
   "metadata": {},
   "source": [
    "**Corollary 1.2:** Combining the equations for even moments,\n",
    "the following is a necessary condition for the **zero-mean GM(2)**: \n",
    "\n",
    "$$\\rm K := \\frac{\\kappa}{3} = \\frac{p\\sigma_1^4 + q\\sigma_2^4}{(p\\sigma_1^2 + q\\sigma_2^2)^2}$$\n",
    "\n",
    "Note: Our defined $\\rm K$ should not be confused with\n",
    "Fischer \"*excess kurtosis*\" := $\\kappa-3$\n",
    "(which is sometimes erroneously reported as the kurtosis statistic).\n",
    "Our $\\kappa$ is also known as the *Pearson* kurtosis."
   ]
  },
  {
   "cell_type": "markdown",
   "metadata": {},
   "source": [
    "## Structured zero-mean GM(2)\n",
    "\n",
    "Given data set {$x$}, we can compute its variance and kurtosis.\n",
    "Thus, $\\sigma$ and $\\rm K$ are observable.\n",
    "Corollary 1.2 says that GM(2) parameters can indeed synthesize $\\rm K$,\n",
    "but its messiness suggests that we impose further structure for clarity.\n",
    "\n",
    "A sensible requirement is a strict ordering,\n",
    "$\\sigma_1 < \\sigma < \\sigma_2$\n",
    "in consideration of the weighted equation for $\\sigma^2$.\n",
    "We can impose this ordering by constrained constants $a$ and $b$."
   ]
  },
  {
   "cell_type": "markdown",
   "metadata": {},
   "source": [
    "**Lemma 2.1:** Let $\\sigma_1 = a\\sigma$ and $b\\sigma = \\sigma_2$\n",
    "such that $0<a<1<b$, then for zero-mean GM(2)\n",
    "the following probability satisfies the condition for *kurtosis*:\n",
    "\n",
    "$$ p = \\frac{\\rm K - b^4}{a^4 - b^4}$$\n",
    "\n",
    "*PROOF*. Substitute the two equalities for $\\sigma$ into the kurtosis equation\n",
    "of Corollary 1.1. Also note that by construction: $q=1-p$.    $\\square$"
   ]
  },
  {
   "cell_type": "markdown",
   "metadata": {},
   "source": [
    "**Lemma 2.2:** Let $\\sigma_1 = a\\sigma$ and $b\\sigma = \\sigma_2$\n",
    "such that $0<a<1<b$, then for zero-mean GM(2)\n",
    "the following probability satisfies the condition for *variance*:\n",
    "\n",
    "$$ p = \\frac{1 - b^2}{a^2 - b^2}$$\n",
    "\n",
    "*PROOF*. Substitute the two equalities for $\\sigma$ into the $\\sigma^2$ equation\n",
    "of Corollary 1.1. Also note that by construction: $q=1-p$.    $\\square$"
   ]
  },
  {
   "cell_type": "markdown",
   "metadata": {},
   "source": [
    "**Proposition 2:** Let $\\sigma_1 = a\\sigma$ and $b\\sigma = \\sigma_2$\n",
    "such that $0<a<1<b$, then for zero-mean GM(2)\n",
    "the following satisfies conditions for both *kurtosis* and *variance*:\n",
    "\n",
    "$$\\frac{\\rm K - b^4}{a^4 - b^4} = \\frac{1 - b^2}{a^2 - b^2}$$\n",
    "\n",
    "*PROOF*. Immediate from Lemma 2.1 and 2.2.    $\\square$"
   ]
  },
  {
   "cell_type": "markdown",
   "metadata": {},
   "source": [
    "## Analytic strategy and conclusion\n",
    "\n",
    "Proposition 2 shows how constants $a$ and $b$ are jointly constrained\n",
    "by the moments of the Gaussian mixture.\n",
    "\n",
    "Our **strategy** will be to choose $b>1$, then use the kurtosis $\\kappa$\n",
    "to compute $a$. Probability $p$ can then be computed using\n",
    "Lemma 2.2, for which $q=1-p$ follows.\n",
    "Since $\\sigma_1 = a\\sigma$ and $b\\sigma = \\sigma_2$\n",
    "the components of our zero-mean GM(2) are fully resolved,\n",
    "given specific $\\sigma$.\n",
    "\n",
    "From two observable statistics $\\sigma$ and $\\kappa$,\n",
    "we have *deduced*, not fitted, the parameters of a zero-mean GM(2).\n",
    "An observable mean $\\mu$ which is non-zero can be added to\n",
    "our model to obtain a zero-skew GM(2).\n",
    "\n",
    "Fitting a general Gaussian mixture is computational very intensive,\n",
    "and for returns on financial assets, the results are often\n",
    "not robust. Our analytical method of moments allows us\n",
    "to constrain parameters in a way which has an optimal\n",
    "interpretation in linear Hilbert space, which for finance\n",
    "boils down to the Markowitz mean-variance framework.\n",
    "\n",
    "---"
   ]
  },
  {
   "cell_type": "markdown",
   "metadata": {},
   "source": [
    "## Numerically solving Proposition 2\n",
    "\n",
    "Given $b$ we could analytically solve for $a$ rewriting the solution for quadratic equations.\n",
    "Instead we shall demostrate the use of Python's sympy package for symbolic mathematics."
   ]
  },
  {
   "cell_type": "code",
   "execution_count": 56,
   "metadata": {
    "collapsed": true
   },
   "outputs": [],
   "source": [
    "from sympy import symbols, Eq, solveset, S\n",
    "\n",
    "def gm2_strategy(kurtosis, b):\n",
    "    '''Use sympy to solve for \"a\" numerically.'''\n",
    "    a = symbols('a')\n",
    "    K = kurtosis / 3.0\n",
    "    #  Use equation from Prop. 2\n",
    "    LHS = (K - (b**4)) / ((a**4) - (b**4))\n",
    "    RHS = (1 - (b**2)) / ((a**2) - (b**2))\n",
    "    a_solved = solveset( Eq(LHS, RHS), a, domain=S.Reals )\n",
    "    #  ... expect negative and positve real solutions\n",
    "    #      provided in sympy's FiniteSet format.\n",
    "    #  But a>0 by construction, so extract the positive real number:\n",
    "    return max(list(a_solved))"
   ]
  },
  {
   "cell_type": "code",
   "execution_count": 61,
   "metadata": {
    "collapsed": false
   },
   "outputs": [
    {
     "data": {
      "text/plain": [
       "0.939858145324779"
      ]
     },
     "execution_count": 61,
     "metadata": {},
     "output_type": "execute_result"
    }
   ],
   "source": [
    "#  Example of deducing constant \"a\":\n",
    "gm2_strategy(kurtosis=4.05, b=2)"
   ]
  },
  {
   "cell_type": "markdown",
   "metadata": {},
   "source": [
    "## Numerical solution for GM(2)\n",
    "\n",
    "So for fixed b, we can implement our strategy\n",
    "to completely specify our GM(2) model:"
   ]
  },
  {
   "cell_type": "code",
   "execution_count": 64,
   "metadata": {
    "collapsed": false
   },
   "outputs": [],
   "source": [
    "def gm2_main(kurtosis, b, sigma):\n",
    "    '''Compute specs for GM(2) given observable statistics and b.'''\n",
    "    a = gm2_strategy(kurtosis, b)\n",
    "    #  Probability p as given in Lemma 2.2:\n",
    "    p = (1 - (b**2)) / ((a**2) - (b**2))\n",
    "    return [[a, b], [p, a*sigma], [1-p, b*sigma]]\n",
    "\n",
    "def gm2_print(kurtosis, b, sigma):\n",
    "    '''Print specs for GM(2) given observable statistics and b.'''\n",
    "    specs = gm2_main(kurtosis, b, sigma)\n",
    "    print(\"Constants a, b:\", specs[0])\n",
    "    print(\"GM(2), p: \", specs[1][0])\n",
    "    print(\"GM(2), sigma_1:\", specs[1][1])\n",
    "    print(\"GM(2), q: \", specs[2][0])\n",
    "    print(\"GM(2), sigma_2:\", specs[2][1])"
   ]
  },
  {
   "cell_type": "code",
   "execution_count": 65,
   "metadata": {
    "collapsed": false
   },
   "outputs": [
    {
     "name": "stdout",
     "output_type": "stream",
     "text": [
      "Constants a, b: [0.939858145324779, 2]\n",
      "GM(2), p:  0.962566844919786\n",
      "GM(2), sigma_1: 0.187971629064956\n",
      "GM(2), q:  0.0374331550802137\n",
      "GM(2), sigma_2: 0.4\n"
     ]
    }
   ],
   "source": [
    "#  Demo of zero-mean GM(2) parameters:\n",
    "gm2_print(kurtosis=4.05, b=2, sigma=0.20)"
   ]
  },
  {
   "cell_type": "markdown",
   "metadata": {},
   "source": [
    "## Numerical application in finance\n",
    "\n",
    "Suppose we are examining the returns of a financial asset XYZ\n",
    "and find evidence of a leptokurtotic distribution where $\\kappa=4.05$.\n",
    "Clearly this is non-Gaussian (though kurtosis estimates\n",
    "are not known to be stable due to their fourth power).\n",
    "The annualized volatility was observed to be 20%, \n",
    "so $\\sigma=0.20$ and we wish to use the GM(2) model\n",
    "to manage risk.\n",
    "\n",
    "We establish two synthetic assets on our books to represent XYZ\n",
    "by our choice of constrained constant $b$:\n",
    "\n",
    "- XYZ1 with volatility $a\\sigma$ where $a=0.9399$ is deduced,\n",
    "- XYZ2 with volatility $b\\sigma$ where $b=2.0000$\n",
    "\n",
    "The idea here is that XYZ1 models XYZ behaviour\n",
    "during normal trading (with probability $p=0.9626$),\n",
    "while XYZ2 models XYZ in an extremely volatile environment\n",
    "(with probability $q=0.0374$).\n",
    "\n",
    "Note that if kurtosis should increase, then upon recomputation, \n",
    "$q$ will increase because more \"fat-tail\" risk has emerged.\n",
    "\n",
    "We can still use our structured zero-mean GM(2) with\n",
    "*non-zero* mean returns because the mean is an *odd* moment\n",
    "merely providing an additive shift -- without changing\n",
    "the *shape* of the distribution. The pressing issue was \n",
    "actually getting suitable probability weights $p$ and $q$.\n",
    "\n",
    "If \\$100,000 of XYZ was on our books at 20% volatility, we use the\n",
    "probability weights to replace it with: \n",
    "- \\$96,260 of XYZ1 at 18.80% volatility, and\n",
    "- \\$3,740 of XYZ2 at 40% volatility.\n",
    "\n",
    "Important to emphasize that synthetic assets XYZ1 and XYZ2\n",
    "are Gaussian assets, so we are free to use the \n",
    "optimal linear mean-variance framework,\n",
    "yet the leptokurtotic risks are approximately covered.\n",
    "GM models are excellent extensions for\n",
    "VaR (Value at Risk) evaluations."
   ]
  },
  {
   "cell_type": "markdown",
   "metadata": {},
   "source": [
    "---\n",
    "\n",
    "## Appendix 1: Confirm analytical results using simulation"
   ]
  },
  {
   "cell_type": "markdown",
   "metadata": {},
   "source": [
    "---\n",
    "\n",
    "##  Appendix 2: Fitting GM using scikit-learn"
   ]
  },
  {
   "cell_type": "code",
   "execution_count": 5,
   "metadata": {
    "collapsed": false
   },
   "outputs": [],
   "source": [
    "#  Gaussian Mixture\n",
    "#  http://www.nehalemlabs.net/prototype/blog/2014/04/03/quick-introduction-to-gaussian-mixture-models-with-python/\n",
    "\n",
    "from sklearn import mixture\n",
    "\n",
    "def fit_samples(samples):\n",
    "    gmix = mixture.GMM(n_components=2, covariance_type='full')\n",
    "    gmix.fit(samples)\n",
    "    print(gmix.means_)\n",
    "    colors = ['r' if i==0 else 'g' for i in gmix.predict(samples)]\n",
    "    ax = plt.gca()\n",
    "    ax.scatter(samples[:,0], samples[:,1], c=colors, alpha=0.8)\n",
    "    plt.show()"
   ]
  },
  {
   "cell_type": "markdown",
   "metadata": {},
   "source": [
    "## References\n",
    "\n",
    "Cohen, A.C. (1967) Estimation in mixtures of two normal distributions.\n",
    "*Technometrika* 9:15–28.\n",
    "\n",
    "Pearson, K. (1894) Contributions to the theory of mathematical evolution.\n",
    "*Philosophical Trans. Roy. Soc. London* A185:71–110.\n",
    "\n",
    "Wang, Jin (2015), [Multivariate Mixtures of Normal Distributions: Properties, Random Vector Generation, Fitting, and as Models of Market Daily Changes](https://www.researchgate.net/profile/Jin_Wang40/publication/274695842_Multivariate_Mixtures_of_Normal_Distributions_Properties_Random_Vector_Generation_Fitting_and_as_Models_of_Market_Daily_Changes/links/5525314c0cf22e181e73ee4f.pdf), Journal on Computing, Vol. 27, No. 2, Spring 2015, pp. 193–203. Cf. earlier version, Wang (2000), [Modeling and Generating Daily Changes in Market Variables Using A Multivariate Mixture of Normal Distributions](http://ww2.valdosta.edu/~jwang/paper/MixNormal.pdf).\n",
    "\n",
    "Thanks for corrected [skew equation](http://onlyvix.blogspot.com/2011/05/mixture-of-normal-formulas-for-skew-and.html) to @onlyvixx, and jwang@valdosta.edu."
   ]
  }
 ],
 "metadata": {
  "kernelspec": {
   "display_name": "Python 2",
   "language": "python",
   "name": "python2"
  },
  "language_info": {
   "codemirror_mode": {
    "name": "ipython",
    "version": 2
   },
   "file_extension": ".py",
   "mimetype": "text/x-python",
   "name": "python",
   "nbconvert_exporter": "python",
   "pygments_lexer": "ipython2",
   "version": "2.7.13"
  }
 },
 "nbformat": 4,
 "nbformat_minor": 0
}
