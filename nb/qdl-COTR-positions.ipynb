{
 "cells": [
  {
   "cell_type": "markdown",
   "metadata": {},
   "source": [
    "# Market position indicators using CFTC COTR \n",
    "\n",
    "We examine the CFTC **Commitment of Traders Reports (COTR)** for futures and options to derive indicators of market position among Asset/Money Managers. Our generalized formulation permits treating asset classes which include: gold, silver, US dollar, bonds, and equities.\n",
    "\n",
    "Detailed explantory notes regarding the raw data can be found here:\n",
    "http://www.cftc.gov/MarketReports/CommitmentsofTraders/ExplanatoryNotes We shall disregard the Legacy format, and focus on the data after 13 June 2006. Current data is released weekly on Fridays."
   ]
  },
  {
   "cell_type": "markdown",
   "metadata": {},
   "source": [
    "*Dependencies:*\n",
    "\n",
    "    - Linux, bash [not crucial, cross-platform prefered]\n",
    "    - Python: matplotlib, pandas [recommend Anaconda distribution]\n",
    "    - Modules: yi_1tools, yi_plot, yi_timeseries, yi_fred, yi_quandl\n",
    "     \n",
    "*CHANGE LOG*\n",
    "\n",
    "    2015-08-25  Update tpl to v4.15.0812. Add silver COTR,\n",
    "                   and the class of precious metals w4cotr_metals.\n",
    "    2015-08-09  Change of variable names for clarity.\n",
    "    2015-08-07  First version arising as test of the Quandl API."
   ]
  },
  {
   "cell_type": "code",
   "execution_count": null,
   "metadata": {
    "collapsed": false
   },
   "outputs": [],
   "source": [
    "#  NOTEBOOK v4 settings and system details:      [00-tpl v4.15.0812]\n",
    "\n",
    "#  Assume that the backend is LINUX (e.g. Ubuntu running bash shell):\n",
    "print '\\n ::  TIMESTAMP of last notebook execution:'\n",
    "!date\n",
    "print ' ::  IPython version:'\n",
    "!ipython --version\n",
    "\n",
    "#  Automatically RELOAD modified modules:\n",
    "%load_ext autoreload\n",
    "%autoreload 2\n",
    "#           0 disables autoreload.\n",
    "\n",
    "#  DISPLAY options\n",
    "from IPython.display import Image \n",
    "#  e.g. Image(filename='holt-winters-equations.png', embed=True) # url= also works\n",
    "from IPython.display import YouTubeVideo\n",
    "#  e.g. YouTubeVideo('1j_HxD4iLn8', start='43', width=600, height=400)\n",
    "from IPython.display import HTML # useful for snippets\n",
    "#  e.g. HTML('<iframe src=http://en.mobile.wikipedia.org/?useformat=mobile width=700 height=350></iframe>')\n",
    "from IPython.core import page\n",
    "get_ipython().set_hook('show_in_pager', page.as_hook(page.display_page), 0)\n",
    "#  Or equivalently in config file: \"InteractiveShell.display_page = True\", \n",
    "#  which will display results in secondary notebook pager frame in a cell.\n",
    "\n",
    "#  MATH display, use %%latex, rather than the following:\n",
    "#                from IPython.display import Math\n",
    "#                from IPython.display import Latex\n",
    "#  Generate PLOTS inside notebook:\n",
    "%matplotlib inline\n",
    "\n",
    "import pandas as pd\n",
    "print ' ::  pandas version:'\n",
    "print pd.__version__\n",
    "#      pandas DataFrames are represented as text by default; enable HTML representation:\n",
    "#      [Deprecated: pd.core.format.set_printoptions( notebook_repr_html=True ) ]\n",
    "pd.set_option( 'display.notebook_repr_html', False )\n",
    "\n",
    "print ' ::  Working directory (set as $workd):'\n",
    "workd, = !pwd\n",
    "print workd + '\\n'"
   ]
  },
  {
   "cell_type": "code",
   "execution_count": null,
   "metadata": {
    "collapsed": false
   },
   "outputs": [],
   "source": [
    "#  Some useful modules: \n",
    "from yi_1tools import *\n",
    "from yi_plot import *\n",
    "from yi_timeseries import *\n",
    "from yi_fred import *\n",
    "from yi_quandl import *"
   ]
  },
  {
   "cell_type": "markdown",
   "metadata": {},
   "source": [
    "## COTR example: Gold\n",
    "\n",
    "To get an idea of what's contained in a Commitment of Traders Report, we first look at an example from the commodity futures market. Financial futures have a different format since the notion of a \"Producer\" is not entirely appropriate (though dealers may produce derivatives which may rely on the futures market). \n",
    "\n",
    "The the latest data is downloaded via Quandl as a pandas dataframe. The relevant functions are found in the yi_quandl module."
   ]
  },
  {
   "cell_type": "code",
   "execution_count": null,
   "metadata": {
    "collapsed": false
   },
   "outputs": [],
   "source": [
    "#  We first focus on GOLD:\n",
    "cotr = cotr_get( f4xau )\n",
    "#                ^ = 'GC' currently.\n",
    "#  Show column labels and only the last data point:\n",
    "tail( cotr, 1 )\n",
    "#  The entire dataset is actually in memory."
   ]
  },
  {
   "cell_type": "markdown",
   "metadata": {},
   "source": [
    "### Notable points\n",
    "\n",
    "- Number of longs = Number of shorts, by necessity -- and each side equals the *Open Interest*.\n",
    "- Option positions are computed on a futures-equivalent basis using delta factors supplied by the exchanges.\n",
    "- Generally non-directional traders (usually with hedged positions): Producer/User, Swap Dealer, and Dealer.\n",
    "- Generally **directional traders**: *Money Manager* (commodities), Leveraged Funds and *Asset Manager* (financials). Leveraged Funds appear to take very choppy short-term positions, whereas Asset Manager will show a longer-term positional narrative.\n",
    "- Non-directional trading by a Money Manager, Asset Manager, and Leveraged Funds is categorized separately under Spreads.\n",
    "- \"Non reportable\" traders are small players trading contract sizes under CFTC reporting thresholds -- generally, noise traders categorized as speculators.\n",
    "- **COTR is released weekly on Friday.**"
   ]
  },
  {
   "cell_type": "markdown",
   "metadata": {},
   "source": [
    "### Parsing out positions\n",
    "\n",
    "To characterize informed market direction we focus on the directional traders who are trading in large size which must be reported to the CFTC. Note that their *Longs* do not necessarily equal their *Shorts*\" since the counter-parties may be other players in the market, e.g. hedged producers, spreaders, or small uninformed traders."
   ]
  },
  {
   "cell_type": "code",
   "execution_count": null,
   "metadata": {
    "collapsed": true
   },
   "outputs": [],
   "source": [
    "longs  = cotr['Money Manager Longs']\n",
    "shorts = cotr['Money Manager Shorts']"
   ]
  },
  {
   "cell_type": "code",
   "execution_count": null,
   "metadata": {
    "collapsed": true
   },
   "outputs": [],
   "source": [
    "# diff in number of contracts:\n",
    "lsdiff = todf( longs - shorts )"
   ]
  },
  {
   "cell_type": "code",
   "execution_count": null,
   "metadata": {
    "collapsed": false
   },
   "outputs": [],
   "source": [
    "plotqdl( lsdiff )"
   ]
  },
  {
   "cell_type": "markdown",
   "metadata": {},
   "source": [
    "The preceding chart shows the difference between the number contracts long versus short. It is somewhat useful, but we would prefer a **scale-free [0, 1] measure** which reveal position: 0 for bearish, 0.50 for neutral, and 1 for bullish. This will also allow us later to combine readings to show position in a sector, for example, the US dollar versus foreign currencies."
   ]
  },
  {
   "cell_type": "code",
   "execution_count": null,
   "metadata": {
    "collapsed": true
   },
   "outputs": [],
   "source": [
    "#  Scale-free measure from zero to 1:\n",
    "z_xau = todf( longs / (longs + shorts ))"
   ]
  },
  {
   "cell_type": "code",
   "execution_count": null,
   "metadata": {
    "collapsed": false
   },
   "outputs": [],
   "source": [
    "#  Interpret as prob( bullish Manager ):\n",
    "plotqdl( z_xau )"
   ]
  },
  {
   "cell_type": "code",
   "execution_count": null,
   "metadata": {
    "collapsed": false
   },
   "outputs": [],
   "source": [
    "# How does our indicator compare to spot gold prices?\n",
    "xau = getfred( d4xau )\n",
    "plotfred( xau['2006-06-12':] )\n",
    "# using the FRED database for Gold London PM fix."
   ]
  },
  {
   "cell_type": "markdown",
   "metadata": {},
   "source": [
    "GOLD: We can definitely see a \"raging bull\" in action through 2013 -- our indicator approaches 1.0 frequently! Thereafter, there are four major efforts to re-ignite the bull market through mid-2015, but without much success as the price creeps downward. July 2016 sees a breakdown below the 0.6 positional support, to under the 0.5 neutral mark -- which means more shorts than longs among managers. "
   ]
  },
  {
   "cell_type": "markdown",
   "metadata": {},
   "source": [
    "## Generalization to Asset Classes"
   ]
  },
  {
   "cell_type": "markdown",
   "metadata": {
    "collapsed": false
   },
   "source": [
    "###  This function will compute position for commodities and financials:\n",
    "\n",
    "\n",
    "```\n",
    "#  See yi_quandl.py for further details:\n",
    "\n",
    "def cotr_position( futures='GC' ):\n",
    "     '''Extract market position from CFTC Commitment of Traders Report.'''\n",
    "     cotr = cotr_get( futures )\n",
    "     #  Report for both futures and options requested by implicit \"FO\".\n",
    "     #\n",
    "     #  For directionality we use these categories:\n",
    "     try:\n",
    "          longs  = cotr['Asset Manager Longs']\n",
    "          shorts = cotr['Asset Manager Shorts']\n",
    "          #  \"Leveraged Funds\" for FINANCIALS appear short-term, whereas \n",
    "          #  \"Asset Manager\" takes longer term perspective.\n",
    "     except:\n",
    "          longs  = cotr['Money Manager Longs']\n",
    "          shorts = cotr['Money Manager Shorts']\n",
    "          #  \"Money Manager\" for COMMODITIES. \n",
    "          #  The report is structured differently than financials.\n",
    "          #\n",
    "     #                _Scale-free between 0 and 1 indicating bullishness.\n",
    "     return tools.todf( longs / (longs + shorts ))\n",
    "```\n",
    "\n",
    "*Our scale-free measure on [0,1] has the advantage that comparable contracts can easily be averaged, and thus interpreted.*"
   ]
  },
  {
   "cell_type": "markdown",
   "metadata": {},
   "source": [
    "## Precious metals\n",
    "\n",
    "Let's first take a look at the COTR position for silver (spot symbol XAG). Graphically it is quite similar to gold, so we will also examine their statistical correlation."
   ]
  },
  {
   "cell_type": "code",
   "execution_count": null,
   "metadata": {
    "collapsed": false
   },
   "outputs": [],
   "source": [
    "#  Silver position:\n",
    "z_xag = cotr_position( f4xag )\n",
    "plotqdl( z_xag )"
   ]
  },
  {
   "cell_type": "code",
   "execution_count": null,
   "metadata": {
    "collapsed": false
   },
   "outputs": [],
   "source": [
    "#  Correlation and regression:\n",
    "#  stat2( z_xag['Y'], z_xau['Y'] )"
   ]
  },
  {
   "cell_type": "markdown",
   "metadata": {},
   "source": [
    "COTR positions for gold and silver are very correlated (approximately 77%), but a linear regression model is not satisfactory. This means they each contain some information that the other lacks. But since the market sentiment regarding both are similar, it is useful to combine their signals as precious metals.\n",
    "\n",
    "We use the futures and options COTR for contracts on both gold and silver, then average their position indicators. We can run this procedure by retrieval of a variable called w4cotr_metals (where w4 tells us that it's weekly series)."
   ]
  },
  {
   "cell_type": "code",
   "execution_count": null,
   "metadata": {
    "collapsed": false
   },
   "outputs": [],
   "source": [
    "#  Precious metals position:\n",
    "z_metals = getqdl( w4cotr_metals )\n",
    "plotqdl( z_metals )"
   ]
  },
  {
   "cell_type": "markdown",
   "metadata": {},
   "source": [
    "Positions in the precious metals have recently exhibited swings characteristic of momentum trading. Worth noting is the August 2015 dip into net short region. Less erratic swings probably will indicate a trend in prices of the underlying metals. "
   ]
  },
  {
   "cell_type": "markdown",
   "metadata": {},
   "source": [
    "## US Dollar position\n",
    "\n",
    "We use the futures and options COTR for contracts on both the euro and yen, then average their position indicators. To invert direction due to quotation style, we take the complement, i.e. (1-mean), so we still retain the [0,1] range. We can run this procedure by retrieval of a variable called *w4cotr_usd* (where w4 tells us that it's weekly series)."
   ]
  },
  {
   "cell_type": "code",
   "execution_count": null,
   "metadata": {
    "collapsed": false
   },
   "outputs": [],
   "source": [
    "#  Dollar position:\n",
    "z_usd = getqdl( w4cotr_usd )\n",
    "plotqdl( z_usd )"
   ]
  },
  {
   "cell_type": "markdown",
   "metadata": {},
   "source": [
    "As the subprime mortgage crisis deepened in the US, worldwide safety flight to USD peaks at our indicator exceeding 0.7,  Thereafter, we see an orderly decline through 2013 due to Fed's QE quantitative easing. A bull market develops due to the termination of QE by the Fed, while QE is relentlessly pursued by BoJ, and finally the ECB activates its own QE. The sudden acceleration at the beginning of 2013 was a huge early warning sign of change in market sentiment.\n",
    "\n",
    "Next is the dollar index (against most currencies) used by the Federal Reserve Bank which considers the real trade balance RTB between countries:"
   ]
  },
  {
   "cell_type": "code",
   "execution_count": null,
   "metadata": {
    "collapsed": false
   },
   "outputs": [],
   "source": [
    "# Fed US Dollar index, m4 means monthly frequency:\n",
    "usd = getfred( m4usdrtb )\n",
    "plotfred( usd['2006-06-01':])"
   ]
  },
  {
   "cell_type": "markdown",
   "metadata": {},
   "source": [
    "## Bonds position\n",
    "\n",
    "We use the futures and options COTR for contracts on both the eurodollar (strips) and 10-year Treasury bond, then average their position indicators. We can run this procedure by retrieval of a variable called *w4cotr_bonds* (where w4 tells us that it's weekly series). \n",
    "\n",
    "The indicator intends to show market position across the active yield curve, not in terms of rates, but rather prices of fixed-income instruments. This is useful to gauge the effects of Fed policy."
   ]
  },
  {
   "cell_type": "code",
   "execution_count": null,
   "metadata": {
    "collapsed": false
   },
   "outputs": [],
   "source": [
    "#  Bonds position:\n",
    "z_bonds = getqdl( w4cotr_bonds )\n",
    "plotqdl( z_bonds )"
   ]
  },
  {
   "cell_type": "markdown",
   "metadata": {},
   "source": [
    "From the beginnings of the subprime mortgage crisis to 2012, there is a commonplacent bull market conviction that the Fed wants lower rates across the yield curve: bond rates fall from 5% to 1.5%. Thereafter, the market seeks to front-run the Fed in the event ZIRP Zero Interest Rate Policy is reversed, but is denied on several occassions. \n",
    "\n",
    "Only after 2015 does our indicator spend time below the neutral halfway mark: Fed has ended QE, and the market seeks to determine the time of the first rate hike since the Great Recession. Bottoming rates in 2012 and 2015 technically imply a floor around 1.8% for the 10-y Treasuries. \n",
    "\n",
    "Given favorable economic conditions, esp. unemployment, and the expected hike in September of 2015: a bear market is developing for bond valuations."
   ]
  },
  {
   "cell_type": "code",
   "execution_count": null,
   "metadata": {
    "collapsed": false
   },
   "outputs": [],
   "source": [
    "bondrate = getfred( d4bond10 )\n",
    "#  10-y Treasury rate INVERTED in lieu of price:\n",
    "plotfred( -bondrate['2006-06-01':] )"
   ]
  },
  {
   "cell_type": "markdown",
   "metadata": {},
   "source": [
    "## Equities position\n",
    "\n",
    "We use the futures and options COTR for contracts on both the S&P 500 and and its e-mini version, then average their position indicators. We can run this procedure by retrieval of a variable called *w4cotr_equities* (where w4 tells us that it's weekly series). \n",
    "\n",
    "It is worth noting that our position indicator is extremely bullish going into the Great Recession, however, even during the worst sell-offs in equities the indicator never goes into bear territory. We suspect this is because many asset managers are constrained to going net long. "
   ]
  },
  {
   "cell_type": "code",
   "execution_count": null,
   "metadata": {
    "collapsed": false
   },
   "outputs": [],
   "source": [
    "#  Equities position:\n",
    "z_eq = getqdl( w4cotr_equities )\n",
    "plotqdl( z_eq  )"
   ]
  },
  {
   "cell_type": "code",
   "execution_count": null,
   "metadata": {
    "collapsed": false
   },
   "outputs": [],
   "source": [
    "#  So let's normalize the equities indicator:\n",
    "plotqdl(normalize( z_eq ))"
   ]
  },
  {
   "cell_type": "markdown",
   "metadata": {},
   "source": [
    "2015-08-08: Given our data, the neutral mark is around 0.77 for equities position. Normalization shows we are currently over 1 standard deviation into bear territory, even though the market seems to make advances upward every day."
   ]
  },
  {
   "cell_type": "code",
   "execution_count": null,
   "metadata": {
    "collapsed": false
   },
   "outputs": [],
   "source": [
    "#  SPX price data showing the post-2009 equities bull market:\n",
    "spx = getfred( d4spx )\n",
    "plotfred( spx['2006-06-12':])"
   ]
  },
  {
   "cell_type": "markdown",
   "metadata": {},
   "source": [
    "## Characterizing directionality (draft)\n",
    "\n",
    "Without graphical aids, we wish to quantify directionality. Let's compute the geometric mean return over two years on the positions data (as opposed to the underlying prices). So here we are computing the *rate* at which market sentiment is rising or falling."
   ]
  },
  {
   "cell_type": "code",
   "execution_count": null,
   "metadata": {
    "collapsed": true
   },
   "outputs": [],
   "source": [
    "#  class consists of precious metals, US dollar, bonds, equities:\n",
    "z_class = [ z_metals, z_usd, z_bonds, z_eq ]"
   ]
  },
  {
   "cell_type": "code",
   "execution_count": null,
   "metadata": {
    "collapsed": false
   },
   "outputs": [],
   "source": [
    "#  Sketch of code:\n",
    "for i in z_class:\n",
    "    print georet( tail(i, 104), 52 )"
   ]
  },
  {
   "cell_type": "markdown",
   "metadata": {},
   "source": [
    "2015-08-08: Clearly market sentiment has the greatest variation in gold. Gold's directional reading of -14 is about the same magnitude as the US dollar, but opposite in sign as expected. The gold market is twice as bearish as the bond market, but almost five times as bearish as the equities market. "
   ]
  },
  {
   "cell_type": "markdown",
   "metadata": {
    "collapsed": true
   },
   "source": [
    "## Current position relative to history\n",
    "\n",
    "We saw that our position indicator may not entirely span the [0,1] as expected due to institutional reasons (see the equities case above). So we can normalize a given series, and then look at the last point to gauge current market position."
   ]
  },
  {
   "cell_type": "code",
   "execution_count": null,
   "metadata": {
    "collapsed": false
   },
   "outputs": [],
   "source": [
    "for i in z_class:\n",
    "    print tailvalue(normalize( i ))"
   ]
  },
  {
   "cell_type": "markdown",
   "metadata": {},
   "source": [
    "## Correlation among position indicators\n",
    "\n",
    "Note that this is quite different than the usual look at price correlations -- it would be more akin to seeing how trader sentiment correlates across asset classes."
   ]
  },
  {
   "cell_type": "code",
   "execution_count": null,
   "metadata": {
    "collapsed": true
   },
   "outputs": [],
   "source": [
    "z_data = paste( z_class )\n",
    "z_data.columns = ['z_metals', 'z_usd', 'z_bonds', 'z_eq']"
   ]
  },
  {
   "cell_type": "code",
   "execution_count": null,
   "metadata": {
    "collapsed": false
   },
   "outputs": [],
   "source": [
    "stats( z_data )"
   ]
  },
  {
   "cell_type": "markdown",
   "metadata": {},
   "source": [
    "No strong correlations among position indicators. As expected z_metals and z_usd are negatively correlated, but precious metals sentiment is most correlated to bonds. We have closely examined the relationship between gold and interest rates in another notebook, and indeed, *real rates* are very significant. Our bond indicator, however, only relates to nominal rates.\n",
    "\n",
    "In general, we hope that the position indicators are *not* correlated too closely with the underlying prices because we are seeking information which is not derivable from observable prices. It is most interesting when market positions *diverge* from identified patterns in price charts."
   ]
  },
  {
   "cell_type": "code",
   "execution_count": null,
   "metadata": {
    "collapsed": true
   },
   "outputs": [],
   "source": []
  }
 ],
 "metadata": {
  "kernelspec": {
   "display_name": "Python 2",
   "language": "python",
   "name": "python2"
  },
  "language_info": {
   "codemirror_mode": {
    "name": "ipython",
    "version": 2
   },
   "file_extension": ".py",
   "mimetype": "text/x-python",
   "name": "python",
   "nbconvert_exporter": "python",
   "pygments_lexer": "ipython2",
   "version": "2.7.10"
  }
 },
 "nbformat": 4,
 "nbformat_minor": 0
}
