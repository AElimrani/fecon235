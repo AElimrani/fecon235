{
 "metadata": {
  "name": "",
  "signature": "sha256:f8f44a43fa1e4fe9b80254d32e008df6fcba681ad3f184ce8a72dc99e39dd4b5"
 },
 "nbformat": 3,
 "nbformat_minor": 0,
 "worksheets": [
  {
   "cells": [
    {
     "cell_type": "heading",
     "level": 1,
     "metadata": {},
     "source": [
      "Access inflation data from FRED with pandas and make plots"
     ]
    },
    {
     "cell_type": "heading",
     "level": 4,
     "metadata": {},
     "source": [
      "FRED is free from the Federal Reserve Bank in St. Louis. Here we examine CPI and PCE, including the core versions, along with the 10-year BEI rate. We also examine gold returns and its correlations to our data."
     ]
    },
    {
     "cell_type": "markdown",
     "metadata": {},
     "source": [
      "*Dependencies:* \n",
      "    \n",
      "    Linux, bash.\n",
      "    Python: matplotlib, pandas, yi_1tools, yi_fred, yi_plot.\n",
      "     \n",
      "*CHANGE LOG*\n",
      "\n",
      "    2014-09-02  Introduce new inflation series m4infl. Use getfred().\n",
      "    2014-08-06  Major revision directly based on refined modules.\n",
      "    2014-07-25  Expand to include inflation statistics including BEI.\n",
      "                    Major fix of yi_fred.getdataframe()\n",
      "    2014-07-24  First version includes module yi_fred converted from fred-plot notebook."
     ]
    },
    {
     "cell_type": "code",
     "collapsed": false,
     "input": [
      "#  PREPARE notebook, show prequisites, admin details:\n",
      "\n",
      "#  Automatically reload modified modules:\n",
      "%load_ext autoreload\n",
      "%autoreload 2\n",
      "#  Generate plots inside notebook:\n",
      "%matplotlib inline\n",
      "\n",
      "#  Assuming Linux behind the scene...\n",
      "print '\\n ::  TIMESTAMP of last complete execution:'\n",
      "!date\n",
      "print '\\n ::  Working directory:'\n",
      "!pwd"
     ],
     "language": "python",
     "metadata": {},
     "outputs": [
      {
       "output_type": "stream",
       "stream": "stdout",
       "text": [
        "\n",
        " ::  TIMESTAMP of last complete execution:\n",
        "Tue Sep  2 19:36:57 PDT 2014\r\n"
       ]
      },
      {
       "output_type": "stream",
       "stream": "stdout",
       "text": [
        "\n",
        " ::  Working directory:\n",
        "/home/yaya/net/ipy/01-act\r\n"
       ]
      }
     ],
     "prompt_number": 1
    },
    {
     "cell_type": "heading",
     "level": 3,
     "metadata": {},
     "source": [
      "Each economic time series and its frequency has its own \"fredcode\" which is freely obtained from their site, see module yi_fred."
     ]
    },
    {
     "cell_type": "code",
     "collapsed": false,
     "input": [
      "from yi_1tools import *\n",
      "from yi_fred import *\n",
      "from yi_plot import *"
     ],
     "language": "python",
     "metadata": {},
     "outputs": [],
     "prompt_number": 2
    },
    {
     "cell_type": "heading",
     "level": 4,
     "metadata": {},
     "source": [
      "Let's now create a dictionary ts of time series for codelist."
     ]
    },
    {
     "cell_type": "code",
     "collapsed": false,
     "input": [
      "#  Get various inflation and bond statistics:\n",
      "ts = {}\n",
      "for i in ml_infl + ml_long:\n",
      "    ts[i] = getfred(i)"
     ],
     "language": "python",
     "metadata": {},
     "outputs": [
      {
       "output_type": "stream",
       "stream": "stdout",
       "text": [
        " ::  S&P 500 prepend successfully goes back to 1957.\n"
       ]
      }
     ],
     "prompt_number": 4
    },
    {
     "cell_type": "code",
     "collapsed": false,
     "input": [
      "#  Collection of inflation levels\n",
      "tsinf = [ ts[i] for i in ml_infl ]"
     ],
     "language": "python",
     "metadata": {},
     "outputs": [],
     "prompt_number": 5
    },
    {
     "cell_type": "code",
     "collapsed": false,
     "input": [
      "#  Make a dataframe consists of those inf levels:\n",
      "inf_levels = paste( tsinf )"
     ],
     "language": "python",
     "metadata": {},
     "outputs": [],
     "prompt_number": 6
    },
    {
     "cell_type": "code",
     "collapsed": false,
     "input": [
      "#  Label the column names:\n",
      "inf_levels.columns = ['CPI', 'CPIc', 'PCE', 'PCEc']"
     ],
     "language": "python",
     "metadata": {},
     "outputs": [],
     "prompt_number": 7
    },
    {
     "cell_type": "code",
     "collapsed": false,
     "input": [
      "#  But we are really interested in annual inflation rates:\n",
      "inf = pcent( inf_levels, 12 )"
     ],
     "language": "python",
     "metadata": {},
     "outputs": [],
     "prompt_number": 8
    },
    {
     "cell_type": "code",
     "collapsed": false,
     "input": [
      "boxplot( inf, 'Inflation' )"
     ],
     "language": "python",
     "metadata": {},
     "outputs": [
      {
       "metadata": {},
       "output_type": "display_data",
       "png": "[encoded data removed]",
       "text": [
        "<matplotlib.figure.Figure at 0xb020616c>"
       ]
      },
      {
       "output_type": "stream",
       "stream": "stdout",
       "text": [
        " ::  Finished: boxplot-Inflation.png\n"
       ]
      }
     ],
     "prompt_number": 9
    },
    {
     "cell_type": "heading",
     "level": 3,
     "metadata": {},
     "source": [
      "Our inflation rates go back to 1960-01-01. CPI looks slightly more volatile than PCE versions."
     ]
    },
    {
     "cell_type": "code",
     "collapsed": false,
     "input": [
      "stats(inf)"
     ],
     "language": "python",
     "metadata": {},
     "outputs": [
      {
       "output_type": "stream",
       "stream": "stdout",
       "text": [
        "              CPI        CPIc         PCE        PCEc\n",
        "count  655.000000  655.000000  655.000000  655.000000\n",
        "mean     3.939092    3.874263    3.448620    3.366596\n",
        "std      2.866590    2.628858    2.467420    2.199171\n",
        "min     -1.958761    0.597276   -1.183584    0.947246\n",
        "25%      1.967152    2.063043    1.721323    1.655785\n",
        "50%      3.186275    3.008502    2.657405    2.458163\n",
        "75%      4.744804    4.894632    4.337804    4.533888\n",
        "max     14.592275   13.604488   11.577525   10.233897\n",
        "\n",
        " ::  Index on min:\n",
        "CPI    2009-07-01\n",
        "CPIc   2010-10-01\n",
        "PCE    2009-07-01\n",
        "PCEc   2010-12-01\n",
        "dtype: datetime64[ns]\n",
        "\n",
        " ::  Index on max:\n",
        "CPI    1980-03-01\n",
        "CPIc   1980-06-01\n",
        "PCE    1974-10-01\n",
        "PCEc   1975-02-01\n",
        "dtype: datetime64[ns]\n",
        "\n",
        " ::  Tail:\n",
        "                 CPI      CPIc       PCE      PCEc\n",
        "T                                                 \n",
        "2014-01-01  1.561467  1.619672  1.225430  1.244680\n",
        "2014-02-01  1.104906  1.559597  0.959842  1.230991\n",
        "2014-03-01  1.536141  1.648866  1.196128  1.261788\n",
        "2014-04-01  1.962392  1.826464  1.527725  1.442230\n",
        "2014-05-01  2.136358  1.949149  1.650159  1.513448\n",
        "2014-06-01  2.075496  1.927383  1.595363  1.484416\n",
        "2014-07-01  1.996553  1.854931  1.563751  1.472472"
       ]
      },
      {
       "output_type": "stream",
       "stream": "stdout",
       "text": [
        "\n",
        "\n",
        " ::  Correlation matrix:\n",
        "           CPI      CPIc       PCE      PCEc\n",
        "CPI   1.000000  0.928937  0.980414  0.912048\n",
        "CPIc  0.928937  1.000000  0.923926  0.963378\n",
        "PCE   0.980414  0.923926  1.000000  0.954095\n",
        "PCEc  0.912048  0.963378  0.954095  1.000000\n"
       ]
      }
     ],
     "prompt_number": 10
    },
    {
     "cell_type": "heading",
     "level": 4,
     "metadata": {},
     "source": [
      "Clearly the core versions is less volatile. But what is the appropriate inflation rate among the contenders? Take the average..."
     ]
    },
    {
     "cell_type": "code",
     "collapsed": false,
     "input": [
      "inf_av = ( inf['CPI'] + inf['CPIc'] + inf['PCE'] + inf['PCEc'] ) / 4"
     ],
     "language": "python",
     "metadata": {},
     "outputs": [],
     "prompt_number": 11
    },
    {
     "cell_type": "code",
     "collapsed": false,
     "input": [
      "tail(inf_av)"
     ],
     "language": "python",
     "metadata": {},
     "outputs": [
      {
       "metadata": {},
       "output_type": "pyout",
       "prompt_number": 12,
       "text": [
        "T\n",
        "2014-01-01    1.412812\n",
        "2014-02-01    1.213834\n",
        "2014-03-01    1.410731\n",
        "2014-04-01    1.689703\n",
        "2014-05-01    1.812279\n",
        "2014-06-01    1.770664\n",
        "2014-07-01    1.721927\n",
        "dtype: float64"
       ]
      }
     ],
     "prompt_number": 12
    },
    {
     "cell_type": "code",
     "collapsed": false,
     "input": [
      "#  The shortest time series, m4tips10, starts at 2003-01-01, so let\n",
      "start = '2003-01-01'"
     ],
     "language": "python",
     "metadata": {},
     "outputs": [],
     "prompt_number": 13
    },
    {
     "cell_type": "code",
     "collapsed": false,
     "input": [
      "plotdf( inf_av[start:], 'Inf av' )"
     ],
     "language": "python",
     "metadata": {},
     "outputs": [
      {
       "metadata": {},
       "output_type": "display_data",
       "png": "[encoded data removed]",
       "text": [
        "<matplotlib.figure.Figure at 0xb00eed4c>"
       ]
      },
      {
       "output_type": "stream",
       "stream": "stdout",
       "text": [
        " ::  Finished: plotdf-Inf_av.png\n"
       ]
      }
     ],
     "prompt_number": 14
    },
    {
     "cell_type": "heading",
     "level": 2,
     "metadata": {},
     "source": [
      "Let's derive BEI, \"Break-even inflation\" from bond data:"
     ]
    },
    {
     "cell_type": "code",
     "collapsed": false,
     "input": [
      "bei = ts[m4bond10] - ts[m4tips10]"
     ],
     "language": "python",
     "metadata": {},
     "outputs": [],
     "prompt_number": 15
    },
    {
     "cell_type": "code",
     "collapsed": false,
     "input": [
      "plotdf(bei[start:], 'BEI')"
     ],
     "language": "python",
     "metadata": {},
     "outputs": [
      {
       "metadata": {},
       "output_type": "display_data",
       "png": "[encoded data removed]",
       "text": [
        "<matplotlib.figure.Figure at 0xb027694c>"
       ]
      },
      {
       "output_type": "stream",
       "stream": "stdout",
       "text": [
        " ::  Finished: plotdf-BEI.png\n"
       ]
      }
     ],
     "prompt_number": 16
    },
    {
     "cell_type": "code",
     "collapsed": false,
     "input": [
      "tail(bei)"
     ],
     "language": "python",
     "metadata": {},
     "outputs": [
      {
       "html": [
        "<div style=\"max-height:1000px;max-width:1500px;overflow:auto;\">\n",
        "<table border=\"1\" class=\"dataframe\">\n",
        "  <thead>\n",
        "    <tr style=\"text-align: right;\">\n",
        "      <th></th>\n",
        "      <th>Y</th>\n",
        "    </tr>\n",
        "    <tr>\n",
        "      <th>T</th>\n",
        "      <th></th>\n",
        "    </tr>\n",
        "  </thead>\n",
        "  <tbody>\n",
        "    <tr>\n",
        "      <th>2014-01-01</th>\n",
        "      <td> 2.23</td>\n",
        "    </tr>\n",
        "    <tr>\n",
        "      <th>2014-02-01</th>\n",
        "      <td> 2.16</td>\n",
        "    </tr>\n",
        "    <tr>\n",
        "      <th>2014-03-01</th>\n",
        "      <td> 2.16</td>\n",
        "    </tr>\n",
        "    <tr>\n",
        "      <th>2014-04-01</th>\n",
        "      <td> 2.17</td>\n",
        "    </tr>\n",
        "    <tr>\n",
        "      <th>2014-05-01</th>\n",
        "      <td> 2.19</td>\n",
        "    </tr>\n",
        "    <tr>\n",
        "      <th>2014-06-01</th>\n",
        "      <td> 2.23</td>\n",
        "    </tr>\n",
        "    <tr>\n",
        "      <th>2014-07-01</th>\n",
        "      <td> 2.26</td>\n",
        "    </tr>\n",
        "  </tbody>\n",
        "</table>\n",
        "</div>"
       ],
       "metadata": {},
       "output_type": "pyout",
       "prompt_number": 17,
       "text": [
        "               Y\n",
        "T               \n",
        "2014-01-01  2.23\n",
        "2014-02-01  2.16\n",
        "2014-03-01  2.16\n",
        "2014-04-01  2.17\n",
        "2014-05-01  2.19\n",
        "2014-06-01  2.23\n",
        "2014-07-01  2.26"
       ]
      }
     ],
     "prompt_number": 17
    },
    {
     "cell_type": "heading",
     "level": 3,
     "metadata": {},
     "source": [
      "What's the correlation between BEI and average inflation? Not much. BEI seems to lead inf_av, cf. around 2009. Also BEI appears more stable than trending relative to statistically collected inflation measures."
     ]
    },
    {
     "cell_type": "heading",
     "level": 2,
     "metadata": {},
     "source": [
      "It's worth emphaszing that inf_av is a \"rear view\" while BEI is \"forward looking.\" Actual money is locked in on the latter. So let's mix the rear and forward views equally."
     ]
    },
    {
     "cell_type": "code",
     "collapsed": false,
     "input": [
      "bei_inf_av = (bei['Y'] + inf_av) / 2"
     ],
     "language": "python",
     "metadata": {},
     "outputs": [],
     "prompt_number": 18
    },
    {
     "cell_type": "code",
     "collapsed": false,
     "input": [
      "plotdf(bei_inf_av[start:], 'BEI inf av')"
     ],
     "language": "python",
     "metadata": {},
     "outputs": [
      {
       "metadata": {},
       "output_type": "display_data",
       "png": "[encoded data removed]",
       "text": [
        "<matplotlib.figure.Figure at 0xb0213f2c>"
       ]
      },
      {
       "output_type": "stream",
       "stream": "stdout",
       "text": [
        " ::  Finished: plotdf-BEI_inf_av.png\n"
       ]
      }
     ],
     "prompt_number": 19
    },
    {
     "cell_type": "code",
     "collapsed": false,
     "input": [
      "tail(bei_inf_av)"
     ],
     "language": "python",
     "metadata": {},
     "outputs": [
      {
       "metadata": {},
       "output_type": "pyout",
       "prompt_number": 20,
       "text": [
        "T\n",
        "2014-01-01    1.821406\n",
        "2014-02-01    1.686917\n",
        "2014-03-01    1.785365\n",
        "2014-04-01    1.929851\n",
        "2014-05-01    2.001139\n",
        "2014-06-01    2.000332\n",
        "2014-07-01    1.990963\n",
        "dtype: float64"
       ]
      }
     ],
     "prompt_number": 20
    },
    {
     "cell_type": "code",
     "collapsed": false,
     "input": [
      "#  Let's check bei_inf_av correlation with the Fed favored PCE core:\n",
      "correlate( bei_inf_av[start:], inf['PCEc'][start:] )"
     ],
     "language": "python",
     "metadata": {},
     "outputs": [
      {
       "metadata": {},
       "output_type": "pyout",
       "prompt_number": 21,
       "text": [
        "0.82116432243230741"
       ]
      }
     ],
     "prompt_number": 21
    },
    {
     "cell_type": "heading",
     "level": 3,
     "metadata": {},
     "source": [
      "So our final measure consisting of 1 part each of CPI, CPI core, PCE, PCE core -- plus 4 parts of BEI -- does track the Fed's favored inflation guide, with about 82% correlation."
     ]
    },
    {
     "cell_type": "markdown",
     "metadata": {},
     "source": [
      "## Footnotes\n",
      "\n",
      "- *\"Two different price indexes are popular for measuring inflation: the consumer price index (CPI) from the Bureau of Labor Statistics and the personal consumption expenditures price index (PCE) from the Bureau of Economic Analysis. [A]n accurate measure of inflation is important for both the U.S. federal government and the Federal Reserve's Federal Open Market Committee (FOMC), but they focus on different measures. For example, the federal government uses the CPI to make inflation adjustments to certain kinds of benefits, such as Social Security. In contrast, the FOMC focuses on PCE inflation in its quarterly economic projections and also states its longer-run inflation goal in terms of headline PCE. The FOMC focused on CPI inflation prior to 2000 but, after extensive analysis, changed to PCE inflation for three main reasons: The expenditure weights in the PCE can change as people substitute away from some goods and services toward others, the PCE includes more comprehensive coverage of goods and services, and historical PCE data can be revised (more than for seasonal factors only).\"* --James Bullard, president of the Federal Reserve Bank of St. Louis. "
     ]
    },
    {
     "cell_type": "heading",
     "level": 1,
     "metadata": {},
     "source": [
      "Comparison to Gold annualized returns"
     ]
    },
    {
     "cell_type": "markdown",
     "metadata": {},
     "source": [
      "The gold data from FRED is daily, not monthly, so we must slightly modify our methods. "
     ]
    },
    {
     "cell_type": "code",
     "collapsed": false,
     "input": [
      "gold_daily = getfred( d4xau )\n",
      "  \n",
      "gold = monthly(gold_daily)\n"
     ],
     "language": "python",
     "metadata": {},
     "outputs": [],
     "prompt_number": 22
    },
    {
     "cell_type": "code",
     "collapsed": false,
     "input": [
      "#  Monthly gold data since 1968-04-01\n",
      "gold.shape"
     ],
     "language": "python",
     "metadata": {},
     "outputs": [
      {
       "metadata": {},
       "output_type": "pyout",
       "prompt_number": 23,
       "text": [
        "(558, 1)"
       ]
      }
     ],
     "prompt_number": 23
    },
    {
     "cell_type": "code",
     "collapsed": false,
     "input": [
      "#  Compute annualized returns:\n",
      "gold_ret = pcent(gold,12)"
     ],
     "language": "python",
     "metadata": {},
     "outputs": [],
     "prompt_number": 24
    },
    {
     "cell_type": "code",
     "collapsed": false,
     "input": [
      "plotdf( gold_ret[start:], 'Gold m-return' )"
     ],
     "language": "python",
     "metadata": {},
     "outputs": [
      {
       "metadata": {},
       "output_type": "display_data",
       "png": "[encoded data removed]",
       "text": [
        "<matplotlib.figure.Figure at 0xb013090c>"
       ]
      },
      {
       "output_type": "stream",
       "stream": "stdout",
       "text": [
        " ::  Finished: plotdf-Gold_m-return.png\n"
       ]
      }
     ],
     "prompt_number": 25
    },
    {
     "cell_type": "heading",
     "level": 3,
     "metadata": {},
     "source": [
      "Perhaps unexpectedly, we see that gold returns do NOT strongly correlate with inflation rates (combining rear and forward looking versions), see our Appendix."
     ]
    },
    {
     "cell_type": "markdown",
     "metadata": {},
     "source": [
      "However, it is known that real rates somewhat explains gold price. For example, when real rates are negative, gold looks like a better alternative than fixed income. So in another notebook, we look at 10-y TIPS vs. gold price."
     ]
    },
    {
     "cell_type": "heading",
     "level": 2,
     "metadata": {},
     "source": [
      "APPENDIX:  Overall correlations\n"
     ]
    },
    {
     "cell_type": "code",
     "collapsed": false,
     "input": [
      "#  Conversions to dataframe before paste:\n",
      "dfa = todf( inf_av, 'Iav')\n",
      "dfb = todf( bei, 'BEI' )\n",
      "dfc = todf( bei_inf_av, 'BEI_Iav')\n",
      "dfd = todf( gold_ret, 'Au' )"
     ],
     "language": "python",
     "metadata": {},
     "outputs": [],
     "prompt_number": 26
    },
    {
     "cell_type": "code",
     "collapsed": false,
     "input": [
      "#  Mother of all annualized inflation rates:\n",
      "infall = paste( [inf, dfa, dfb, dfc, dfd] )"
     ],
     "language": "python",
     "metadata": {},
     "outputs": [],
     "prompt_number": 27
    },
    {
     "cell_type": "code",
     "collapsed": false,
     "input": [
      "#  Correlation matrix going back to 2003-01-01 (start of BEI)\n",
      "cormatrix(infall)"
     ],
     "language": "python",
     "metadata": {},
     "outputs": [
      {
       "html": [
        "<div style=\"max-height:1000px;max-width:1500px;overflow:auto;\">\n",
        "<table border=\"1\" class=\"dataframe\">\n",
        "  <thead>\n",
        "    <tr style=\"text-align: right;\">\n",
        "      <th></th>\n",
        "      <th>CPI</th>\n",
        "      <th>CPIc</th>\n",
        "      <th>PCE</th>\n",
        "      <th>PCEc</th>\n",
        "      <th>Iav</th>\n",
        "      <th>BEI</th>\n",
        "      <th>BEI_Iav</th>\n",
        "      <th>Au</th>\n",
        "    </tr>\n",
        "  </thead>\n",
        "  <tbody>\n",
        "    <tr>\n",
        "      <th>CPI</th>\n",
        "      <td> 1.000000</td>\n",
        "      <td> 0.470784</td>\n",
        "      <td> 0.990473</td>\n",
        "      <td> 0.735260</td>\n",
        "      <td> 0.971152</td>\n",
        "      <td> 0.522298</td>\n",
        "      <td> 0.921770</td>\n",
        "      <td> 0.463519</td>\n",
        "    </tr>\n",
        "    <tr>\n",
        "      <th>CPIc</th>\n",
        "      <td> 0.470784</td>\n",
        "      <td> 1.000000</td>\n",
        "      <td> 0.456764</td>\n",
        "      <td> 0.832579</td>\n",
        "      <td> 0.647908</td>\n",
        "      <td> 0.250137</td>\n",
        "      <td> 0.576583</td>\n",
        "      <td> 0.110080</td>\n",
        "    </tr>\n",
        "    <tr>\n",
        "      <th>PCE</th>\n",
        "      <td> 0.990473</td>\n",
        "      <td> 0.456764</td>\n",
        "      <td> 1.000000</td>\n",
        "      <td> 0.774655</td>\n",
        "      <td> 0.973255</td>\n",
        "      <td> 0.530899</td>\n",
        "      <td> 0.926683</td>\n",
        "      <td> 0.487625</td>\n",
        "    </tr>\n",
        "    <tr>\n",
        "      <th>PCEc</th>\n",
        "      <td> 0.735260</td>\n",
        "      <td> 0.832579</td>\n",
        "      <td> 0.774655</td>\n",
        "      <td> 1.000000</td>\n",
        "      <td> 0.872651</td>\n",
        "      <td> 0.451101</td>\n",
        "      <td> 0.821164</td>\n",
        "      <td> 0.353513</td>\n",
        "    </tr>\n",
        "    <tr>\n",
        "      <th>Iav</th>\n",
        "      <td> 0.971152</td>\n",
        "      <td> 0.647908</td>\n",
        "      <td> 0.973255</td>\n",
        "      <td> 0.872651</td>\n",
        "      <td> 1.000000</td>\n",
        "      <td> 0.521868</td>\n",
        "      <td> 0.942927</td>\n",
        "      <td> 0.444069</td>\n",
        "    </tr>\n",
        "    <tr>\n",
        "      <th>BEI</th>\n",
        "      <td> 0.522298</td>\n",
        "      <td> 0.250137</td>\n",
        "      <td> 0.530899</td>\n",
        "      <td> 0.451101</td>\n",
        "      <td> 0.521868</td>\n",
        "      <td> 1.000000</td>\n",
        "      <td> 0.776141</td>\n",
        "      <td> 0.203863</td>\n",
        "    </tr>\n",
        "    <tr>\n",
        "      <th>BEI_Iav</th>\n",
        "      <td> 0.921770</td>\n",
        "      <td> 0.576583</td>\n",
        "      <td> 0.926683</td>\n",
        "      <td> 0.821164</td>\n",
        "      <td> 0.942927</td>\n",
        "      <td> 0.776141</td>\n",
        "      <td> 1.000000</td>\n",
        "      <td> 0.407840</td>\n",
        "    </tr>\n",
        "    <tr>\n",
        "      <th>Au</th>\n",
        "      <td> 0.463519</td>\n",
        "      <td> 0.110080</td>\n",
        "      <td> 0.487625</td>\n",
        "      <td> 0.353513</td>\n",
        "      <td> 0.444069</td>\n",
        "      <td> 0.203863</td>\n",
        "      <td> 0.407840</td>\n",
        "      <td> 1.000000</td>\n",
        "    </tr>\n",
        "  </tbody>\n",
        "</table>\n",
        "</div>"
       ],
       "metadata": {},
       "output_type": "pyout",
       "prompt_number": 28,
       "text": [
        "              CPI      CPIc       PCE      PCEc       Iav       BEI   BEI_Iav  \\\n",
        "CPI      1.000000  0.470784  0.990473  0.735260  0.971152  0.522298  0.921770   \n",
        "CPIc     0.470784  1.000000  0.456764  0.832579  0.647908  0.250137  0.576583   \n",
        "PCE      0.990473  0.456764  1.000000  0.774655  0.973255  0.530899  0.926683   \n",
        "PCEc     0.735260  0.832579  0.774655  1.000000  0.872651  0.451101  0.821164   \n",
        "Iav      0.971152  0.647908  0.973255  0.872651  1.000000  0.521868  0.942927   \n",
        "BEI      0.522298  0.250137  0.530899  0.451101  0.521868  1.000000  0.776141   \n",
        "BEI_Iav  0.921770  0.576583  0.926683  0.821164  0.942927  0.776141  1.000000   \n",
        "Au       0.463519  0.110080  0.487625  0.353513  0.444069  0.203863  0.407840   \n",
        "\n",
        "               Au  \n",
        "CPI      0.463519  \n",
        "CPIc     0.110080  \n",
        "PCE      0.487625  \n",
        "PCEc     0.353513  \n",
        "Iav      0.444069  \n",
        "BEI      0.203863  \n",
        "BEI_Iav  0.407840  \n",
        "Au       1.000000  "
       ]
      }
     ],
     "prompt_number": 28
    },
    {
     "cell_type": "markdown",
     "metadata": {},
     "source": [
      "CPI and PCE are tightly correlated, as are CPIc and PCEc. The market traded BEI is slightly correlated with economic statistics of inflation. Gold returns seemingly have nothing to do with inflation."
     ]
    },
    {
     "cell_type": "code",
     "collapsed": false,
     "input": [
      "#  Most recent values:\n",
      "tail(infall)"
     ],
     "language": "python",
     "metadata": {},
     "outputs": [
      {
       "html": [
        "<div style=\"max-height:1000px;max-width:1500px;overflow:auto;\">\n",
        "<table border=\"1\" class=\"dataframe\">\n",
        "  <thead>\n",
        "    <tr style=\"text-align: right;\">\n",
        "      <th></th>\n",
        "      <th>CPI</th>\n",
        "      <th>CPIc</th>\n",
        "      <th>PCE</th>\n",
        "      <th>PCEc</th>\n",
        "      <th>Iav</th>\n",
        "      <th>BEI</th>\n",
        "      <th>BEI_Iav</th>\n",
        "      <th>Au</th>\n",
        "    </tr>\n",
        "    <tr>\n",
        "      <th>T</th>\n",
        "      <th></th>\n",
        "      <th></th>\n",
        "      <th></th>\n",
        "      <th></th>\n",
        "      <th></th>\n",
        "      <th></th>\n",
        "      <th></th>\n",
        "      <th></th>\n",
        "    </tr>\n",
        "  </thead>\n",
        "  <tbody>\n",
        "    <tr>\n",
        "      <th>2014-01-01</th>\n",
        "      <td> 1.561467</td>\n",
        "      <td> 1.619672</td>\n",
        "      <td> 1.225430</td>\n",
        "      <td> 1.244680</td>\n",
        "      <td> 1.412812</td>\n",
        "      <td> 2.23</td>\n",
        "      <td> 1.821406</td>\n",
        "      <td>-25.538600</td>\n",
        "    </tr>\n",
        "    <tr>\n",
        "      <th>2014-02-01</th>\n",
        "      <td> 1.104906</td>\n",
        "      <td> 1.559597</td>\n",
        "      <td> 0.959842</td>\n",
        "      <td> 1.230991</td>\n",
        "      <td> 1.213834</td>\n",
        "      <td> 2.16</td>\n",
        "      <td> 1.686917</td>\n",
        "      <td>-19.065162</td>\n",
        "    </tr>\n",
        "    <tr>\n",
        "      <th>2014-03-01</th>\n",
        "      <td> 1.536141</td>\n",
        "      <td> 1.648866</td>\n",
        "      <td> 1.196128</td>\n",
        "      <td> 1.261788</td>\n",
        "      <td> 1.410731</td>\n",
        "      <td> 2.16</td>\n",
        "      <td> 1.785365</td>\n",
        "      <td>-16.201818</td>\n",
        "    </tr>\n",
        "    <tr>\n",
        "      <th>2014-04-01</th>\n",
        "      <td> 1.962392</td>\n",
        "      <td> 1.826464</td>\n",
        "      <td> 1.527725</td>\n",
        "      <td> 1.442230</td>\n",
        "      <td> 1.689703</td>\n",
        "      <td> 2.17</td>\n",
        "      <td> 1.929851</td>\n",
        "      <td>-11.647679</td>\n",
        "    </tr>\n",
        "    <tr>\n",
        "      <th>2014-05-01</th>\n",
        "      <td> 2.136358</td>\n",
        "      <td> 1.949149</td>\n",
        "      <td> 1.650159</td>\n",
        "      <td> 1.513448</td>\n",
        "      <td> 1.812279</td>\n",
        "      <td> 2.19</td>\n",
        "      <td> 2.001139</td>\n",
        "      <td> -8.404255</td>\n",
        "    </tr>\n",
        "    <tr>\n",
        "      <th>2014-06-01</th>\n",
        "      <td> 2.075496</td>\n",
        "      <td> 1.927383</td>\n",
        "      <td> 1.595363</td>\n",
        "      <td> 1.484416</td>\n",
        "      <td> 1.770664</td>\n",
        "      <td> 2.23</td>\n",
        "      <td> 2.000332</td>\n",
        "      <td> -7.889010</td>\n",
        "    </tr>\n",
        "    <tr>\n",
        "      <th>2014-07-01</th>\n",
        "      <td> 1.996553</td>\n",
        "      <td> 1.854931</td>\n",
        "      <td> 1.563751</td>\n",
        "      <td> 1.472472</td>\n",
        "      <td> 1.721927</td>\n",
        "      <td> 2.26</td>\n",
        "      <td> 1.990963</td>\n",
        "      <td>  1.945525</td>\n",
        "    </tr>\n",
        "  </tbody>\n",
        "</table>\n",
        "</div>"
       ],
       "metadata": {},
       "output_type": "pyout",
       "prompt_number": 29,
       "text": [
        "                 CPI      CPIc       PCE      PCEc       Iav   BEI   BEI_Iav  \\\n",
        "T                                                                              \n",
        "2014-01-01  1.561467  1.619672  1.225430  1.244680  1.412812  2.23  1.821406   \n",
        "2014-02-01  1.104906  1.559597  0.959842  1.230991  1.213834  2.16  1.686917   \n",
        "2014-03-01  1.536141  1.648866  1.196128  1.261788  1.410731  2.16  1.785365   \n",
        "2014-04-01  1.962392  1.826464  1.527725  1.442230  1.689703  2.17  1.929851   \n",
        "2014-05-01  2.136358  1.949149  1.650159  1.513448  1.812279  2.19  2.001139   \n",
        "2014-06-01  2.075496  1.927383  1.595363  1.484416  1.770664  2.23  2.000332   \n",
        "2014-07-01  1.996553  1.854931  1.563751  1.472472  1.721927  2.26  1.990963   \n",
        "\n",
        "                   Au  \n",
        "T                      \n",
        "2014-01-01 -25.538600  \n",
        "2014-02-01 -19.065162  \n",
        "2014-03-01 -16.201818  \n",
        "2014-04-01 -11.647679  \n",
        "2014-05-01  -8.404255  \n",
        "2014-06-01  -7.889010  \n",
        "2014-07-01   1.945525  "
       ]
      }
     ],
     "prompt_number": 29
    },
    {
     "cell_type": "heading",
     "level": 1,
     "metadata": {},
     "source": [
      "Appendix:  new series codified"
     ]
    },
    {
     "cell_type": "markdown",
     "metadata": {},
     "source": [
      "To readily access our findings above, we developed the **m4infl** series. Each measure of inflation *levels* is first rescaled such that the most recent point is equal to 1. This eliminates the base year problem and the arbitrarily set level of 100 somewhere in time. Now we can take the simple average among inflation levels which is by construction will be equally weighted. \n",
      "\n",
      "As a very convenient by-product, the recipricol of m4infl yields multiplicative factors useful for deflating prices, see **m4defl**.\n",
      "\n",
      "The average between backward and forward-looking inflation *rates* is codified as **m4inflbei**."
     ]
    },
    {
     "cell_type": "code",
     "collapsed": false,
     "input": [
      "#  Let's see if our two different methods agree:\n",
      "infl = getfred(m4infl)"
     ],
     "language": "python",
     "metadata": {},
     "outputs": [],
     "prompt_number": 30
    },
    {
     "cell_type": "code",
     "collapsed": false,
     "input": [
      "inflrate = pcent(infl, 12)"
     ],
     "language": "python",
     "metadata": {},
     "outputs": [],
     "prompt_number": 31
    },
    {
     "cell_type": "code",
     "collapsed": false,
     "input": [
      "stat2(inf_av, inflrate[y])"
     ],
     "language": "python",
     "metadata": {},
     "outputs": [
      {
       "output_type": "stream",
       "stream": "stdout",
       "text": [
        " ::  FIRST variable:\n",
        "count    655.000000\n",
        "mean       3.657143\n",
        "std        2.486230\n",
        "min       -0.160953\n",
        "25%        1.818311\n",
        "50%        2.857470\n",
        "75%        4.597693\n",
        "max       12.016273\n",
        "dtype: float64\n",
        "\n",
        " ::  SECOND variable:\n",
        "count    655.000000\n",
        "mean       3.638457\n",
        "std        2.462251\n",
        "min       -0.169879\n",
        "25%        1.817712\n",
        "50%        2.852276\n",
        "75%        4.603217\n",
        "max       11.862701\n",
        "dtype: float64"
       ]
      },
      {
       "output_type": "stream",
       "stream": "stdout",
       "text": [
        "\n",
        "\n",
        " ::  CORRELATION\n",
        "0.999955862638\n",
        "\n",
        "-------------------------Summary of Regression Analysis-------------------------\n",
        "\n",
        "Formula: Y ~ <x> + <intercept>\n",
        "\n",
        "Number of Observations:         655\n",
        "Number of Degrees of Freedom:   2\n",
        "\n",
        "R-squared:         0.9999\n",
        "Adj R-squared:     0.9999\n",
        "\n",
        "Rmse:              0.0234\n",
        "\n",
        "F-stat (1, 653): 7396871.2532, p-value:     0.0000\n",
        "\n",
        "Degrees of Freedom: model 1, resid 653\n",
        "\n",
        "-----------------------Summary of Estimated Coefficients------------------------\n",
        "      Variable       Coef    Std Err     t-stat    p-value    CI 2.5%   CI 97.5%\n",
        "--------------------------------------------------------------------------------\n",
        "             x     1.0097     0.0004    2719.72     0.0000     1.0090     1.0104\n",
        "     intercept    -0.0166     0.0016     -10.17     0.0000    -0.0198    -0.0134\n",
        "---------------------------------End of Summary---------------------------------\n"
       ]
      },
      {
       "output_type": "stream",
       "stream": "stdout",
       "text": [
        "\n"
       ]
      }
     ],
     "prompt_number": 40
    },
    {
     "cell_type": "markdown",
     "metadata": {},
     "source": [
      "Our results are almost perfectly correlated."
     ]
    },
    {
     "cell_type": "code",
     "collapsed": false,
     "input": [],
     "language": "python",
     "metadata": {},
     "outputs": []
    }
   ],
   "metadata": {}
  }
 ]
}