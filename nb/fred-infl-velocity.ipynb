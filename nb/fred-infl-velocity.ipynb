{
 "metadata": {
  "name": "",
  "signature": "sha256:ff0060e1a836fa924ac57bdd24ec9da6cf5887820e3a2c7af662304332a8aebb"
 },
 "nbformat": 3,
 "nbformat_minor": 0,
 "worksheets": [
  {
   "cells": [
    {
     "cell_type": "heading",
     "level": 1,
     "metadata": {},
     "source": [
      "Inflation and money velocity"
     ]
    },
    {
     "cell_type": "markdown",
     "metadata": {},
     "source": [
      "We try to replicate the results of two interesting articles by Yi Wen, Assistant Vice President and Economist at the St. Louis Federal Reserve Bank, and Maria A. Arias:\n",
      "\n",
      "*What Does Money Velocity Tell Us about Low Inflation in the U.S.?*, 9/1/14 http://www.stlouisfed.org/on-the-economy/what-does-money-velocity-tell-us-about-low-inflation-in-the-u-s/\n",
      "\n",
      "*The Liquidity Trap: An Alternative Explanation for Today's Low Inflation*, April 2014, http://www.stlouisfed.org/publications/re/articles/?id=2505\n",
      "\n",
      "from which we shall quote and edit extensively."
     ]
    },
    {
     "cell_type": "markdown",
     "metadata": {},
     "source": [
      "*Dependencies:*\n",
      "     - Linux, bash\n",
      "     - Python: matplotlib, pandas\n",
      "     - Modules: yi_1tools, yi_plot, yi_timeseries, yi_fred\n",
      "     \n",
      "*CHANGE LOG*\n",
      "\n",
      "    2014-09-03  First version."
     ]
    },
    {
     "cell_type": "code",
     "collapsed": false,
     "input": [
      "#  PREPARE notebook, show prequisites, admin details:\n",
      "\n",
      "#  Automatically reload modified modules:\n",
      "%load_ext autoreload\n",
      "%autoreload 2\n",
      "#  Generate plots inside notebook:\n",
      "%matplotlib inline\n",
      "\n",
      "#  Assuming Linux behind the scene...\n",
      "print '\\n ::  TIMESTAMP of last execution:'\n",
      "!date\n",
      "print '\\n ::  Working directory:'\n",
      "!pwd"
     ],
     "language": "python",
     "metadata": {},
     "outputs": [
      {
       "output_type": "stream",
       "stream": "stdout",
       "text": [
        "\n",
        " ::  TIMESTAMP of last execution:\n",
        "Thu Sep 11 21:36:31 PDT 2014\r\n"
       ]
      },
      {
       "output_type": "stream",
       "stream": "stdout",
       "text": [
        "\n",
        " ::  Working directory:\n",
        "/home/yaya/net/ipy/01-act"
       ]
      },
      {
       "output_type": "stream",
       "stream": "stdout",
       "text": [
        "\r\n"
       ]
      }
     ],
     "prompt_number": 4
    },
    {
     "cell_type": "code",
     "collapsed": false,
     "input": [
      "#  Some useful modules:       [ ] - print out EOF for reference.\n",
      "from IPython.display import Image \n",
      "#  e.g. Image(filename='holt-winters-equations.png', embed=True)\n",
      "from yi_1tools import *\n",
      "from yi_fred import *\n",
      "from yi_plot import *\n",
      "from yi_timeseries import *"
     ],
     "language": "python",
     "metadata": {},
     "outputs": [],
     "prompt_number": 1
    },
    {
     "cell_type": "heading",
     "level": 1,
     "metadata": {},
     "source": [
      "Quick intro to monetarist theory"
     ]
    },
    {
     "cell_type": "markdown",
     "metadata": {},
     "source": [
      "One of the most important theories to explain inflation is the monetarist view that, according to Milton Friedman, \u201cInflation is always and everywhere a monetary phenomenon.\u201d In other words, inflation occurs because there is too much money available to buy the same amount of goods and services produced in the economy. This view can also be represented by the so-called \u201c**quantity theory of money**,\u201d which relates the general price level, the total goods and services produced in a given period, the total money supply and the speed (velocity) at which money circulates in the economy in facilitating transactions in the following equation:\n",
      "\n",
      "    M V = P Q\n",
      "\n",
      "where:\n",
      "\n",
      "    M stands for money.\n",
      "    V stands for the velocity of money (or the rate at which people spend money).\n",
      "    P stands for the general price level (not the rate of its growth).\n",
      "    Q stands for the quantity of goods and services produced (in real terms, e.g. real GDP).\n",
      "\n",
      "Based on this equation, holding the money velocity constant, if the money supply (M) increases at a faster rate than real economic output (Q), the price level (P) must increase to make up the difference.\n",
      "\n",
      "[See details in David Colander, 2010, *Macroeconomics*, pp. 387ff for theories of inflation where the tautological equation becomes interpreted as bi-causal given added assumptions.]"
     ]
    },
    {
     "cell_type": "heading",
     "level": 2,
     "metadata": {},
     "source": [
      "Money expanded enormously due to QE \"quantitative easing\" during the Great Recession, yet inflation did not rage upwards"
     ]
    },
    {
     "cell_type": "markdown",
     "metadata": {},
     "source": [
      "From January 2009 to December 2013, the Federal Reserve's balance sheet grew by approximately $3.5 trillion due to the large-scale asset purchase (LSAP) policies implemented to aid the ailing economy after the Great Recession. These unconventional monetary policies, also known as quantitative easing (QE), increased credit availability in the private lending markets and put downward pressure on real interest rates.\n",
      "\n",
      "*According to the monetarist view, inflation in the U.S. should have been about 31 percent per year between 2008 and 2013, when the money supply grew at an average pace of 33 percent per year and output grew at an average pace around 2 percent.* \n",
      "\n",
      "Question:  **Why, then, has inflation remained persistently low (below 2 percent) during this period (\"Great Recession\")?** \n",
      "\n",
      "[\"Normal times\" (1960-2007) shall refer to the postwar period prior to the Great Recession.]"
     ]
    },
    {
     "cell_type": "code",
     "collapsed": false,
     "input": [
      "#  Let look at headline price levels averaged, including core versions:\n",
      "P = getfred(m4infl)\n",
      "#  Compute YoY percentage change for INFLATION:\n",
      "Prate = pcent(P, 12)"
     ],
     "language": "python",
     "metadata": {},
     "outputs": [],
     "prompt_number": 11
    },
    {
     "cell_type": "code",
     "collapsed": false,
     "input": [
      "#  Plot INFLATION rate:\n",
      "plotfred(Prate, 'Infl rate')"
     ],
     "language": "python",
     "metadata": {},
     "outputs": [
      {
       "metadata": {},
       "output_type": "display_data",
       "png": "[encoded data removed]",
       "text": [
        "<matplotlib.figure.Figure at 0xb02d194c>"
       ]
      },
      {
       "output_type": "stream",
       "stream": "stdout",
       "text": [
        " ::  Finished: plotdf-Infl_rate.png\n"
       ]
      }
     ],
     "prompt_number": 12
    },
    {
     "cell_type": "code",
     "collapsed": false,
     "input": [
      "georet(P[:'2007'], 12)"
     ],
     "language": "python",
     "metadata": {},
     "outputs": [
      {
       "metadata": {},
       "output_type": "pyout",
       "prompt_number": 13,
       "text": [
        "[3.78, 3.78, 0.78, 12]"
       ]
      }
     ],
     "prompt_number": 13
    },
    {
     "cell_type": "code",
     "collapsed": false,
     "input": [
      "georet(P['2007':], 12)"
     ],
     "language": "python",
     "metadata": {},
     "outputs": [
      {
       "metadata": {},
       "output_type": "pyout",
       "prompt_number": 14,
       "text": [
        "[1.79, 1.79, 0.56, 12]"
       ]
      }
     ],
     "prompt_number": 14
    },
    {
     "cell_type": "markdown",
     "metadata": {},
     "source": [
      "The geometric mean return for prices is more than double for \"normal times\" 3.78% vs. \"Great Recession\" 1.79%. \n",
      "\n",
      "**Several reasons have been provided for the persistently low inflation.** For example, Janet Yellen said in 2009 that inflation would not take hold during a recession because of *little pressure for prices and wages to increase given that resources through the economy were underused.* \n",
      "\n",
      "Others say the unusually low inflation stems from the weakening of the money multiplier, as *banks continue to hold excess reserves instead of extending more credit through loans.* \n",
      "\n",
      "While others point to the FOMC's increased communications and forward guidance in anchoring future inflation expectations, as well as to the knowledge that the LSAPs will eventually be reversed.\n",
      "\n",
      "Andolfatto and Li note when describing the effect of QE in Japan during the 2000s, **\"even large changes in the monetary base are not likely to have any inflationary consequences if people generally believe the program will be reversed at some future date.\"** (*\"Quantitative Easing in Japan: Past and Present.\"* Federal Reserve Bank of St. Louis Economic Synopses, 2014, No. 1, Jan. 10, 2014. See http://research.stlouisfed.org/publications/es/article/10024 )"
     ]
    },
    {
     "cell_type": "heading",
     "level": 2,
     "metadata": {},
     "source": [
      "Answer: Velocity has not been constant, in fact, declining..."
     ]
    },
    {
     "cell_type": "markdown",
     "metadata": {},
     "source": [
      "The issue has to do with the velocity of money, which has never been constant, as can be seen below. **If for some reason the money velocity declines rapidly during an expansionary monetary policy period, it can offset the increase in money supply and even lead to deflation instead of inflation.**\n",
      "\n",
      "*The velocity of money can be calculated as the ratio of nominal gross domestic product (GDP) to the money supply (V=PQ/M), which can be used to gauge the economy\u2019s strength or people\u2019s willingness to spend money.* When there are more transactions being made throughout the economy, velocity increases, and the economy is likely to expand. The opposite is also true: Money velocity decreases when fewer transactions are being made; therefore the economy is likely to shrink.\n",
      "\n",
      "    G := P*Q i.e. nominal GDP \n",
      "    \n",
      "To measure money supply, we use the monetary base which includes notes and coins in circulation as well as bank reserves.    "
     ]
    },
    {
     "cell_type": "code",
     "collapsed": false,
     "input": [
      "#  M used in the article is the St. Louis Adjusted Monetary Base:\n",
      "M = getfred(m4baseus)"
     ],
     "language": "python",
     "metadata": {},
     "outputs": [],
     "prompt_number": 16
    },
    {
     "cell_type": "code",
     "collapsed": false,
     "input": [
      "#  Data for M goes back to 1918, but we plot for 1960+:\n",
      "plotfred(M['1960':])"
     ],
     "language": "python",
     "metadata": {},
     "outputs": [
      {
       "metadata": {},
       "output_type": "display_data",
       "png": "[encoded data removed]",
       "text": [
        "<matplotlib.figure.Figure at 0xb019ea4c>"
       ]
      },
      {
       "output_type": "stream",
       "stream": "stdout",
       "text": [
        " ::  Finished: plotdf-tmp.png\n"
       ]
      }
     ],
     "prompt_number": 18
    },
    {
     "cell_type": "code",
     "collapsed": false,
     "input": [
      "#  M goes parabolic in the Great Recession due to QE:\n",
      "georet(M['2007':], 12)"
     ],
     "language": "python",
     "metadata": {},
     "outputs": [
      {
       "metadata": {},
       "output_type": "pyout",
       "prompt_number": 21,
       "text": [
        "[20.82, 22.16, 16.41, 12]"
       ]
      }
     ],
     "prompt_number": 21
    },
    {
     "cell_type": "markdown",
     "metadata": {},
     "source": [
      "Money supply, per M the monetary base, actually exploded at an annual geometric rate of 20.8%"
     ]
    },
    {
     "cell_type": "heading",
     "level": 2,
     "metadata": {},
     "source": [
      "Plotting velocity"
     ]
    },
    {
     "cell_type": "code",
     "collapsed": false,
     "input": [
      "#  Nominal GDP, interpolated monthly:\n",
      "G = getfred(m4gdpus)"
     ],
     "language": "python",
     "metadata": {},
     "outputs": [],
     "prompt_number": 22
    },
    {
     "cell_type": "code",
     "collapsed": false,
     "input": [
      "V = G / M"
     ],
     "language": "python",
     "metadata": {},
     "outputs": [],
     "prompt_number": 23
    },
    {
     "cell_type": "code",
     "collapsed": false,
     "input": [
      "plotfred(V, 'Velo Mbase')"
     ],
     "language": "python",
     "metadata": {},
     "outputs": [
      {
       "metadata": {},
       "output_type": "display_data",
       "png": "[encoded data removed]",
       "text": [
        "<matplotlib.figure.Figure at 0xb01c46ec>"
       ]
      },
      {
       "output_type": "stream",
       "stream": "stdout",
       "text": [
        " ::  Finished: plotdf-Velo_Mbase.png\n"
       ]
      }
     ],
     "prompt_number": 25
    },
    {
     "cell_type": "markdown",
     "metadata": {},
     "source": [
      "The plot first shows that velocity was historically never constant. The plunge after 2008 Q1 (17.1) is very dramatic and  significant."
     ]
    },
    {
     "cell_type": "code",
     "collapsed": false,
     "input": [
      "stats(V)"
     ],
     "language": "python",
     "metadata": {},
     "outputs": [
      {
       "output_type": "stream",
       "stream": "stdout",
       "text": [
        "                Y\n",
        "count  808.000000\n",
        "mean    15.581260\n",
        "std      4.461863\n",
        "min      4.366027\n",
        "25%     12.643004\n",
        "50%     16.795210\n",
        "75%     18.618636\n",
        "max     22.257864\n",
        "\n",
        " ::  Index on min:\n",
        "Y   2014-04-01\n",
        "dtype: datetime64[ns]\n",
        "\n",
        " ::  Index on max:\n",
        "Y   1981-07-01\n",
        "dtype: datetime64[ns]\n",
        "\n",
        " ::  Tail:\n",
        "                   Y\n",
        "T                   \n",
        "2014-01-01  4.565156\n",
        "2014-02-01  4.427802\n",
        "2014-03-01  4.387074\n",
        "2014-04-01  4.366027\n",
        "2014-05-01       NaN\n",
        "2014-06-01       NaN\n",
        "2014-07-01       NaN\n",
        "\n",
        " ::  Correlation matrix:\n",
        "   Y\n",
        "Y  1"
       ]
      },
      {
       "output_type": "stream",
       "stream": "stdout",
       "text": [
        "\n"
       ]
      }
     ],
     "prompt_number": 26
    },
    {
     "cell_type": "markdown",
     "metadata": {},
     "source": [
      "During the second quarter of 2014, the velocity of the monetary base was at 4.4, its slowest pace on record. This means that every dollar in the monetary base was spent only 4.4 times in the economy during the past year, down from 17.2 just prior to the recession. \n",
      "\n",
      "This implies that the unprecedented monetary base increase driven by the Fed\u2019s large money injections through its large-scale [QE] asset purchase programs has failed to cause at least a one-for-one proportional increase in nominal GDP. Thus, **it is precisely the sharp decline in velocity that has offset the sharp increase in money supply, leading to the almost no change in nominal GDP** (either P or Q)."
     ]
    },
    {
     "cell_type": "code",
     "collapsed": false,
     "input": [
      "#  Okay, so let's look at nominal GDP:\n",
      "plotfred(G['2007':])"
     ],
     "language": "python",
     "metadata": {},
     "outputs": [
      {
       "metadata": {},
       "output_type": "display_data",
       "png": "[encoded data removed]",
       "text": [
        "<matplotlib.figure.Figure at 0xb019928c>"
       ]
      },
      {
       "output_type": "stream",
       "stream": "stdout",
       "text": [
        " ::  Finished: plotdf-tmp.png\n"
       ]
      }
     ],
     "prompt_number": 27
    },
    {
     "cell_type": "code",
     "collapsed": false,
     "input": [
      "#  Well, their research needs correction, for there's is indeed change in nominal GDP, about +2.7% per annum since 2007:\n",
      "georet(G['2007':], 12)"
     ],
     "language": "python",
     "metadata": {},
     "outputs": [
      {
       "metadata": {},
       "output_type": "pyout",
       "prompt_number": 31,
       "text": [
        "[2.7, 2.71, 0.93, 12]"
       ]
      }
     ],
     "prompt_number": 31
    },
    {
     "cell_type": "heading",
     "level": 3,
     "metadata": {},
     "source": [
      "Near zero rates lead many to hoard money, thus the decline in velocity"
     ]
    },
    {
     "cell_type": "markdown",
     "metadata": {},
     "source": [
      "So why did the monetary base increase not cause a proportionate increase in either the general price level or GDP? The answer lies in the private sector\u2019s dramatic increase in their willingness to hoard money instead of spend it. **Why would people suddenly decide to hoard money instead of spend it?** A possible answer lies in the combination of two issues:\n",
      "\n",
      "- **A glooming economy after the financial crisis**\n",
      "    \n",
      "- **The dramatic decrease in interest rates (to zero) that has forced investors to readjust their portfolios toward liquid money and away from interest-bearing assets such as government bonds**\n",
      "\n",
      "In this regard, the unconventional monetary policy has reinforced the recession by stimulating the private sector\u2019s money demand through pursuing an excessively low interest rate policy (i.e., the zero-interest rate policy). Indeed, during the pre-recession period, for every 1 percentage point decrease in 10-year Treasury note interest rates, the velocity of the monetary base decreased 0.17 points, based on a linear regression model of the velocity onto interest rates. Since 10-year interest rates declined by about 0.5 percentage points between 2008 and 2013, the velocity of the monetary base should have decreased by about 0.085 points. But the actual velocity has gone down by 5.85 points, 69 times larger than predicted. This happened because *the nominal interest rate on short-term bonds has declined essentially to zero, and, in this case, the best form of risk-free liquid asset is no longer the short-term government bonds, but money.*"
     ]
    },
    {
     "cell_type": "heading",
     "level": 1,
     "metadata": {},
     "source": [
      "An alternative explanation for low inflation levels \u2014 the *liquidity trap*"
     ]
    },
    {
     "cell_type": "markdown",
     "metadata": {},
     "source": [
      "Conventionally, the expansion of the money supply will generate inflation as more money is chasing after the same amount of goods available. **During a liquidity trap, however, increases in money supply are fully absorbed by excess demand for money (liquidity); investors hoard the increased money instead of spending it because the opportunity cost of holding cash \u2014 the forgone earnings from interest \u2014 is zero when the nominal interest rate is zero.** *Even worse, if the increased money supply is through LSAPs on long-term debts (as is the case under QE), investors are prompted to further shift their portfolio holdings from interest-bearing assets to cash.*\n",
      "\n",
      "On one hand, if the increase in money demand is proportional to the increase in money supply, inflation remains stable. On the other hand, if money demand increases more than proportionally to the change in money supply due to the downward pressure LSAPs exert on the interest rate, the price level must fall to absorb the difference between the supply and demand of money. That is, the increase in aggregate demand for real money balances then has to be accommodated by an overall decrease in the price level for any given money supply in the goods market. Therefore, the lower the interest rate through LSAPs, the lower the price level (due to the disproportionately higher money demand). The Fed's policy to pay positive interest rates on reserves can only reinforce the problem by making cash more attractive as a store of value.\n",
      "\n",
      "Yi Wen showed last year that large-scale asset purchases by the Fed at the current pace could reduce the real interest rate by 2 percentage points, but would have an insignificant effect on aggregate employment and fixed capital investment, would reduce the aggregate price level significantly, and would put severe downward pressure on the inflation rate \u2014 thanks to firms' portfolio adjustments between cash and financial assets in a liquidity trap.\n",
      "\n",
      "**Risks of Declining Inflation**\n",
      "\n",
      "Not only high inflation, but low inflation can be bad for the economy. Low inflation makes cash more attractive to investors as a store of value, everything else equal. This makes the liquidity trap easier to occur and gives the Fed less room to reduce the real interest rate as desired during a recession. Furthermore, quantitative easing through LSAPs can reinforce the liquidity trap by further reducing the long-term interest rate. In other words, *more monetary injections during a liquidity trap can only reinforce the liquidity trap by keeping the inflation rate low* (or the real return to money high).\n",
      "\n",
      "Therefore, the correct monetary policy during a liquidity trap is not to further increase money supply or reduce the interest rate but to raise inflation expectations by raising the nominal interest rate. If LSAP policies are reversed and the money supply decreases as the Fed sells assets in the marketplace, the nominal interest rate will increase and investors will be more likely to shift their portfolios away from cash toward interest-bearing assets. If demand for money decreases more than proportional to the decrease in money supply due to upward pressure on the interest rate, inflation will increase. In other words, **only when financial assets become more attractive than cash can the aggregate price level increase.**\n",
      "\n"
     ]
    },
    {
     "cell_type": "code",
     "collapsed": false,
     "input": [
      "#  Flow has obviously shifted to equities (record highs), \n",
      "#  but let's look at the classic risk-free financial asset:\n",
      "#  90-day T-bills\n",
      "bills = getfred(m4bills)"
     ],
     "language": "python",
     "metadata": {},
     "outputs": [],
     "prompt_number": 2
    },
    {
     "cell_type": "code",
     "collapsed": false,
     "input": [
      "plotfred(bills['2007':])"
     ],
     "language": "python",
     "metadata": {},
     "outputs": [
      {
       "metadata": {},
       "output_type": "display_data",
       "png": "[encoded data removed]",
       "text": [
        "<matplotlib.figure.Figure at 0xae69e20c>"
       ]
      },
      {
       "output_type": "stream",
       "stream": "stdout",
       "text": [
        " ::  Finished: plotdf-tmp.png\n"
       ]
      }
     ],
     "prompt_number": 5
    },
    {
     "cell_type": "code",
     "collapsed": false,
     "input": [
      "#  T-bill stats post-2010\n",
      "stats(bills['2010':])"
     ],
     "language": "python",
     "metadata": {},
     "outputs": [
      {
       "output_type": "stream",
       "stream": "stdout",
       "text": [
        "               Y\n",
        "count  56.000000\n",
        "mean    0.076786\n",
        "std     0.045492\n",
        "min     0.010000\n",
        "25%     0.040000\n",
        "50%     0.070000\n",
        "75%     0.102500\n",
        "max     0.160000\n",
        "\n",
        " ::  Index on min:\n",
        "Y   2011-09-01\n",
        "dtype: datetime64[ns]\n",
        "\n",
        " ::  Index on max:\n",
        "Y   2010-04-01\n",
        "dtype: datetime64[ns]\n",
        "\n",
        " ::  Tail:\n",
        "               Y\n",
        "T               \n",
        "2014-02-01  0.05\n",
        "2014-03-01  0.05\n",
        "2014-04-01  0.03\n",
        "2014-05-01  0.03\n",
        "2014-06-01  0.04\n",
        "2014-07-01  0.03\n",
        "2014-08-01  0.03"
       ]
      },
      {
       "output_type": "stream",
       "stream": "stdout",
       "text": [
        "\n",
        "\n",
        " ::  Correlation matrix:\n",
        "   Y\n",
        "Y  1\n"
       ]
      }
     ],
     "prompt_number": 6
    },
    {
     "cell_type": "markdown",
     "metadata": {},
     "source": [
      "The annual average return for Treasury bills since 2010 is a mere 8 bp. (So \\$100,000 only yields \\$80 annually -- and, any reasonable fees would certainly wipe out interest income!)"
     ]
    },
    {
     "cell_type": "heading",
     "level": 2,
     "metadata": {},
     "source": [
      "Concluding remarks"
     ]
    },
    {
     "cell_type": "markdown",
     "metadata": {},
     "source": [
      "Of course, this type of *policy-reinforced liquidity trap would take place only if the economy is in a deep recession in the first place. If the economy is not in a recession, monetary injections should lead to more inflation instead of less inflation because a lower interest rate generally reduces people's incentive to save and increases their incentive to spend.*\n",
      "\n",
      "The irony is that expansionary monetary policy is often called for only when the economy is in a recession. This policy dilemma makes economics a dismal science. One way to escape from it is to use expansionary fiscal policy (as suggested by the economist John Maynard Keynes). However, with the already high level of government debt across industrial countries, it takes courage and vision to implement bold expansionary fiscal policies."
     ]
    },
    {
     "cell_type": "code",
     "collapsed": false,
     "input": [],
     "language": "python",
     "metadata": {},
     "outputs": []
    }
   ],
   "metadata": {}
  }
 ]
}