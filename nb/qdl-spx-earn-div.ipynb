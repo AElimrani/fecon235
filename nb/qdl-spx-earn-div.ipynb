{
 "cells": [
  {
   "cell_type": "markdown",
   "metadata": {},
   "source": [
    "# Equities: enterprise and speculative returns\n",
    "\n",
    "We first construct a model for equity principal returns\n",
    "by decomposition into enterprise and speculative returns.\n",
    "That model is then tested using S&P 500 data going back\n",
    "to 1871 (well-known database assembled by Robert Shiller).\n",
    "\n",
    "We find that the percentage approximation model is\n",
    "not appropriate as the time horizon increases.\n",
    "In contrast, the exactitude of the logarithmic model\n",
    "is demonstrated by multivariate regression.\n",
    "\n",
    "The enterprise and speculative returns are then\n",
    "plotted to understand their respective relationship\n",
    "to price dynamics. The Great Recession produced\n",
    "spikes in the data unlike any other in history.\n",
    "\n",
    "Total return is therefore the sum of returns based on\n",
    "enterprise, speculation, and dividends.\n",
    "We examine the dividend payout ratio relative\n",
    "to earnings, and find a local estimate for forecasting.\n",
    "\n",
    "Finally we demonstrate forecasting using the above\n",
    "decomposition of returns and the most recent data.\n",
    "Then those results are compared to an univariate\n",
    "Holt-Winters time-series model in Appendix 1.\n",
    "\n",
    "Appendices 2 and 3 covers the historical characteristics\n",
    "of the three separable components of total return.\n",
    "\n",
    "Reference section also relates our findings to Bogle (2015)."
   ]
  },
  {
   "cell_type": "markdown",
   "metadata": {},
   "source": [
    "*Dependencies:*\n",
    "\n",
    "- Repository: https://github.com/rsvp/fecon235\n",
    "- Python: matplotlib, pandas\n",
    "\n",
    "*CHANGE LOG*\n",
    "\n",
    "    2016-03-18  Rough draft, test data source directly."
   ]
  },
  {
   "cell_type": "code",
   "execution_count": null,
   "metadata": {
    "collapsed": true
   },
   "outputs": [],
   "source": [
    "from fecon235.fecon235 import *"
   ]
  },
  {
   "cell_type": "code",
   "execution_count": null,
   "metadata": {
    "collapsed": false
   },
   "outputs": [],
   "source": [
    "#  PREAMBLE-p6.15.1223 :: Settings and system details\n",
    "from __future__ import absolute_import, print_function\n",
    "system.specs()\n",
    "pwd = system.getpwd()   # present working directory as variable.\n",
    "print(\" ::  $pwd:\", pwd)\n",
    "#  If a module is modified, automatically reload it:\n",
    "%load_ext autoreload\n",
    "%autoreload 2\n",
    "#       Use 0 to disable this feature.\n",
    "\n",
    "#  Notebook DISPLAY options:\n",
    "#      Represent pandas DataFrames as text; not HTML representation:\n",
    "import pandas as pd\n",
    "pd.set_option( 'display.notebook_repr_html', False )\n",
    "#  Beware, for MATH display, use %%latex, NOT the following:\n",
    "#                   from IPython.display import Math\n",
    "#                   from IPython.display import Latex\n",
    "from IPython.display import HTML # useful for snippets\n",
    "#  e.g. HTML('<iframe src=http://en.mobile.wikipedia.org/?useformat=mobile width=700 height=350></iframe>')\n",
    "from IPython.display import Image \n",
    "#  e.g. Image(filename='holt-winters-equations.png', embed=True) # url= also works\n",
    "from IPython.display import YouTubeVideo\n",
    "#  e.g. YouTubeVideo('1j_HxD4iLn8', start='43', width=600, height=400)\n",
    "from IPython.core import page\n",
    "get_ipython().set_hook('show_in_pager', page.as_hook(page.display_page), 0)\n",
    "#  Or equivalently in config file: \"InteractiveShell.display_page = True\", \n",
    "#  which will display results in secondary notebook pager frame in a cell.\n",
    "\n",
    "#  Generate PLOTS inside notebook, \"inline\" generates static png:\n",
    "%matplotlib inline   \n",
    "#          \"notebook\" argument allows interactive zoom and resize."
   ]
  },
  {
   "cell_type": "markdown",
   "metadata": {},
   "source": [
    "## Model without interest rates\n",
    "\n",
    "We will test a model for equity returns which shall\n",
    "exclude the usual considerations for interest rates,\n",
    "the discounting of dividends, and the so-called \"equity premium.\"\n",
    "\n",
    "Let us begin with the obvious:\n",
    "\n",
    "$$ p_t = x_t s_t \\qquad\\hbox{where}\\quad  s_t = p_t / x_t $$\n",
    "\n",
    "Price per share at time t will be represented by $p_t$,\n",
    "and the earnings per share by $x_t$.\n",
    "Thus $s_t$ is the usual price/earnings ratio."
   ]
  },
  {
   "cell_type": "markdown",
   "metadata": {},
   "source": [
    "Taking the log of both sides, we can get two equations for different epochs:\n",
    "\n",
    "$$ \\eqalign{ \\log p_t &= \\log x_t + \\log s_t \\cr\n",
    "   \\log p_{t-n} &= \\log x_{t-n} + \\log s_{t-n} \\cr}$$\n",
    "   \n",
    "Subtracting the second equation from the first, given $n > 0$, we obtain:\n",
    "\n",
    "$$ \\eqalign{ \\log {p_t \\over p_{t-n}} &= \\log {x_t \\over x_{t-n}} + \\log {s_t \\over s_{t-n}} \\cr\n",
    "   P_t &= X_t + S_t \\qquad\\hbox{for some implicit  } n.\\cr }$$"
   ]
  },
  {
   "cell_type": "markdown",
   "metadata": {},
   "source": [
    "Note for small $\\psi$: $\\log(1+\\psi) \\approx \\psi$, where $\\psi$\n",
    "can be expressed in percentage terms.\n",
    "The capitalized variables thus can be approximately interpreted as follows:\n",
    "percentage *price change* $P_t$ is equal to percentage *earnings growth* $X_t$\n",
    "plus the percentage *change in price/earnings ratio* $S_t$ --\n",
    "over $n$ periods.\n",
    "\n",
    "As we shall see, $X_t$ can be interpreted as **enterprise return**,\n",
    "whereas $S_t$ can be characterized as **speculative return**."
   ]
  },
  {
   "cell_type": "markdown",
   "metadata": {},
   "source": [
    "## Data specification and retrieval\n",
    "\n",
    "We shall rely upon Quandl [MULTPL](https://www.quandl.com/data/MULTPL)\n",
    "database which keeps current the famous series made public by\n",
    "Robert [Schiller](http://www.econ.yale.edu/~shiller/data.htm)\n",
    "in his Nobel prize-winning work. Schiller keeps his data\n",
    "in an [Excel spreadsheet](http://www.econ.yale.edu/~shiller/data/ie_data.xls),\n",
    "but our downloaded data will be in pandas Dataframe format.\n",
    "We have also doubled-checked the data with CSV formatted\n",
    "[okfn.org](http://data.okfn.org/data/core/s-and-p-500)\n",
    "and its GitHub [datasets](https://github.com/datasets/s-and-p-500)\n",
    "repository.\n",
    "\n",
    "Here is **Schiller's description of the data:**\n",
    "\"Stock market data used in my book, *Irrational Exuberance*\n",
    "[Princeton University Press 2000, Broadway Books 2001, 2nd ed., 2005]\n",
    "are available for download: U.S. Stock Markets 1871-Present and CAPE Ratio.\n",
    "This data set consists of **monthly** stock price, dividends, and earnings\n",
    "data and the consumer price index (to allow conversion to real values),\n",
    "all **starting January 1871**. The price, dividend, and earnings series\n",
    "are from the same sources as described in Chapter 26 of my earlier book\n",
    "(*Market Volatility* [Cambridge, MA: MIT Press, 1989]),\n",
    "although now I use monthly data, rather than annual data.\n",
    "Monthly dividend and earnings data are computed from the\n",
    "S&P four-quarter totals for the quarter since 1926,\n",
    "with linear interpolation to monthly figures.\n",
    "Dividend and earnings data before 1926 are from Cowles and associates, \n",
    "*Common Stock Indexes* [2nd ed. Principia Press 1939],\n",
    "interpolated from annual data.\n",
    "Stock price data are monthly averages of daily closing prices.\"\n",
    "\n",
    "For our earnings data, we shall ignore Schiller's CAPE ratio,\n",
    "and instead derive the raw data from price/earning ratios."
   ]
  },
  {
   "cell_type": "code",
   "execution_count": null,
   "metadata": {
    "collapsed": false
   },
   "outputs": [],
   "source": [
    "#  We shall use quandlcode of monthly frequency:\n",
    "s = getqdl( 'MULTPL/SP500_PE_RATIO_MONTH' )\n",
    "\n",
    "\n",
    "p  = getqdl( 'MULTPL/SP500_REAL_PRICE_MONTH' )\n",
    "#                          ^But they meant NOMINAL!\n",
    "#  Their inflation-adjusted monthly series is called\n",
    "#  MULTPL/SP500_INFLADJ_MONTH\n",
    "\n",
    "#  We want non-inflation adjusted data for this notebook."
   ]
  },
  {
   "cell_type": "code",
   "execution_count": null,
   "metadata": {
    "collapsed": true
   },
   "outputs": [],
   "source": [
    "#  Get the plain earnings -- which trails over 12-months:\n",
    "x  = todf( p / s )"
   ]
  },
  {
   "cell_type": "code",
   "execution_count": null,
   "metadata": {
    "collapsed": true
   },
   "outputs": [],
   "source": [
    "#  Apply numpy log transform, base e:\n",
    "plog = np.log( p )\n",
    "xlog = np.log( x )\n",
    "slog = np.log( s )"
   ]
  },
  {
   "cell_type": "markdown",
   "metadata": {},
   "source": [
    "### Shape the data: endpoints, n, and transform methods\n",
    "\n",
    "Begin specific tests from the next cell:"
   ]
  },
  {
   "cell_type": "code",
   "execution_count": null,
   "metadata": {
    "collapsed": true
   },
   "outputs": [],
   "source": [
    "#  RE-RUN the REGRESSION starting from this cell, varying specs:\n",
    "\n",
    "#  Raw data starts 1871-01-01, but shall allow lags up to 24 months:\n",
    "\n",
    "start = '1873-01-01'\n",
    "end   = '2020-01-01'\n",
    "\n",
    "#  Compute percentage change over freq of n periods:\n",
    "\n",
    "n = 12\n",
    "\n",
    "#  Percentage transform is approximate, but widely used,\n",
    "#  whereas logarithmic transform gives exact results.\n",
    "transform = \"%\"\n",
    "transform = \"log\""
   ]
  },
  {
   "cell_type": "code",
   "execution_count": null,
   "metadata": {
    "collapsed": false
   },
   "outputs": [],
   "source": [
    "## This is the approximate PERCENTAGE transforms: \n",
    "\n",
    "if transform == \"%\":\n",
    "    P  = div( pcent(p, n), n ) * 12\n",
    "    X  = div( pcent(x, n), n ) * 12\n",
    "    S  = div( pcent(s, n), n ) * 12\n",
    "\n",
    "#  div() is our numpy function for Python 2 and 3 division.\n",
    "#  The div() and the 12 annualizes the percentage."
   ]
  },
  {
   "cell_type": "code",
   "execution_count": null,
   "metadata": {
    "collapsed": false
   },
   "outputs": [],
   "source": [
    "## This is the exact LOG differencing transforms: \n",
    "\n",
    "if transform == \"log\":\n",
    "    P  = div( dif(plog, n), n ) * 12\n",
    "    X  = div( dif(xlog, n), n ) * 12\n",
    "    S  = div( dif(slog, n), n ) * 12\n",
    "\n",
    "#  div() is our numpy function for Python 2 and 3 division.\n",
    "#  The div() and the 12 annualizes the result."
   ]
  },
  {
   "cell_type": "code",
   "execution_count": null,
   "metadata": {
    "collapsed": false
   },
   "outputs": [],
   "source": [
    "#  Create a mega Dataframe:\n",
    "mega = paste([ p, x, s, P, X, S ])\n",
    "\n",
    "#  Then name the columns:\n",
    "mega.columns = [\"p\", \"x\", \"s\", \"P\", \"X\", \"S\"]"
   ]
  },
  {
   "cell_type": "code",
   "execution_count": null,
   "metadata": {
    "collapsed": false,
    "scrolled": true
   },
   "outputs": [],
   "source": [
    "stats( mega )"
   ]
  },
  {
   "cell_type": "markdown",
   "metadata": {
    "collapsed": true
   },
   "source": [
    "## Apply regression to test  model\n",
    "\n",
    "The correlation matrix above gives us some partial insight\n",
    "into pairwise relationships. We would expect P and X\n",
    "to be strongly correlated.\n",
    "\n",
    "Next we conduct a multivariate regression by specifying the\n",
    "form of the theoretical model. We suppress estimation of\n",
    "the intercept by using \"0\" within regressformula().\n",
    "Obviously, we are the coefficients for X and S should\n",
    "to be close to 1 -- but the results are quite unexpected."
   ]
  },
  {
   "cell_type": "code",
   "execution_count": null,
   "metadata": {
    "collapsed": false
   },
   "outputs": [],
   "source": [
    "# Get more info on regression by: regressformula??\n",
    "\n",
    "result = regressformula( mega[start:end], \"P ~ 0 + X + S\" )\n",
    "#                            ^possible truncation of Dataframe"
   ]
  },
  {
   "cell_type": "code",
   "execution_count": null,
   "metadata": {
    "collapsed": false
   },
   "outputs": [],
   "source": [
    "print( result.summary() )"
   ]
  },
  {
   "cell_type": "code",
   "execution_count": null,
   "metadata": {
    "collapsed": false
   },
   "outputs": [],
   "source": [
    "print(\"Confirming: transform=\", transform, \", n=\", n, \", start=\", start, \", end=\", end)"
   ]
  },
  {
   "cell_type": "markdown",
   "metadata": {},
   "source": [
    "## Warning: percentage approximation is terrrible\n",
    "\n",
    "In many studies, the percentage approximation is used to examine returns,\n",
    "perhaps because conceptually it is readily understood.\n",
    "By executing the above regression while *commenting out* the **transform=\"log\"** line,\n",
    "we can replicate the following results for various n values. As n increases,\n",
    "the R-squared statistic worsens considerably and the coefficients deviate farther away\n",
    "from the theoretical value of 1. Let $\\varepsilon_t$ be the estimation error, then:\n",
    "\n",
    "$$\\eqalign{\n",
    "\\varepsilon_t &= \\hat{P_t} - P_t \\cr\n",
    "\\hat{P_t} &= 0.78 X_t + 0.91 S_t + \\varepsilon_t \\qquad \\hbox{for  } n=1 \\quad R^2=0.90 \\cr\n",
    "\\hat{P_t} &= 0.41 X_t + 0.61 S_t + \\varepsilon_t \\qquad \\hbox{for  } n=3 \\quad R^2=0.57 \\cr\n",
    "\\hat{P_t} &= 0.19 X_t + 0.30 S_t + \\varepsilon_t \\qquad \\hbox{for  } n=6 \\quad R^2=0.27 \\cr\n",
    "\\hat{P_t} &= 0.15 X_t + 0.23 S_t + \\varepsilon_t \\qquad \\hbox{for  } n=12 \\quad R^2=0.21 \\cr\n",
    "}$$\n",
    "\n",
    "The errors can be traced to the data reality that $\\psi$\n",
    "cannot be assumed to be small, for there were indeed some\n",
    "extreme changes in the course of 143 years.\n",
    "Lengthening $n$ also contributes to violating that\n",
    "numerical approximation."
   ]
  },
  {
   "cell_type": "markdown",
   "metadata": {},
   "source": [
    "## Exact results using log transform\n",
    "\n",
    "Thankfully the data (and algorithms) confirm the mathematical\n",
    "derivation of our model when the **transform=\"log\"** line is in effect:\n",
    "\n",
    "$$\\eqalign{\n",
    "\\hat{P_t} &= 1.00 X_t + 1.00 S_t + \\varepsilon_t \\qquad \\hbox{for all  } n \\quad R^2=1.00 \\cr\n",
    "}$$\n",
    "\n",
    "Increasing $n$ has no effect on our results, which was entirely expected.\n",
    "This can be verified by re-executing the appropriate sections\n",
    "of this notebook with different parameters.\n",
    "\n",
    "In view of our findings, we make the this revision:\n",
    "**the *logarithmic* price change $P_t$ is *exactly* equal to the\n",
    "*logarithmic* earnings change $X_t$\n",
    "plus the change in *logarithmic* price/earnings ratio $S_t$ --\n",
    "over $n$ periods.**\n",
    "\n",
    "The pairwise correlations, however, were somewhat surprisingly low.\n",
    "For example, for $n=12$, the correlation between $P_t$ and $X_t$\n",
    "was 0.37, and the correlation between $P_t$ and $S_t$ was 0.28.\n",
    "But of course, as an ensemble, they mesh together perfectly."
   ]
  },
  {
   "cell_type": "markdown",
   "metadata": {},
   "source": [
    "## Further regarding X and S\n",
    "\n",
    "The two variables $X_t$ and $S_t$ have the same functional form\n",
    "and the same coefficient weights, yet\n",
    "the mean of the former is 0.03781 and\n",
    "the mean of the latter 0.00432,\n",
    "which differs by a factor of 8.75 (when $n=12$).\n",
    "This indicates variation in earnings contributes far more\n",
    "to price dynamics than variation in the price/earnings ratio.\n",
    "\n",
    "Since our data has monthly frequency, we shall focus on\n",
    "cases where $n$ is a multiple of 12.\n",
    "This is to mitigate the possibility of observing seasonal effects.\n",
    "\n",
    "Since the logarithms of the raw data are clearly crucial,\n",
    "let us see their stats:"
   ]
  },
  {
   "cell_type": "code",
   "execution_count": null,
   "metadata": {
    "collapsed": false
   },
   "outputs": [],
   "source": [
    "rawlog = paste([plog, xlog, slog])\n",
    "rawlog.columns = [\"pl\", \"xl\", \"sl\"]\n",
    "rawlog = rawlog[start:end]\n",
    "#  We intentionally use \"start\" and \"end\"\n",
    "#  to remain consistent with above analysis.\n",
    "\n",
    "stats( rawlog )"
   ]
  },
  {
   "cell_type": "markdown",
   "metadata": {},
   "source": [
    "Next we visualise their history:"
   ]
  },
  {
   "cell_type": "code",
   "execution_count": null,
   "metadata": {
    "collapsed": false
   },
   "outputs": [],
   "source": [
    "plot( rawlog.pl )"
   ]
  },
  {
   "cell_type": "code",
   "execution_count": null,
   "metadata": {
    "collapsed": false
   },
   "outputs": [],
   "source": [
    "plot( rawlog.xl )"
   ]
  },
  {
   "cell_type": "code",
   "execution_count": null,
   "metadata": {
    "collapsed": false
   },
   "outputs": [],
   "source": [
    "plot( rawlog.sl )"
   ]
  },
  {
   "cell_type": "markdown",
   "metadata": {},
   "source": [
    "Looking for possible outliers, we are struck by the violent downward spike\n",
    "occuring during the Great Recession in the earnings data.\n",
    "\n",
    "Looking for possible trends, we can see how the price dynamics\n",
    "is fundamentally related to earnings growth. In fact,\n",
    "the **correlation between pl and xl is 0.98** -- which\n",
    "justifies calling *earnings growth* $X_t$: the **enterprise return**\n",
    "portion of total return (to be discussed in the final sections).\n",
    "\n",
    "Prior to 1989, sl looked almost trendless, bouncing roughly\n",
    "between 2 and 3. Now raw s is the price/earnings ratio,\n",
    "which is basically the multiplier to earnings at which\n",
    "an \"investor\" has implicitly paid at market.\n",
    "That investor's optimism for further growth perhaps can\n",
    "be encapsulated by the change in valuation as\n",
    "change in the price/earnings rato.\n",
    "This is the reason behind calling $S_t$\n",
    "the **speculative return**."
   ]
  },
  {
   "cell_type": "code",
   "execution_count": null,
   "metadata": {
    "collapsed": false
   },
   "outputs": [],
   "source": [
    "#  This is raw price/earnings:\n",
    "stat( s )"
   ]
  },
  {
   "cell_type": "markdown",
   "metadata": {},
   "source": [
    "The max on raw price/earnings is 123.73 which is not an\n",
    "outlier but due to the dramatic drop in earnings\n",
    "during the Great Recession (quite evident from the plots).\n",
    "By moderating the time window to before the year 2000, we estimate the\n",
    "all-time mean price/earnings to be around 15\n",
    "(note $log 15 = 2.71$ and our remark on trendless sl),\n",
    "and see the standard deviation drop from\n",
    "8.4 to 4.6."
   ]
  },
  {
   "cell_type": "code",
   "execution_count": null,
   "metadata": {
    "collapsed": false
   },
   "outputs": [],
   "source": [
    "stat( s[:'2000'] )"
   ]
  },
  {
   "cell_type": "markdown",
   "metadata": {},
   "source": [
    "## Dividends\n",
    "\n",
    "Roughly speaking, dividends are taken out of earnings and paid out to investors.\n",
    "We now recover the raw data."
   ]
  },
  {
   "cell_type": "code",
   "execution_count": null,
   "metadata": {
    "collapsed": false
   },
   "outputs": [],
   "source": [
    "#  We shall use quandlcode of monthly frequency:\n",
    "dyield = getqdl( \"MULTPL/SP500_DIV_YIELD_MONTH\" )"
   ]
  },
  {
   "cell_type": "code",
   "execution_count": null,
   "metadata": {
    "collapsed": true
   },
   "outputs": [],
   "source": [
    "#  Unfortunately, dyield uses last day of month convention,\n",
    "#  instead of first day of month like s and p, therefore:\n",
    "dyield = dyield.set_index(pd.DatetimeIndex([i.replace(day=1) for i in dyield.index]))"
   ]
  },
  {
   "cell_type": "code",
   "execution_count": null,
   "metadata": {
    "collapsed": true
   },
   "outputs": [],
   "source": [
    "#  dyield is in percentage terms, thus we will\n",
    "#  need to convert to obtain raw dividend data.\n",
    "d = todf((dyield / 100.00) * p)"
   ]
  },
  {
   "cell_type": "code",
   "execution_count": null,
   "metadata": {
    "collapsed": false
   },
   "outputs": [],
   "source": [
    "## Uncomment to see raw 12-month dividend:\n",
    "#  d"
   ]
  },
  {
   "cell_type": "code",
   "execution_count": null,
   "metadata": {
    "collapsed": false
   },
   "outputs": [],
   "source": [
    "#  We want to compute the PAYOUT ratio = dividends/earnings\n",
    "divearn = todf( d / x )"
   ]
  },
  {
   "cell_type": "code",
   "execution_count": null,
   "metadata": {
    "collapsed": false
   },
   "outputs": [],
   "source": [
    "## Uncomment to see payout ratio data:\n",
    "#  divearn"
   ]
  },
  {
   "cell_type": "code",
   "execution_count": null,
   "metadata": {
    "collapsed": false
   },
   "outputs": [],
   "source": [
    "plot( divearn )"
   ]
  },
  {
   "cell_type": "code",
   "execution_count": null,
   "metadata": {
    "collapsed": false
   },
   "outputs": [],
   "source": [
    "stat( divearn )"
   ]
  },
  {
   "cell_type": "markdown",
   "metadata": {},
   "source": [
    "On average, we would expect divearn to be less than 1, since\n",
    "earnings are the main source for paying out the dividends.\n",
    "\n",
    "Sometimes, however, firms may hold steady their dividends\n",
    "while earnings plunge -- for example, during the\n",
    "Great Recession, the payout ratio went as high as 4.\n",
    "But as the plot shows this is highly unusual.\n",
    "\n",
    "Historically we can observe a slight downward trend in the payout ratio\n",
    "over the very long-term. The mean payout ratio is 0.61."
   ]
  },
  {
   "cell_type": "markdown",
   "metadata": {},
   "source": [
    "# TOTAL RETURN for equities\n",
    "\n",
    "The total return $T_t$ for equities is composed of the logarithmic price change\n",
    "plus the dividend yield, over $n$ periods. We shall let $\\lambda$ be\n",
    "the dividend payout ratio relative to earnings $x_i$,\n",
    "such that the index $i$ is understood to cover periods $t-n$ through $t$.\n",
    "Thus, we can write:\n",
    "\n",
    "$$ T_t = P_t + {{\\lambda \\sum x_i } \\over p_{t-n}} $$\n",
    "\n",
    "Inserting our model in place of $P_t$, we obtain total return as follows:\n",
    "\n",
    "$$ T_t = X_t + S_t + {{\\lambda \\sum x_i } \\over p_{t-n}} $$"
   ]
  },
  {
   "cell_type": "markdown",
   "metadata": {},
   "source": [
    "# Forecasting total return\n",
    "\n",
    "The term lambda $\\lambda$ should be a stochastic variable, but we shall\n",
    "simplify it to a some constant as an approximation.\n",
    "We utilize the median, rather than the mean, since\n",
    "that is a far more robust statistic.\n",
    "\n",
    "To estimate the other variables we localize our data to\n",
    "the last three years, which gives 36 monthly points of data."
   ]
  },
  {
   "cell_type": "code",
   "execution_count": null,
   "metadata": {
    "collapsed": true
   },
   "outputs": [],
   "source": [
    "#  For localizing forecasts:\n",
    "nlocal = 36"
   ]
  },
  {
   "cell_type": "markdown",
   "metadata": {},
   "source": [
    "### Estimating future dividend yield"
   ]
  },
  {
   "cell_type": "code",
   "execution_count": null,
   "metadata": {
    "collapsed": false
   },
   "outputs": [],
   "source": [
    "#  Estimated local lambda:\n",
    "Elambda = np.median( tail(divearn, nlocal) )\n",
    "Elambda"
   ]
  },
  {
   "cell_type": "code",
   "execution_count": null,
   "metadata": {
    "collapsed": false
   },
   "outputs": [],
   "source": [
    "#  Estimated dividend yield:\n",
    "Edyield = Elambda * (tailvalue(x) / tailvalue(p))\n",
    "Edyield"
   ]
  },
  {
   "cell_type": "markdown",
   "metadata": {},
   "source": [
    "### Estimating earning growth\n",
    "\n",
    "We tested our model using the change in logarithmic earnings,\n",
    "but here we take a shortcut by using the geometric mean return\n",
    "on the localized raw data."
   ]
  },
  {
   "cell_type": "code",
   "execution_count": null,
   "metadata": {
    "collapsed": false
   },
   "outputs": [],
   "source": [
    "#  Get more info by executing: georet??\n",
    "Xgeoret = georet( tail(x, nlocal), yearly=12 )\n",
    "Xgeoret"
   ]
  },
  {
   "cell_type": "code",
   "execution_count": null,
   "metadata": {
    "collapsed": false
   },
   "outputs": [],
   "source": [
    "#  Geometric return was expressed in percentage terms,\n",
    "#  so here our estimator for big X:\n",
    "EX = Xgeoret[0] / 100.00\n",
    "EX"
   ]
  },
  {
   "cell_type": "markdown",
   "metadata": {},
   "source": [
    "### Estimating growth of price/earnings ratio\n",
    "\n",
    "We tested our model using the change in logarithmic price/earnings ratio,\n",
    "but here we take a shortcut by using the geometric mean return\n",
    "on the localized raw data."
   ]
  },
  {
   "cell_type": "code",
   "execution_count": null,
   "metadata": {
    "collapsed": false
   },
   "outputs": [],
   "source": [
    "#  yearly argument in georet annualizes:\n",
    "Sgeoret = georet( tail(s, nlocal), yearly=12 )\n",
    "Sgeoret"
   ]
  },
  {
   "cell_type": "code",
   "execution_count": null,
   "metadata": {
    "collapsed": false
   },
   "outputs": [],
   "source": [
    "#  Geometric return was expressed in percentage terms,\n",
    "#  so here our estimator for big S:\n",
    "ES = Sgeoret[0] / 100.00\n",
    "ES"
   ]
  },
  {
   "cell_type": "markdown",
   "metadata": {},
   "source": [
    "## Combining the estimates for a forecast\n",
    "\n",
    "In terms of our Python variables, here is our model:\n",
    "\n",
    "$$ \\hat{T} = \\hat{X} + \\hat{S} + \\hat{dy} $$\n",
    "\n",
    "where an \"E\" prefix is used to represent estimated hat variables."
   ]
  },
  {
   "cell_type": "code",
   "execution_count": null,
   "metadata": {
    "collapsed": false
   },
   "outputs": [],
   "source": [
    "# FORECAST of TOTAL RETURN, finally...\n",
    "ET = EX + ES + Edyield\n",
    "ET"
   ]
  },
  {
   "cell_type": "markdown",
   "metadata": {},
   "source": [
    "### 2016-03-18 Commentary\n",
    "\n",
    "- **Total return for equities is forecasted at 8.76% per annum.**\n",
    "- However, speculative return ES is 67% responsible for that total return.\n",
    "- Enterprise return is weak: earnings growth is below the inflation rate!\n",
    "- Current price/earnings stands at 21.0 (compared to 15 historically).\n",
    "- Forecast is conditional on price/earnings increasing to 22.2 in a year.\n",
    "- Estimated dividend yield is 1.74% per annum."
   ]
  },
  {
   "cell_type": "code",
   "execution_count": null,
   "metadata": {
    "collapsed": false
   },
   "outputs": [],
   "source": [
    "#  Current price/earnings ratio:\n",
    "tailvalue( s )"
   ]
  },
  {
   "cell_type": "markdown",
   "metadata": {},
   "source": [
    "## Appendix 1: Comparison to univariate forecast\n",
    "\n",
    "Let us apply the Holt-Winters method to logarithmic price alone.\n",
    "This is a pure time-series technique for the purpose of comparison."
   ]
  },
  {
   "cell_type": "code",
   "execution_count": null,
   "metadata": {
    "collapsed": false
   },
   "outputs": [],
   "source": [
    "#  Forecast 12-months ahead:\n",
    "forecast( plog, h=12 )"
   ]
  },
  {
   "cell_type": "code",
   "execution_count": null,
   "metadata": {
    "collapsed": false
   },
   "outputs": [],
   "source": [
    "#  Forecast 12-months ahead:\n",
    "fc = forecast( plog, h=12 )"
   ]
  },
  {
   "cell_type": "code",
   "execution_count": null,
   "metadata": {
    "collapsed": false
   },
   "outputs": [],
   "source": [
    "#  Change in logarithmic price:\n",
    "fc.loc[12] - fc.loc[0]"
   ]
  },
  {
   "cell_type": "markdown",
   "metadata": {},
   "source": [
    "2016-03-18: The forecasted price return is about -5.31% per annum,\n",
    "so adding the estimated divident yield of +1.74%,\n",
    "the forecasted total return is -3.57%.\n",
    "Thus the univariate method differs considerably from\n",
    "our model which forecasted +8.76% for total return.\n",
    "\n",
    "*Averaging forecasts from different techniques usually increases accuracy.*\n",
    "Specifically here: the combined forecasts for total return\n",
    "is +2.6%.\n"
   ]
  },
  {
   "cell_type": "markdown",
   "metadata": {
    "collapsed": true
   },
   "source": [
    "## Appendix 2: Long-term enterprise and speculative returns"
   ]
  },
  {
   "cell_type": "code",
   "execution_count": null,
   "metadata": {
    "collapsed": false
   },
   "outputs": [],
   "source": [
    "#  Enterprise return since 1871:\n",
    "georet( x, yearly=12 )"
   ]
  },
  {
   "cell_type": "code",
   "execution_count": null,
   "metadata": {
    "collapsed": false
   },
   "outputs": [],
   "source": [
    "#  Speculative return since 1871:\n",
    "georet( s, yearly=12 )"
   ]
  },
  {
   "cell_type": "markdown",
   "metadata": {},
   "source": [
    "By examining their geometric mean returns,\n",
    "we see that enterprise returns (3.62%) contributes far more\n",
    "to the total return than speculative returns (0.42%).\n",
    "\n",
    "Our georet() also computes arithmetic mean return\n",
    "and its standard deviation (second and third\n",
    "elements respectively). Speculative returns\n",
    "contributes more volatility in observed\n",
    "total returns than enterprise returns."
   ]
  },
  {
   "cell_type": "markdown",
   "metadata": {},
   "source": [
    "## Appendix 3: Dividend yield historically\n",
    "\n",
    "Among the three components of total return,\n",
    "the dividend yield has on average has made\n",
    "the largest contribution historically.\n",
    "Also, it has never contributed negatively\n",
    "to total return."
   ]
  },
  {
   "cell_type": "code",
   "execution_count": null,
   "metadata": {
    "collapsed": false
   },
   "outputs": [],
   "source": [
    "#  Dividend yield here is expressed as percentage:\n",
    "stat( dyield )"
   ]
  },
  {
   "cell_type": "markdown",
   "metadata": {},
   "source": [
    "The average dividend yield since 1871 has been 4.4% per annum.\n",
    "But the plot of the exponentially smoothed values seems to\n",
    "indicate a steady decline over time.\n",
    "\n",
    "Continuance of such a decline in dividend yield would then make\n",
    "earnings growth the main driver of total return\n",
    "in the 21st century."
   ]
  },
  {
   "cell_type": "code",
   "execution_count": null,
   "metadata": {
    "collapsed": false
   },
   "outputs": [],
   "source": [
    "plot( ema(dyield, 0.10) )"
   ]
  },
  {
   "cell_type": "markdown",
   "metadata": {},
   "source": [
    "## References\n",
    "\n",
    "- Bogle, John C. and Michael W. Nolan, Jr., 2015, \"Occam’s Razor Redux: Establishing Reasonable Expectations for Financial Market Returns,\" *Journal of Portfolio Management* 42, 119-134. http://www.iijournals.com/doi/full/10.3905/jpm.2015.42.1.119 \n",
    "\n",
    "\n",
    "- Keynes, John Maynard, 1936, *General Theory of Employment, Interest, and Money*, MacMillan, London.\n",
    "\n",
    "Keynes (1936) enumerated two sources of stock returns: **enterprise** and **speculative**.\n",
    "Enterprise refers to the actual business results of corporations.\n",
    "Speculation, on the other hand, involved “forecasting the psychology of the market,”\n",
    "the ephemeral, emotional response of investors seeking to\n",
    "anticipate how other investors will react to particular events.\n",
    "\n",
    "Keynes made no known attempt to quantify the distinction between\n",
    "enterprise and speculation, so Bogle tackled the task\n",
    "by developing his BSRM/S model,\n",
    "\"*Bogle Sources of Return Model for Stocks*.\" \n",
    "\n",
    "Bogle (2015) states: *\"**The sheer simplicity of the BSRM/S commends it over\n",
    "highly complex models, none of which (as far as we can determine)\n",
    "has offered similar accuracy.**\"* This is quite a claim since Bogle\n",
    "has been involved in finance since 1951 (Princeton honors thesis),\n",
    "and is the founder of The Vanguard Group.\n",
    "\n",
    "Bogle (2015) does not show how he arrived at his model mathematically:\n",
    "\"Although we find this validation of the model gratifying,\n",
    "we suspect a fit this close to the actual total return has a lot to do with *luck*.\"\n",
    "Perhaps he was lucky in terms of realized out-of-samples results,\n",
    "but the analytics as shown in this notebook is sound.\n",
    "\n",
    "#### Summary\n",
    "\n",
    "John Bogle sought a deeper reasoning behind his expectations\n",
    "of future total return from a portfolio of equities.\n",
    "A sample explanation could be phrased as follows:\n",
    "\"I expect annual earning growth of 8%,\n",
    "and in ten years a terminal price/earning ratio of 14 --\n",
    "given that ratio is 15.5 currently,\n",
    "such a 1% reduction per annum will decrease\n",
    "the total return by like amount.\n",
    "Therefore, with a dividend yield of 3%,\n",
    "the my expected total return is 8% - 1% + 3% = 10%\n",
    "over the coming decade.\"\n",
    "\n",
    "This notebook shows the percentage approximate reasoning\n",
    "is prone is large errors, whereas a logarithmic version\n",
    "is exact. The data since 1871 allows us to examine\n",
    "the separable components of total return:\n",
    "enterprise and speculative returns, plus dividend yield.\n"
   ]
  },
  {
   "cell_type": "code",
   "execution_count": null,
   "metadata": {
    "collapsed": true
   },
   "outputs": [],
   "source": []
  }
 ],
 "metadata": {
  "kernelspec": {
   "display_name": "Python 2",
   "language": "python",
   "name": "python2"
  },
  "language_info": {
   "codemirror_mode": {
    "name": "ipython",
    "version": 2
   },
   "file_extension": ".py",
   "mimetype": "text/x-python",
   "name": "python",
   "nbconvert_exporter": "python",
   "pygments_lexer": "ipython2",
   "version": "2.7.11"
  }
 },
 "nbformat": 4,
 "nbformat_minor": 0
}
